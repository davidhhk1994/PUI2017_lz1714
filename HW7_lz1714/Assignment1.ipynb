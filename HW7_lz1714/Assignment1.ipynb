{
 "cells": [
  {
   "cell_type": "markdown",
   "metadata": {},
   "source": [
    "# Exploratory Analysis: Are 'Customer' More Likely to Use Citibike during Working Hours than 'Subscriber'?"
   ]
  },
  {
   "cell_type": "markdown",
   "metadata": {},
   "source": [
    "Lingyi Zhang (lz1714)"
   ]
  },
  {
   "cell_type": "markdown",
   "metadata": {},
   "source": [
    "Using Python3 Kernel"
   ]
  },
  {
   "cell_type": "code",
   "execution_count": 1,
   "metadata": {},
   "outputs": [],
   "source": [
    "from __future__ import print_function, division\n",
    "%matplotlib inline\n",
    "import os\n",
    "import sys\n",
    "import numpy as np\n",
    "import pandas as pd\n",
    "import matplotlib.pyplot as plt\n",
    "from scipy import stats\n",
    "from statsmodels.stats.proportion import proportions_ztest"
   ]
  },
  {
   "cell_type": "markdown",
   "metadata": {},
   "source": [
    "## Abstract\n",
    "In this study, we analyzed whether 'Customer' are more likely than 'Subscriber' to use Citibike during working hours (9:00 - 17:00). Using one-tailed Z-test and Chisq test, we found that the percentage of riders used CitiBike during working hours is significantly higher for 'Customer' than for 'Subscriber'."
   ]
  },
  {
   "cell_type": "markdown",
   "metadata": {},
   "source": [
    "## 1. Introduction\n",
    "CitiBike is a privately owned public bicycle sharing system serving New York City and Jersey City, New Jersey. [1] It is the nation's largest bike share program, with 10,000 bikes and 600 stations. There are two user types, 'Customer'(mainly visitors and tourists) and 'Subscriber' (mainly New York locals). [2] \n",
    "The question we want to answer in this article is that whether 'Customer' are more likely than 'Subscriber' to use Citibike during working hours (9:00 - 17:00).\n",
    "To know that can be helpful for CitiBike owner company (NYC Bike Share, LLC) to make their sales and operation strategies. For example, If we want to provide some targeted services or advertisement to the 'Customer'(Mainly visitors and tourists), this analysis can give the best time span of providing."
   ]
  },
  {
   "cell_type": "markdown",
   "metadata": {},
   "source": [
    "## 2. Data\n",
    "[CitiBike tripdata](\"https://s3.amazonaws.com/tripdata/index.html\") we used in this analysis is the data of January 2016. We converted the \"starttime\" column into datetime, which can be easily processed in pandas. We then aggregate the trip counts by hours, calculating the respective percentage of trips started during working hours (9:00 - 17:00) and resting hours (18:00 - 8:00) by \"Subscriber\" and \"Customer\". "
   ]
  },
  {
   "cell_type": "code",
   "execution_count": 2,
   "metadata": {},
   "outputs": [],
   "source": [
    "def getCitiBikeCSV(datestring):\n",
    "    ''' A function to download the data\n",
    "    but more complex command lines with variable \n",
    "    arguments need to be build as strng and run with os.system\n",
    "    this code cell does a lot of things: looks for existing files,\n",
    "    download a file if none is there, unzips it, moves it.\n",
    "    '''\n",
    "    print (\"Downloading\", datestring)\n",
    "    if not os.path.isfile(os.getenv(\"PUIDATA\") + \"/\" + datestring + \"-citibike-tripdata.csv\"):\n",
    "        if os.path.isfile(datestring + \"-citibike-tripdata.csv\"):\n",
    "            # if in the current dir just move it\n",
    "            if os.system(\"mv \" + datestring + \"-citibike-tripdata.csv \" + os.getenv(\"PUIDATA\")):\n",
    "                print (\"Error moving file!, Please check!\")\n",
    "        #otherwise start looking for the zip file\n",
    "        else:\n",
    "            if not os.path.isfile(os.getenv(\"PUIDATA\") + \"/\" + datestring + \"-citibike-tripdata.zip\"):\n",
    "                if not os.path.isfile(datestring + \"-citibike-tripdata.zip\"):\n",
    "                    os.system(\"curl -O https://s3.amazonaws.com/tripdata/\" + datestring + \"-citibike-tripdata.zip\")\n",
    "                ###  To move it I use the os.system() functions to run bash commands with arguments\n",
    "                os.system(\"mv \" + datestring + \"-citibike-tripdata.zip \" + os.getenv(\"PUIDATA\"))\n",
    "            ### unzip the csv \n",
    "            os.system(\"unzip \" + os.getenv(\"PUIDATA\") + \"/\" + datestring + \"-citibike-tripdata.zip\")\n",
    "            ## NOTE: old csv citibike data had a different name structure. \n",
    "            if '2014' in datestring:\n",
    "                os.system(\"mv \" + datestring[:4] + '-' +  datestring[4:] + \n",
    "                          \"\\ -\\ Citi\\ Bike\\ trip\\ data.csv \" + datestring + \"-citibike-tripdata.csv\")\n",
    "            os.system(\"mv \" + datestring + \"-citibike-tripdata.csv \" + os.getenv(\"PUIDATA\"))\n",
    "    ### One final check:\n",
    "    if not os.path.isfile(os.getenv(\"PUIDATA\") + \"/\" + datestring + \"-citibike-tripdata.csv\"):\n",
    "        print (\"WARNING!!! something is wrong: the file is not there!\")\n",
    "    else:\n",
    "        print (\"file in place, you can continue\")"
   ]
  },
  {
   "cell_type": "code",
   "execution_count": 3,
   "metadata": {},
   "outputs": [
    {
     "name": "stdout",
     "output_type": "stream",
     "text": [
      "Downloading 201601\n",
      "file in place, you can continue\n"
     ]
    }
   ],
   "source": [
    "#download\n",
    "datestring = '201601'\n",
    "getCitiBikeCSV(datestring)"
   ]
  },
  {
   "cell_type": "code",
   "execution_count": 4,
   "metadata": {},
   "outputs": [
    {
     "data": {
      "text/html": [
       "<div>\n",
       "<style scoped>\n",
       "    .dataframe tbody tr th:only-of-type {\n",
       "        vertical-align: middle;\n",
       "    }\n",
       "\n",
       "    .dataframe tbody tr th {\n",
       "        vertical-align: top;\n",
       "    }\n",
       "\n",
       "    .dataframe thead th {\n",
       "        text-align: right;\n",
       "    }\n",
       "</style>\n",
       "<table border=\"1\" class=\"dataframe\">\n",
       "  <thead>\n",
       "    <tr style=\"text-align: right;\">\n",
       "      <th></th>\n",
       "      <th>usertype</th>\n",
       "      <th>date</th>\n",
       "    </tr>\n",
       "  </thead>\n",
       "  <tbody>\n",
       "    <tr>\n",
       "      <th>0</th>\n",
       "      <td>Subscriber</td>\n",
       "      <td>2016-01-01 00:00:41</td>\n",
       "    </tr>\n",
       "    <tr>\n",
       "      <th>1</th>\n",
       "      <td>Subscriber</td>\n",
       "      <td>2016-01-01 00:00:45</td>\n",
       "    </tr>\n",
       "    <tr>\n",
       "      <th>2</th>\n",
       "      <td>Subscriber</td>\n",
       "      <td>2016-01-01 00:00:48</td>\n",
       "    </tr>\n",
       "    <tr>\n",
       "      <th>3</th>\n",
       "      <td>Subscriber</td>\n",
       "      <td>2016-01-01 00:01:06</td>\n",
       "    </tr>\n",
       "    <tr>\n",
       "      <th>4</th>\n",
       "      <td>Subscriber</td>\n",
       "      <td>2016-01-01 00:01:12</td>\n",
       "    </tr>\n",
       "  </tbody>\n",
       "</table>\n",
       "</div>"
      ],
      "text/plain": [
       "     usertype                date\n",
       "0  Subscriber 2016-01-01 00:00:41\n",
       "1  Subscriber 2016-01-01 00:00:45\n",
       "2  Subscriber 2016-01-01 00:00:48\n",
       "3  Subscriber 2016-01-01 00:01:06\n",
       "4  Subscriber 2016-01-01 00:01:12"
      ]
     },
     "execution_count": 4,
     "metadata": {},
     "output_type": "execute_result"
    }
   ],
   "source": [
    "#read data\n",
    "#this cell takes around 110 seconds to process, which is not good\n",
    "df = pd.read_csv(os.getenv(\"PUIDATA\") + \"/\" + datestring + '-citibike-tripdata.csv')\n",
    "df['date'] = pd.to_datetime(df['starttime'])\n",
    "df.drop(['tripduration', 'starttime', 'stoptime', 'start station id',\n",
    "       'start station name', 'start station latitude',\n",
    "       'start station longitude', 'end station id', 'end station name',\n",
    "       'end station latitude', 'end station longitude', 'bikeid',\n",
    "       'birth year', 'gender'], axis=1, inplace=True)\n",
    "df.head()"
   ]
  },
  {
   "cell_type": "code",
   "execution_count": 5,
   "metadata": {},
   "outputs": [
    {
     "data": {
      "text/plain": [
       "pandas._libs.tslib.Timestamp"
      ]
     },
     "execution_count": 5,
     "metadata": {},
     "output_type": "execute_result"
    }
   ],
   "source": [
    "type(df['date'][0])"
   ]
  },
  {
   "cell_type": "code",
   "execution_count": 6,
   "metadata": {},
   "outputs": [
    {
     "name": "stdout",
     "output_type": "stream",
     "text": [
      "total Subscriber: 484935\n",
      "total Customer: 24543\n"
     ]
    }
   ],
   "source": [
    "sumUsertype = df['usertype'].value_counts()\n",
    "sumUsertype.shape\n",
    "print('total Subscriber: {}'.format(sumUsertype.Subscriber))\n",
    "print('total Customer: {}'.format(sumUsertype.Customer))"
   ]
  },
  {
   "cell_type": "code",
   "execution_count": 7,
   "metadata": {},
   "outputs": [
    {
     "data": {
      "image/png": "[encoded data removed]",
      "text/plain": [
       "<matplotlib.figure.Figure at 0x10a732ac8>"
      ]
     },
     "metadata": {},
     "output_type": "display_data"
    },
    {
     "name": "stdout",
     "output_type": "stream",
     "text": [
      "Figure 1. Normalized distribution of CitiBike rider by user-type in different hours. From this figure, we can have a taste of the CitiBike usage pattern between two user-type. \"Subscriber\" have a lower percentage of rides from 10:00 to 17:00 and from 0:00 to 3:00 compared to \"Customer\".\n"
     ]
    }
   ],
   "source": [
    "#plot the normalized distribution\n",
    "fig = plt.figure(figsize=(15,10))\n",
    "\n",
    "countsSubs = df.date[df.usertype == 'Subscriber'].groupby(\n",
    "    [df['date'].dt.hour]).count()\n",
    "countsCust = df.date[df.usertype == 'Customer'].groupby(\n",
    "    [df['date'].dt.hour]).count()\n",
    "\n",
    "normSubs = countsSubs.sum()\n",
    "errorSubs = np.sqrt(countsSubs)\n",
    "ax = ((countsSubs) / normSubs).plot(kind=\"bar\", color='SteelBlue', alpha=0.5,  \n",
    "                           yerr=[((errorSubs) / normSubs, (errorSubs) / normSubs)], \n",
    "                           label='Subscriber')\n",
    "\n",
    "normCust = countsCust.sum()\n",
    "errorCust = np.sqrt(countsCust)\n",
    "ax = ((countsCust) / normCust).plot(kind=\"bar\", alpha=0.3, \n",
    "                                yerr=[((errorCust) / normCust, (errorCust) / normCust)], \n",
    "                                color='IndianRed', label='Customer')\n",
    "\n",
    "ax.set_ylabel (\"Percentage of rides\", fontsize = 20)\n",
    "ax.set_xlabel (\"Hour\", fontsize = 20)\n",
    "plt.title(\"Distribution of Citibike bikers by usertype in January 2016, normalized\", fontsize=22, y=1.04)\n",
    "plt.legend(['Subscriber','Customer'], fontsize=16)\n",
    "plt.savefig('Figure1')\n",
    "plt.show()\n",
    "print ('Figure 1. Normalized distribution of CitiBike rider by user-type ' +\n",
    "       'in different hours. From this figure, we can have a taste of ' +\n",
    "       'the CitiBike usage pattern between two user-type. \"Subscriber\" ' +\n",
    "       'have a lower percentage of rides from ' +\n",
    "       '10:00 to 17:00 and from 0:00 to 3:00 compared to \"Customer\".')"
   ]
  },
  {
   "cell_type": "code",
   "execution_count": 8,
   "metadata": {},
   "outputs": [],
   "source": [
    "#Subscriber and Customer using Citibike during working hours\n",
    "dfwork = df[(df['date'].dt.hour>8)&(df['date'].dt.hour<18)]\n",
    "Wsub = dfwork['usertype'][dfwork['usertype'] == 'Subscriber'].count()\n",
    "Wcus = dfwork['usertype'][dfwork['usertype'] == 'Customer'].count()"
   ]
  },
  {
   "cell_type": "code",
   "execution_count": 9,
   "metadata": {},
   "outputs": [],
   "source": [
    "#Subscriber and Customer using Citibike during resting hours\n",
    "dfrest = df[(df['date'].dt.hour<9)|(df['date'].dt.hour>17)]\n",
    "Rsub = dfrest['usertype'][dfrest['usertype'] == 'Subscriber'].count()\n",
    "Rcus = dfrest['usertype'][dfrest['usertype'] == 'Customer'].count()"
   ]
  },
  {
   "cell_type": "code",
   "execution_count": 10,
   "metadata": {},
   "outputs": [
    {
     "data": {
      "text/html": [
       "<div>\n",
       "<style scoped>\n",
       "    .dataframe tbody tr th:only-of-type {\n",
       "        vertical-align: middle;\n",
       "    }\n",
       "\n",
       "    .dataframe tbody tr th {\n",
       "        vertical-align: top;\n",
       "    }\n",
       "\n",
       "    .dataframe thead th {\n",
       "        text-align: right;\n",
       "    }\n",
       "</style>\n",
       "<table border=\"1\" class=\"dataframe\">\n",
       "  <thead>\n",
       "    <tr style=\"text-align: right;\">\n",
       "      <th></th>\n",
       "      <th>working hours</th>\n",
       "      <th>resting hours</th>\n",
       "    </tr>\n",
       "  </thead>\n",
       "  <tbody>\n",
       "    <tr>\n",
       "      <th>Subscriber</th>\n",
       "      <td>0.551577</td>\n",
       "      <td>0.448423</td>\n",
       "    </tr>\n",
       "    <tr>\n",
       "      <th>Customer</th>\n",
       "      <td>0.786497</td>\n",
       "      <td>0.213503</td>\n",
       "    </tr>\n",
       "  </tbody>\n",
       "</table>\n",
       "</div>"
      ],
      "text/plain": [
       "            working hours  resting hours\n",
       "Subscriber       0.551577       0.448423\n",
       "Customer         0.786497       0.213503"
      ]
     },
     "execution_count": 10,
     "metadata": {},
     "output_type": "execute_result"
    }
   ],
   "source": [
    "#the percentage table\n",
    "d = {'using CitiBike': ['Subscriber', 'Customer'],\n",
    "     'working hours': [Wsub/sumUsertype.Subscriber, Wcus/sumUsertype.Customer],\n",
    "     'resting hours': [Rsub/sumUsertype.Subscriber, Rcus/sumUsertype.Customer]}\n",
    "contiTable = pd.DataFrame(data=d, \n",
    "                    index=['Subscriber', 'Customer'],\n",
    "                    columns=['working hours',\n",
    "                             'resting hours'])\n",
    "contiTable.to_csv('contiTable.csv')\n",
    "contiTable"
   ]
  },
  {
   "cell_type": "markdown",
   "metadata": {},
   "source": [
    "From this table, a higher portion of 'Customer' is observed using CitiBike during working hours than the 'Subscriber'. In the following section, we will test whether this difference is statistically significant."
   ]
  },
  {
   "cell_type": "markdown",
   "metadata": {},
   "source": [
    "## 3. Methodology"
   ]
  },
  {
   "cell_type": "markdown",
   "metadata": {},
   "source": [
    "#### In both tests below, we assign $\\alpha = 0.05$"
   ]
  },
  {
   "cell_type": "markdown",
   "metadata": {},
   "source": [
    "Here we incorporated [Federica's suggestion](eeee) using Chisq test for proportion, because it is appropriate for testing hypotheses about proportions. \n",
    "\n",
    "We also did one-tailed Z-test. Because when data sample is large enough (defined as both np and n(1-p) are greater than or equal to 5), the binomial distribution comes to resemble the normal distribution. [3]\n",
    "\n",
    "In this analysis, we finally didn't use the [t-test suggested by Ian](eeee), because the sample size is large enough. We used Z test instead."
   ]
  },
  {
   "cell_type": "markdown",
   "metadata": {},
   "source": [
    "#### 3.1 Chisq test"
   ]
  },
  {
   "cell_type": "markdown",
   "metadata": {},
   "source": [
    "__Null hypothesis:__ The percentage of trips using Citibike during working hours is the same for 'subscriber' as for 'customer'. (Using Citibike during working hours and the user type are independent.)"
   ]
  },
  {
   "cell_type": "markdown",
   "metadata": {},
   "source": [
    "$Cust_{\\mathrm{WorkingTime}}$: The counts of ‘Customer’ using CitiBike during working hours.                                                \n",
    "$Subs_{\\mathrm{WorkingTime}}$: The counts of ‘Subscriber’ using CitiBike during working hours.                                                \n",
    "$Cust_{\\mathrm{All}}$: The counts of ‘Customer’ using CitiBike during the whole day.                                                \n",
    "$Subs_{\\mathrm{All}}$: The counts of ‘Subscriber’ using CitiBike during the whole day.                                                "
   ]
  },
  {
   "cell_type": "markdown",
   "metadata": {},
   "source": [
    "#### _$H_0$_ : $\\frac{Cust_{\\mathrm{WorkingTime}}}{Cust_{\\mathrm{All}}} = \\frac{Subs_{\\mathrm{WorkingTime}}}{Subs_{\\mathrm{All}}}$                                                                    \n",
    "#### _$H_a$_ : $\\frac{Cust_{\\mathrm{WorkingTime}}}{Cust_{\\mathrm{All}}} \\neq \\frac{Subs_{\\mathrm{WorkingTime}}}{Subs_{\\mathrm{All}}}$"
   ]
  },
  {
   "cell_type": "code",
   "execution_count": 11,
   "metadata": {},
   "outputs": [
    {
     "data": {
      "text/html": [
       "<div>\n",
       "<style scoped>\n",
       "    .dataframe tbody tr th:only-of-type {\n",
       "        vertical-align: middle;\n",
       "    }\n",
       "\n",
       "    .dataframe tbody tr th {\n",
       "        vertical-align: top;\n",
       "    }\n",
       "\n",
       "    .dataframe thead th {\n",
       "        text-align: right;\n",
       "    }\n",
       "</style>\n",
       "<table border=\"1\" class=\"dataframe\">\n",
       "  <thead>\n",
       "    <tr style=\"text-align: right;\">\n",
       "      <th></th>\n",
       "      <th>using CitiBike</th>\n",
       "      <th>working hours</th>\n",
       "      <th>resting hours</th>\n",
       "      <th>summary</th>\n",
       "    </tr>\n",
       "  </thead>\n",
       "  <tbody>\n",
       "    <tr>\n",
       "      <th>subscriber</th>\n",
       "      <td>subscriber</td>\n",
       "      <td>0.552*484935</td>\n",
       "      <td>0.448*484935</td>\n",
       "      <td>484935</td>\n",
       "    </tr>\n",
       "    <tr>\n",
       "      <th>customer</th>\n",
       "      <td>customer</td>\n",
       "      <td>0.786*24543</td>\n",
       "      <td>0.214*24543</td>\n",
       "      <td>24543</td>\n",
       "    </tr>\n",
       "    <tr>\n",
       "      <th>total</th>\n",
       "      <td>total</td>\n",
       "      <td>286782</td>\n",
       "      <td>222696</td>\n",
       "      <td>509478</td>\n",
       "    </tr>\n",
       "  </tbody>\n",
       "</table>\n",
       "</div>"
      ],
      "text/plain": [
       "           using CitiBike working hours resting hours summary\n",
       "subscriber     subscriber  0.552*484935  0.448*484935  484935\n",
       "customer         customer   0.786*24543   0.214*24543   24543\n",
       "total               total        286782        222696  509478"
      ]
     },
     "execution_count": 11,
     "metadata": {},
     "output_type": "execute_result"
    }
   ],
   "source": [
    "#the contingency table\n",
    "d = {'using CitiBike': ['subscriber', 'customer', 'total'],\n",
    "     'working hours': ['0.552*484935', '0.786*24543', '286782'],\n",
    "     'resting hours': ['0.448*484935', '0.214*24543', '222696'],\n",
    "     'summary': ['484935', '24543', '509478']}\n",
    "contiTable = pd.DataFrame(data=d, \n",
    "                    index=['subscriber', 'customer', 'total'],\n",
    "                    columns=['using CitiBike', 'working hours',\n",
    "                             'resting hours', 'summary'])\n",
    "contiTable.to_csv('contiTable2.csv')\n",
    "contiTable"
   ]
  },
  {
   "cell_type": "code",
   "execution_count": 12,
   "metadata": {},
   "outputs": [
    {
     "name": "stdout",
     "output_type": "stream",
     "text": [
      "chisq test statistic: 5198.869\n",
      "The critical value with alpha = 0.05, DF = 1 is: 3.841\n",
      "chisq test P-value: 0.000\n"
     ]
    }
   ],
   "source": [
    "#caculate chisq statistic, the critical value, and P-value\n",
    "obs = np.array([[0.552 * 484935, 0.448 * 484935],\n",
    "                [0.786 * 24543, 0.214 * 24543]])\n",
    "result = stats.chi2_contingency(obs)\n",
    "critiValue = stats.distributions.chi2.isf(0.05, 1, loc=0, scale=1)\n",
    "\n",
    "print ('chisq test statistic: {:.3f}'.format(result[0]))\n",
    "print ('The critical value with alpha = 0.05, DF = 1 is: {:.3f}'.\n",
    "       format(critiValue))\n",
    "print ('chisq test P-value: {:.3f}'.format(result[1]))"
   ]
  },
  {
   "cell_type": "markdown",
   "metadata": {},
   "source": [
    "With alpha = 0.05, we can reject the Null hypothesis. The percentage of trips using Citibike during working hours for 'subscriber' and 'customer' are not the same."
   ]
  },
  {
   "cell_type": "markdown",
   "metadata": {},
   "source": [
    "#### 3.2 one-tailed Z test"
   ]
  },
  {
   "cell_type": "markdown",
   "metadata": {},
   "source": [
    "__Null hypothesis:__  The percentage of trips using CitiBike during working hours is the same or lower for 'Customer' than for 'Subscriber'.  "
   ]
  },
  {
   "cell_type": "markdown",
   "metadata": {},
   "source": [
    "#### _$H_0$_ : $\\frac{Cust_{\\mathrm{WorkingTime}}}{Cust_{\\mathrm{All}}} <= \\frac{Subs_{\\mathrm{WorkingTime}}}{Subs_{\\mathrm{All}}}$                                                                    \n",
    "#### _$H_a$_ : $\\frac{Cust_{\\mathrm{WorkingTime}}}{Cust_{\\mathrm{All}}} > \\frac{Subs_{\\mathrm{WorkingTime}}}{Subs_{\\mathrm{All}}}$"
   ]
  },
  {
   "cell_type": "code",
   "execution_count": 13,
   "metadata": {},
   "outputs": [
    {
     "name": "stdout",
     "output_type": "stream",
     "text": [
      "Z-test statistic: 72.386\n",
      "The critical value with alpha = 0.05, one-tailed is: 1.645\n",
      "Z-test P-value: 0.000\n"
     ]
    }
   ],
   "source": [
    "counts = np.array([19303, 267479])\n",
    "nobs = np.array([24543, 484935])\n",
    "stat, pval = proportions_ztest(counts, nobs, alternative='larger')\n",
    "critiValue = stats.norm.isf(0.05, loc=0, scale=1)\n",
    "print ('Z-test statistic: {:.3f}'.format(stat))\n",
    "print ('The critical value with alpha = 0.05, one-tailed is: {:.3f}'.\n",
    "       format(critiValue))\n",
    "print ('Z-test P-value: {:.3f}'.format(pval))"
   ]
  },
  {
   "cell_type": "markdown",
   "metadata": {},
   "source": [
    "With alpha = 0.05, we can reject the Null hypothesis. The percentage of trips using CitiBike during working hours is higher for 'Customer' than for 'Subscriber'."
   ]
  },
  {
   "cell_type": "markdown",
   "metadata": {},
   "source": [
    "## 4. Conclusions"
   ]
  },
  {
   "cell_type": "markdown",
   "metadata": {},
   "source": [
    "'Customer' are more likely than 'Subscriber' to use CitiBike during working time. It might be because most of the 'Customer' are tourists, while most of the 'Subscriber' are local labor force. During working hours, a higher proportion of 'Subscriber' are staying in office, while 'Customer' are touring around the city."
   ]
  },
  {
   "cell_type": "markdown",
   "metadata": {},
   "source": [
    "Implication: if we want to do advertisement targeting the 'customer', the best time to display the advertisement would be the working hours, because a higher proportion of 'customer' can see the advertisement, while a lower portion of 'subscriber' will be disturbed by useless information for them. As for the type of advertisement, promotion for annual membership would not be a good choice, because tourists are temporally visiting. Instead, promotions about short time discount might be feasible, such as the one-day or three-day pass."
   ]
  },
  {
   "cell_type": "markdown",
   "metadata": {},
   "source": [
    "The weakness of this analysis is that we did not consider the seasonality. The conclusion we drew based on data of January might not able to apply to Summer."
   ]
  },
  {
   "cell_type": "markdown",
   "metadata": {},
   "source": [
    "## Reference\n",
    "\n",
    "\n",
    "    [1]CitiBike. Retrive from: https://en.wikipedia.org/wiki/Citi_Bike\n",
    "    [2]Experience NYC in a whole new way. Retrive from: https://www.citibikenyc.com/how-it-works\n",
    "    [3]Boslaugh, S. (2012). Statistics in a nutshell: A desktop quick reference (pp. 136): \" O'Reilly Media, Inc.\"."
   ]
  }
 ],
 "metadata": {
  "kernelspec": {
   "display_name": "Python 3",
   "language": "python",
   "name": "python3"
  },
  "language_info": {
   "codemirror_mode": {
    "name": "ipython",
    "version": 3
   },
   "file_extension": ".py",
   "mimetype": "text/x-python",
   "name": "python",
   "nbconvert_exporter": "python",
   "pygments_lexer": "ipython3",
   "version": "3.6.1"
  }
 },
 "nbformat": 4,
 "nbformat_minor": 2
}
