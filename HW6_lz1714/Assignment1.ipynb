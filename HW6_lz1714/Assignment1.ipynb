{
 "cells": [
  {
   "cell_type": "markdown",
   "metadata": {
    "run_control": {
     "frozen": false,
     "read_only": false
    }
   },
   "source": [
    "# fbb skeleton notebook for PUI2017 HW6"
   ]
  },
  {
   "cell_type": "code",
   "execution_count": 1,
   "metadata": {
    "run_control": {
     "frozen": false,
     "read_only": false
    }
   },
   "outputs": [
    {
     "name": "stdout",
     "output_type": "stream",
     "text": [
      "Populating the interactive namespace from numpy and matplotlib\n"
     ]
    }
   ],
   "source": [
    "from __future__ import print_function, division\n",
    "import geopandas as gp\n",
    "import pandas as pd\n",
    "import pylab as pl\n",
    "import os\n",
    "import json\n",
    "\n",
    "if os.getenv(\"PUIDATA\") is None:\n",
    "    print (\"$PUIDATA to point to set PUIdata dir\")\n",
    "\n",
    "%pylab inline"
   ]
  },
  {
   "cell_type": "code",
   "execution_count": 2,
   "metadata": {},
   "outputs": [
    {
     "data": {
      "text/html": [
       "<div>\n",
       "<style>\n",
       "    .dataframe thead tr:only-child th {\n",
       "        text-align: right;\n",
       "    }\n",
       "\n",
       "    .dataframe thead th {\n",
       "        text-align: left;\n",
       "    }\n",
       "\n",
       "    .dataframe tbody tr th {\n",
       "        vertical-align: top;\n",
       "    }\n",
       "</style>\n",
       "<table border=\"1\" class=\"dataframe\">\n",
       "  <thead>\n",
       "    <tr style=\"text-align: right;\">\n",
       "      <th></th>\n",
       "      <th>Record Number</th>\n",
       "      <th>BBL</th>\n",
       "      <th>Co-reported BBL Status</th>\n",
       "      <th>BBLs Co-reported</th>\n",
       "      <th>Reported NYC Building Identificaiton Numbers (BINs)</th>\n",
       "      <th>Street Number</th>\n",
       "      <th>Street Name</th>\n",
       "      <th>Borough</th>\n",
       "      <th>Postcode</th>\n",
       "      <th>DOF Benchmarking Submission Status</th>\n",
       "      <th>...</th>\n",
       "      <th>DOF Property Floor Area (Buildngs and Parking)(ft2)</th>\n",
       "      <th>Primary Property Type - Self Selected</th>\n",
       "      <th>DOF Number of Buildings</th>\n",
       "      <th>Latitude</th>\n",
       "      <th>Longitude</th>\n",
       "      <th>Community Board</th>\n",
       "      <th>Council District</th>\n",
       "      <th>Census Tract</th>\n",
       "      <th>BIN</th>\n",
       "      <th>NTA</th>\n",
       "    </tr>\n",
       "  </thead>\n",
       "  <tbody>\n",
       "    <tr>\n",
       "      <th>0</th>\n",
       "      <td>12086</td>\n",
       "      <td>1.000410e+09</td>\n",
       "      <td>NaN</td>\n",
       "      <td>1000410001</td>\n",
       "      <td>1001007</td>\n",
       "      <td>NaN</td>\n",
       "      <td>NaN</td>\n",
       "      <td>Manhattan</td>\n",
       "      <td>NaN</td>\n",
       "      <td>BBL not valid</td>\n",
       "      <td>...</td>\n",
       "      <td>NaN</td>\n",
       "      <td>Office</td>\n",
       "      <td>NaN</td>\n",
       "      <td>NaN</td>\n",
       "      <td>NaN</td>\n",
       "      <td>NaN</td>\n",
       "      <td>NaN</td>\n",
       "      <td>NaN</td>\n",
       "      <td>NaN</td>\n",
       "      <td>NaN</td>\n",
       "    </tr>\n",
       "    <tr>\n",
       "      <th>1</th>\n",
       "      <td>14354</td>\n",
       "      <td>4.021460e+09</td>\n",
       "      <td>NaN</td>\n",
       "      <td>NaN</td>\n",
       "      <td>NaN</td>\n",
       "      <td>63-10</td>\n",
       "      <td>108 STREET</td>\n",
       "      <td>Queens</td>\n",
       "      <td>11375.0</td>\n",
       "      <td>No Submission Matched to BBL</td>\n",
       "      <td>...</td>\n",
       "      <td>82730.0</td>\n",
       "      <td>NaN</td>\n",
       "      <td>1.0</td>\n",
       "      <td>NaN</td>\n",
       "      <td>NaN</td>\n",
       "      <td>NaN</td>\n",
       "      <td>NaN</td>\n",
       "      <td>NaN</td>\n",
       "      <td>NaN</td>\n",
       "      <td>NaN</td>\n",
       "    </tr>\n",
       "    <tr>\n",
       "      <th>2</th>\n",
       "      <td>12150</td>\n",
       "      <td>2.027620e+09</td>\n",
       "      <td>NaN</td>\n",
       "      <td>2027620097</td>\n",
       "      <td>2006460</td>\n",
       "      <td>NaN</td>\n",
       "      <td>NaN</td>\n",
       "      <td>Bronx</td>\n",
       "      <td>NaN</td>\n",
       "      <td>BBL not valid</td>\n",
       "      <td>...</td>\n",
       "      <td>NaN</td>\n",
       "      <td>Multifamily Housing</td>\n",
       "      <td>NaN</td>\n",
       "      <td>NaN</td>\n",
       "      <td>NaN</td>\n",
       "      <td>NaN</td>\n",
       "      <td>NaN</td>\n",
       "      <td>NaN</td>\n",
       "      <td>NaN</td>\n",
       "      <td>NaN</td>\n",
       "    </tr>\n",
       "    <tr>\n",
       "      <th>3</th>\n",
       "      <td>12590</td>\n",
       "      <td>1.006700e+09</td>\n",
       "      <td>NaN</td>\n",
       "      <td>NaN</td>\n",
       "      <td>NaN</td>\n",
       "      <td>201</td>\n",
       "      <td>11 AVENUE</td>\n",
       "      <td>Manhattan</td>\n",
       "      <td>10001.0</td>\n",
       "      <td>No Submission Matched to BBL</td>\n",
       "      <td>...</td>\n",
       "      <td>440360.0</td>\n",
       "      <td>NaN</td>\n",
       "      <td>1.0</td>\n",
       "      <td>40.749652</td>\n",
       "      <td>-74.006471</td>\n",
       "      <td>4.0</td>\n",
       "      <td>3.0</td>\n",
       "      <td>99.0</td>\n",
       "      <td>1012266.0</td>\n",
       "      <td>Hudson Yards-Chelsea-Flatiron-Union Square    ...</td>\n",
       "    </tr>\n",
       "    <tr>\n",
       "      <th>4</th>\n",
       "      <td>15591</td>\n",
       "      <td>2.048300e+09</td>\n",
       "      <td>NaN</td>\n",
       "      <td>2048300034</td>\n",
       "      <td>2063117</td>\n",
       "      <td>NaN</td>\n",
       "      <td>NaN</td>\n",
       "      <td>Bronx</td>\n",
       "      <td>NaN</td>\n",
       "      <td>Not on Covered Buildings List</td>\n",
       "      <td>...</td>\n",
       "      <td>NaN</td>\n",
       "      <td>Multifamily Housing</td>\n",
       "      <td>NaN</td>\n",
       "      <td>NaN</td>\n",
       "      <td>NaN</td>\n",
       "      <td>NaN</td>\n",
       "      <td>NaN</td>\n",
       "      <td>NaN</td>\n",
       "      <td>NaN</td>\n",
       "      <td>NaN</td>\n",
       "    </tr>\n",
       "  </tbody>\n",
       "</table>\n",
       "<p>5 rows × 32 columns</p>\n",
       "</div>"
      ],
      "text/plain": [
       "   Record Number           BBL Co-reported BBL Status BBLs Co-reported  \\\n",
       "0          12086  1.000410e+09                    NaN       1000410001   \n",
       "1          14354  4.021460e+09                    NaN              NaN   \n",
       "2          12150  2.027620e+09                    NaN       2027620097   \n",
       "3          12590  1.006700e+09                    NaN              NaN   \n",
       "4          15591  2.048300e+09                    NaN       2048300034   \n",
       "\n",
       "  Reported NYC Building Identificaiton Numbers (BINs) Street Number  \\\n",
       "0                                            1001007            NaN   \n",
       "1                                                NaN          63-10   \n",
       "2                                            2006460            NaN   \n",
       "3                                                NaN            201   \n",
       "4                                            2063117            NaN   \n",
       "\n",
       "  Street Name    Borough  Postcode DOF Benchmarking Submission Status  \\\n",
       "0         NaN  Manhattan       NaN                      BBL not valid   \n",
       "1  108 STREET     Queens   11375.0       No Submission Matched to BBL   \n",
       "2         NaN      Bronx       NaN                      BBL not valid   \n",
       "3   11 AVENUE  Manhattan   10001.0       No Submission Matched to BBL   \n",
       "4         NaN      Bronx       NaN      Not on Covered Buildings List   \n",
       "\n",
       "                         ...                          \\\n",
       "0                        ...                           \n",
       "1                        ...                           \n",
       "2                        ...                           \n",
       "3                        ...                           \n",
       "4                        ...                           \n",
       "\n",
       "  DOF Property Floor Area (Buildngs and Parking)(ft2)  \\\n",
       "0                                                NaN    \n",
       "1                                            82730.0    \n",
       "2                                                NaN    \n",
       "3                                           440360.0    \n",
       "4                                                NaN    \n",
       "\n",
       "  Primary Property Type - Self Selected DOF Number of Buildings   Latitude  \\\n",
       "0                                Office                     NaN        NaN   \n",
       "1                                   NaN                     1.0        NaN   \n",
       "2                   Multifamily Housing                     NaN        NaN   \n",
       "3                                   NaN                     1.0  40.749652   \n",
       "4                   Multifamily Housing                     NaN        NaN   \n",
       "\n",
       "   Longitude Community Board Council District Census Tract        BIN  \\\n",
       "0        NaN             NaN              NaN          NaN        NaN   \n",
       "1        NaN             NaN              NaN          NaN        NaN   \n",
       "2        NaN             NaN              NaN          NaN        NaN   \n",
       "3 -74.006471             4.0              3.0         99.0  1012266.0   \n",
       "4        NaN             NaN              NaN          NaN        NaN   \n",
       "\n",
       "                                                 NTA  \n",
       "0                                                NaN  \n",
       "1                                                NaN  \n",
       "2                                                NaN  \n",
       "3  Hudson Yards-Chelsea-Flatiron-Union Square    ...  \n",
       "4                                                NaN  \n",
       "\n",
       "[5 rows x 32 columns]"
      ]
     },
     "execution_count": 2,
     "metadata": {},
     "output_type": "execute_result"
    }
   ],
   "source": [
    "os.system(\"curl -O https://raw.githubusercontent.com/lingyielia/PUI2017_lz1714/master/HW6_lz1714/Energy_and_Water_Data_Disclosure_for_Local_Law_84__2013_.csv\")\n",
    "os.system(\"mv \" + \"Energy_and_Water_Data_Disclosure_for_Local_Law_84__2013_.csv \" + os.getenv(\"PUIDATA\"))\n",
    "df_e = pd.read_csv(os.getenv(\"PUIDATA\") + \"/\" + \"Energy_and_Water_Data_Disclosure_for_Local_Law_84__2013_.csv\")\n",
    "df_e.head()"
   ]
  },
  {
   "cell_type": "code",
   "execution_count": 3,
   "metadata": {},
   "outputs": [
    {
     "data": {
      "text/plain": [
       "16170"
      ]
     },
     "execution_count": 3,
     "metadata": {},
     "output_type": "execute_result"
    }
   ],
   "source": [
    "len(df_e)"
   ]
  },
  {
   "cell_type": "code",
   "execution_count": 4,
   "metadata": {},
   "outputs": [
    {
     "data": {
      "text/plain": [
       "Index(['Record Number', 'BBL', 'Co-reported BBL Status', 'BBLs Co-reported',\n",
       "       'Reported NYC Building Identificaiton Numbers (BINs)', 'Street Number',\n",
       "       'Street Name', 'Borough', 'Postcode',\n",
       "       'DOF Benchmarking Submission Status', 'Site EUI(kBtu/ft2)',\n",
       "       'Weather Normalized Site EUI(kBtu/ft2)', 'Source EUI(kBtu/ft2)',\n",
       "       'Weather Normalized Source EUI(kBtu/ft2)',\n",
       "       'Municipally Supplied Potable Water - Indoor Intensity (gal/ft²)',\n",
       "       'Automatic Water Benchmarking Eligible', 'Reported Water Method',\n",
       "       'ENERGY STAR Score', 'Total GHG Emissions(MtCO2e)',\n",
       "       'Direct GHG Emissions(MtCO2e)', 'Indirect GHG Emissions(MtCO2e)',\n",
       "       'Reported Property Floor Area (Building(s)) (ft²)',\n",
       "       'DOF Property Floor Area (Buildngs and Parking)(ft2)',\n",
       "       'Primary Property Type - Self Selected', 'DOF Number of Buildings',\n",
       "       'Latitude', 'Longitude', 'Community Board', 'Council District',\n",
       "       'Census Tract', 'BIN', 'NTA'],\n",
       "      dtype='object')"
      ]
     },
     "execution_count": 4,
     "metadata": {},
     "output_type": "execute_result"
    }
   ],
   "source": [
    "df_e.columns"
   ]
  },
  {
   "cell_type": "code",
   "execution_count": 5,
   "metadata": {
    "run_control": {
     "frozen": false,
     "read_only": false
    }
   },
   "outputs": [],
   "source": [
    "#download, and move data to PUIDATA, and read data in \n",
    "nrg = ...\n",
    "bsize = ..."
   ]
  },
  {
   "cell_type": "code",
   "execution_count": 6,
   "metadata": {
    "run_control": {
     "frozen": false,
     "read_only": false
    }
   },
   "outputs": [
    {
     "ename": "AttributeError",
     "evalue": "'ellipsis' object has no attribute 'columns'",
     "output_type": "error",
     "traceback": [
      "\u001b[0;31m---------------------------------------------------------------------------\u001b[0m",
      "\u001b[0;31mAttributeError\u001b[0m                            Traceback (most recent call last)",
      "\u001b[0;32m<ipython-input-6-12750ada6489>\u001b[0m in \u001b[0;36m<module>\u001b[0;34m()\u001b[0m\n\u001b[0;32m----> 1\u001b[0;31m \u001b[0mnrg\u001b[0m\u001b[0;34m.\u001b[0m\u001b[0mcolumns\u001b[0m\u001b[0;34m\u001b[0m\u001b[0m\n\u001b[0m",
      "\u001b[0;31mAttributeError\u001b[0m: 'ellipsis' object has no attribute 'columns'"
     ]
    }
   ],
   "source": [
    "nrg.columns"
   ]
  },
  {
   "cell_type": "code",
   "execution_count": null,
   "metadata": {
    "run_control": {
     "frozen": false,
     "read_only": false
    }
   },
   "outputs": [],
   "source": [
    "bsize.columns"
   ]
  },
  {
   "cell_type": "code",
   "execution_count": null,
   "metadata": {
    "run_control": {
     "frozen": false,
     "read_only": false
    }
   },
   "outputs": [],
   "source": [
    "# make sure you clean up your data and throw away columns you do not need!"
   ]
  },
  {
   "cell_type": "code",
   "execution_count": null,
   "metadata": {
    "run_control": {
     "frozen": false,
     "read_only": false
    }
   },
   "outputs": [],
   "source": [
    "#try make a scatter plot of nrg. Few columns will plot\n",
    "from pandas.tools.plotting import scatter_matrix\n",
    "scatter_matrix (nrg, s=300, figsize=(16, 16))"
   ]
  },
  {
   "cell_type": "markdown",
   "metadata": {
    "run_control": {
     "frozen": false,
     "read_only": false
    }
   },
   "source": [
    "Figure 1: scatter matrix of all numerical values in the files."
   ]
  },
  {
   "cell_type": "markdown",
   "metadata": {
    "run_control": {
     "frozen": false,
     "read_only": false
    }
   },
   "source": [
    "This kind of plot shows correlations between variables, but it will also show me what can and cannot be plotted trivially in my dataset. Here only a few columns can be plotted: those that contain only numbers (and possibly NaN's), but most columns contain rows that cannot be converted to float (e.g. entries like 'See Primary BBL' in several rows for the energy dataframe 'Site EUI(kBtu/ft2) ' column) , so Pandas refuses to plot them, cause it does not know what to do with those entries. The columns I am interested in are in fact u'Site EUI(kBtu/ft2)' which is a measure of the energy consumed PER SQ FOOT by a building, and then the building area: for eg. u'Reported Property Floor Area (Building(s)) (ft²)'. Neither gets plotted: i need to remove all values that cannot conver to float in order to use the columns and convert them to float arrays and do math with them.\n",
    "Below I created a function that returns True if what is passed as argument can be converted to a float, and False otherwise. I do it with the Try/Except structure. it is a very useful python functionality that you should look into.\n",
    "This has to be done entry by entry: if you give it a series you get error \"cannot convert the series to...\"\n",
    "However you can pass it a whole array by using it in conjunction with np.vectorize (look up the syntax!) which will implement a for loop for you under the hood to pass the series entry by entry to your function."
   ]
  },
  {
   "cell_type": "code",
   "execution_count": null,
   "metadata": {
    "run_control": {
     "frozen": false,
     "read_only": false
    }
   },
   "outputs": [],
   "source": [
    "# use pd.to_numeric to convert strings to numeric values, \n",
    "# use errors=coerce to set missing values to nan\n",
    "##check that your conversion worked: e.g.\n",
    "print (nrg['Site EUI(kBtu/ft2)'].astype(float))\n",
    "#[...] check all columns you care about in both datasets. \n",
    "#Nan's are ok, but you must not get an error when you try the conversion\n",
    "#the Pluto data is much better at not using spurious entries for numerical value columns. \n",
    "#but check you can use the columns you want\n",
    "bsize.BBL.astype(float)\n",
    "#this should not return an error\n",
    "#notice i can use the attribute notation to refer to columns in bsize, \n",
    "#cause the column names do not have spaces!\n"
   ]
  },
  {
   "cell_type": "code",
   "execution_count": null,
   "metadata": {
    "run_control": {
     "frozen": false,
     "read_only": false
    }
   },
   "outputs": [],
   "source": [
    "#example\n",
    "indx = (np.vectorize(canconvert)(nrg['Site EUI(kBtu/ft2)']))\n",
    "print (\"invalid entries changed to NaN %d\"%sum(indx))\n",
    "nrg['Site EUI(kBtu/ft2)'][~indx] = float('NaN')\n",
    "#do it for however many columns you need"
   ]
  },
  {
   "cell_type": "markdown",
   "metadata": {
    "collapsed": true,
    "run_control": {
     "frozen": false,
     "read_only": false
    }
   },
   "source": [
    "# MERGE THE DATASET\n",
    "TO DO IT WE NEED A COMMON COLUMN: the building id BBL However the name of this variable (column) in the Energy dataset is 'NYC Borough, Block, and Lot (BBL)'. create a column 'BBL' in the nrg dataset to pass it to the 'on' keyword argument of the merge pandas method: pd.merge(..... on=['BBL']) will use the common column 'BBL' to join the information from the 2 datasets for each BBL value (check out the complete syntax!)"
   ]
  },
  {
   "cell_type": "code",
   "execution_count": null,
   "metadata": {
    "run_control": {
     "frozen": false,
     "read_only": false
    }
   },
   "outputs": [],
   "source": [
    "# prepare your BBL columns\n",
    "nrg.rename...\n",
    "#merge\n",
    "bblnrgdata = pd.merge(...)\n",
    "\n",
    "# Now the scatter matrix plot should show more columns.\n",
    "scatter_matrix (bblnrgdata, s=30, figsize=(16, 16))"
   ]
  },
  {
   "cell_type": "markdown",
   "metadata": {
    "run_control": {
     "frozen": false,
     "read_only": false
    }
   },
   "source": [
    "once you have the dataframe with all the info you want, you want to plot Energy vs Number of Units in the Building. Remember: **Energy TOTAL, not per sq ft...** Here you can choose what you think makes more sense for the number of units: all units, residential units... \n",
    "\n",
    "**Make a  scatter plot first of Energy vs Units. It will look really bad be cause all the datapoints are at very low Unit numbers while the Unit number range actually goes up to 8000. **\n",
    "\n",
    "\n",
    "Make a second plot that zooms into the region where most points are by cutting your x and y axis plotted: e,g, use xlim=(1000,1e10), ylim=(1,1000), where the numbers to be plugged in depend on exactly what you chose to plot\n",
    "\n",
    "I left my plots below as guidance. **Remember, each plot needs a descriptive caption, and axis labels**"
   ]
  },
  {
   "cell_type": "code",
   "execution_count": null,
   "metadata": {
    "run_control": {
     "frozen": false,
     "read_only": false
    }
   },
   "outputs": [],
   "source": [
    "# first scatter plot"
   ]
  },
  {
   "cell_type": "code",
   "execution_count": null,
   "metadata": {
    "run_control": {
     "frozen": false,
     "read_only": false
    }
   },
   "outputs": [],
   "source": [
    "# zoomed in scatter plot"
   ]
  },
  {
   "cell_type": "markdown",
   "metadata": {
    "run_control": {
     "frozen": false,
     "read_only": false
    }
   },
   "source": [
    "when the points in a plot all look scrunched against the axis \n",
    "\n",
    "**Try to make a log plot instead**. In pandas you enable that with the keyword 'loglog' : bblnrgdata.plot(..... loglog=True)\n",
    "\n",
    "NOTICE THAT YOU WILL STILL HAVE TO CUT YOUR DATASET! in my data I had a lot of energy datapoints that were exactly 0. I removed these \"outliers\" which I think are truly outliers in the sense that they are misreported numbers. you can remove the data that have nrg==0 (or nrg < some sensible threshold choice) by indexing your array: something like bblnrgdata_cut = bblnrgdata[bblnrgdata.nrg>1000]\n",
    "\n",
    "Also I removed the buildings with several thousand units. points like that at the edge of my range would have a lot of \"LEVERAGE\", however they are not suprious entries like the 0, which i believe are missing values, or perhaps abandoned lots. these are good datapoint that i need to throw away functionally for my analysis to work, but that should be stated clearly.\n",
    "\n"
   ]
  },
  {
   "cell_type": "code",
   "execution_count": null,
   "metadata": {
    "run_control": {
     "frozen": false,
     "read_only": false
    }
   },
   "outputs": [],
   "source": [
    "#log plot\n"
   ]
  },
  {
   "cell_type": "markdown",
   "metadata": {
    "run_control": {
     "frozen": false,
     "read_only": false
    }
   },
   "source": [
    "Now fit a line through the data. you can use whatever you want to do it: statsmodels, scipy, any other package, or write your own minimization of the residuals\n",
    "\n",
    "## BUT REMEMBER: we see hints of a linear relation in log space! so we want to fit a line to the log of our variables, not the variables themselves:\n",
    "if you used statsmodels it would look something like this:\n"
   ]
  },
  {
   "cell_type": "code",
   "execution_count": null,
   "metadata": {
    "run_control": {
     "frozen": false,
     "read_only": false
    }
   },
   "outputs": [],
   "source": [
    "X = sm.add_constant(np.log10(x))\n",
    "linmodel = sm.OLS(np.log10(y), X, missing='drop').fit() # ignores entires \n",
    "                                                     # where x or y is NaN"
   ]
  },
  {
   "cell_type": "markdown",
   "metadata": {
    "run_control": {
     "frozen": false,
     "read_only": false
    }
   },
   "source": [
    "## choose  which is your DEPENDENT and which is your INDEPENDENT variable. \n",
    "which is the \"logical\" IV: what are we assuming depends on what? energy on size of building or building on size of energy... discuss this but also test both fits, energy vs size and size vs energy. how can you compare these models? "
   ]
  },
  {
   "cell_type": "markdown",
   "metadata": {
    "run_control": {
     "frozen": false,
     "read_only": false
    }
   },
   "source": [
    "\n",
    "\n",
    "1. **Fit a line** to Units vs Energy. The independent variable in this problem should be number of units, but try fit both Unity to energy and energy to unit.\n",
    "2. **Fit a line** to Energy vs Units.\n",
    "3. **Evaluate which is better by calculating the chi square**.  Can you compare these models with the likelihood ratio test? (hint: are they nested??) I provide a function for that or you can write your own. *Assume poisson statistics for the errors on the independent variable*. \n",
    "    The function is \n",
    "    \n",
    "    chisq = $\\sum_i \\frac{(model(x_i) - data(x_i))^2 }{ error_i^2}$\n",
    "    \n",
    "    where the sum is over all datapoints, \n",
    "    \n",
    "    for the i-th value with x value $x_i$ model is the predction of your fit for $x_i$, \n",
    "    \n",
    "    $data(x_i)$ \n",
    "    is your observation, \n",
    "    \n",
    "    and $error_i$ is $\\sqrt{data(x_i)}$\n",
    "    (but remember you worked in log space! What are the proper errors??)\n",
    "    \n",
    "4. **Fit a 2nd degree polynomial** to the Units vs Energy (with statsmodels.formulae.api.ols() for example passing the formula for a parabola, like we did in class. The formula for a 2nd deg polynomial is \n",
    "    $y = ax^2 + bx + c$ .\n",
    "\n",
    "5. **Compare the Units vs Energy line fit and the Units vs Energy 2-nd degree polynomial fit with the Likelihood ratio test**. The formula is:\n",
    "    \n",
    "    LR  =  -2 * (logLikelihood_Model1 - logLikelihood_Model2)\n",
    "    \n",
    "    where Model1 is the least complex (fewer parameters).\n",
    "    \n",
    "    Th logLikelihood can be extracted from the model summary when using statsmodels.\n",
    "    \n",
    "    Compare this LR statistics to a chi sq table (for example http://passel.unl.edu/Image/Namuth-CovertDeana956176274/chi-sqaure%20distribution%20table.PNG) and say if *at alpha = 0.05* Model1 is preferible to Model2. The LR is chi^2 distributed with number of degrees of freedom N_{DOF} = parameters_Model2 - parameters_Model1\n",
    "    \n",
    "    \n",
    "    Also if you used statsmodels for the fit you can use the \n",
    "    compare_lr_test() method of your fit and verify you got the right answer.  Use the method compare_lr_test() of the most complex model of the 2 and pass it the result of stats models for the simpler fit \n",
    "    (e.g. smf.ols(formula = ...).fit().compare_lr_test(sm.OLS(...).fit()))\n",
    "\n"
   ]
  },
  {
   "cell_type": "code",
   "execution_count": null,
   "metadata": {
    "run_control": {
     "frozen": false,
     "read_only": false
    }
   },
   "outputs": [],
   "source": [
    "# fits and plots here\n",
    "# your plots should show datapoints (as scatter plot) and models (as lines)"
   ]
  },
  {
   "cell_type": "code",
   "execution_count": null,
   "metadata": {
    "run_control": {
     "frozen": false,
     "read_only": false
    }
   },
   "outputs": [],
   "source": [
    "# my OLS summary. \n",
    "# Yours may be somewhat different depending on how you cut the data"
   ]
  },
  {
   "cell_type": "code",
   "execution_count": null,
   "metadata": {
    "run_control": {
     "frozen": false,
     "read_only": false
    }
   },
   "outputs": [],
   "source": [
    "print (\"LR : \", -2 * (-linemodel.llf - (-curvemodel.llf)))\n",
    "print (\"LR from statsmodels:\", curvemodel.compare_lr_test(linemodel))"
   ]
  },
  {
   "cell_type": "markdown",
   "metadata": {
    "run_control": {
     "frozen": false,
     "read_only": false
    }
   },
   "source": [
    "## Extra credit 1: calculate and plot the likelihood surface\n",
    "Create a function that minimizes the residuals:\n",
    "\n",
    "the residuals are the sum of the differences between data and model: in the case of a line fit model. Use the same function you created for the chi^2 test.\n",
    "\n",
    "You should sum over each datapoints the residuals squared, which should look something like\n",
    "\n",
    "(np.log(bblnrgdatacut.nrg) - np.log(bblnrgdatacut.UnitsTotal)*a+b )^2 / errors^2\n",
    "\n",
    "where a and b are the parameters returned by the line fitter. \n",
    "\n",
    "For each data point you can calculate the model at different values : for example in a range B = np.arange (-100, 100, 1) for the intercept, and A = np.arange(-50.0, 50.0, 0.5) for the slope.\n",
    "\n",
    "\n",
    "You can write it as a nested for loop (or challenge yourself and vectorize it!) with a loop inside another ranging all poissible combinations of the 2 variables (i use enumerate to get both an index from 0 to the size of my array, which i assign to i (and j) and the value of the array at that index - look up the syntax!):\n",
    "\n",
    "\n",
    "Lsurface = np.zeros((len(A), len(B)))\n",
    "for i,a in enumerate(A):\n",
    "    for j,b in enumerate(B):\n",
    "         Lsurface[i][j] = np.nansum(residuals(a,b,data,errors)) .....\n",
    "\n",
    "this gives you a 2D array that represents your likelihood surface! What we do to find a good fit is find the minimum (lowest point) on this surface.\n",
    "You can plot a surface (a 2D array) with pl.imshow(Lsurface) as a \"heatmap\" but when you do that you will find that the plot is very uninformative. just like you did before with the data, plot the log of it (pl.imshow(np.log(Lsurface)). Also make sure your x and y axes tick numbers represent the range of values, not the cell index, which is the default for imshow. Inputting your data in the cell below should give a plot similar to mine"
   ]
  },
  {
   "cell_type": "code",
   "execution_count": null,
   "metadata": {
    "run_control": {
     "frozen": false,
     "read_only": false
    }
   },
   "outputs": [],
   "source": [
    "pl.figure(figsize=(10,10))\n",
    "pl.title (\"log likelihood surface\", fontsize = 22)\n",
    "pl.imshow(np.log(Lsurface), extent = [-50,50,100,-100], aspect=0.5)\n",
    "pl.xlabel('slope', fontsize = 22)\n",
    "pl.ylabel('intercept', fontsize = 22)\n",
    "pl.colorbar()"
   ]
  },
  {
   "cell_type": "markdown",
   "metadata": {
    "run_control": {
     "frozen": false,
     "read_only": false
    }
   },
   "source": [
    "## EXTRA CREDIT: get creative with the dataset. can you make an insigntful plot to show any structure in the data?\n",
    "\n",
    "below I am mapping the building age to a colormap and the ratio of total to residential units to the size of the datapoint."
   ]
  },
  {
   "cell_type": "code",
   "execution_count": null,
   "metadata": {
    "run_control": {
     "frozen": false,
     "read_only": false
    }
   },
   "outputs": [],
   "source": [
    "bblnrgdata['YearBuilt'][bblnrgdata['YearBuilt']<1800]=1800\n",
    "\n",
    "bblnrgdata.plot(kind='scatter',x='nrg',y='UnitsTotal', \n",
    "                fontsize=22, colormap='gist_rainbow', alpha = 1, \n",
    "                marker='o',  figsize=(16, 14), loglog=True,  \n",
    "                xlim=(1000,1e11), ylim=(1,1000), \n",
    "                c=bblnrgdata['YearBuilt']-1900, \n",
    "                s=bblnrgdata['UnitsTotal']/bblnrgdata['UnitsRes']*100)\n",
    "pl.title('Color maps Age in years, Size maps tital/residential units', fontsize=18)\n",
    "pl.ylabel(\"total number of units\", fontsize=22)\n",
    "pl.xlabel(\"total energy consumption (kBtu)\", fontsize=22)"
   ]
  }
 ],
 "metadata": {
  "kernelspec": {
   "display_name": "Python 3",
   "language": "python",
   "name": "python3"
  },
  "language_info": {
   "codemirror_mode": {
    "name": "ipython",
    "version": 3
   },
   "file_extension": ".py",
   "mimetype": "text/x-python",
   "name": "python",
   "nbconvert_exporter": "python",
   "pygments_lexer": "ipython3",
   "version": "3.6.1"
  },
  "latex_envs": {
   "LaTeX_envs_menu_present": true,
   "bibliofile": "biblio.bib",
   "cite_by": "apalike",
   "current_citInitial": 1,
   "eqLabelWithNumbers": true,
   "eqNumInitial": 1,
   "hotkeys": {
    "equation": "Ctrl-E",
    "itemize": "Ctrl-I"
   },
   "labels_anchors": false,
   "latex_user_defs": false,
   "report_style_numbering": false,
   "user_envs_cfg": false
  },
  "toc": {
   "colors": {
    "hover_highlight": "#DAA520",
    "running_highlight": "#FF0000",
    "selected_highlight": "#FFD700"
   },
   "moveMenuLeft": true,
   "nav_menu": {
    "height": "228px",
    "width": "252px"
   },
   "navigate_menu": true,
   "number_sections": false,
   "sideBar": true,
   "threshold": 4,
   "toc_cell": false,
   "toc_position": {
    "height": "323px",
    "left": "0px",
    "right": "617.333px",
    "top": "130px",
    "width": "212px"
   },
   "toc_section_display": "block",
   "toc_window_display": true
  }
 },
 "nbformat": 4,
 "nbformat_minor": 1
}
