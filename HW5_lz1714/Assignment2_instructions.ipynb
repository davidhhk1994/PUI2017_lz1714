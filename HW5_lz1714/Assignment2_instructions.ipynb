{
 "cells": [
  {
   "cell_type": "markdown",
   "metadata": {
    "toc": "true"
   },
   "source": [
    "# Table of Contents\n",
    " <p><div class=\"lev1 toc-item\"><a href=\"#Testing-the-difference-between-a-Binomial/Poisson-distribution-and-a-Gaussian-distribution-as-you-change-the-parameters-of-the-Binomial/Poisson-using:\" data-toc-modified-id=\"Testing-the-difference-between-a-Binomial/Poisson-distribution-and-a-Gaussian-distribution-as-you-change-the-parameters-of-the-Binomial/Poisson-using:-1\"><span class=\"toc-item-num\">1&nbsp;&nbsp;</span>Testing the difference between a Binomial/Poisson distribution and a Gaussian distribution as you change the parameters of the Binomial/Poisson using:</a></div><div class=\"lev1 toc-item\"><a href=\"#AD-and-KS-test\" data-toc-modified-id=\"AD-and-KS-test-2\"><span class=\"toc-item-num\">2&nbsp;&nbsp;</span>AD and KS test</a></div><div class=\"lev2 toc-item\"><a href=\"#KS:-high-p-value-pvalue&gt;0.05:-H0-that-sample-comes-from-a-Gaussian-distribution-cannot-be-rejected\" data-toc-modified-id=\"KS:-high-p-value-pvalue>0.05:-H0-that-sample-comes-from-a-Gaussian-distribution-cannot-be-rejected-21\"><span class=\"toc-item-num\">2.1&nbsp;&nbsp;</span>KS: high p-value pvalue&gt;0.05: H0 that sample comes from a Gaussian distribution cannot be rejected</a></div><div class=\"lev2 toc-item\"><a href=\"#AD:-at-alpha-=-0.05-the-statistics-=-0.26-is-smaller-than-the-0.784-critical-value-for-$alpha$=0.05-(thresh_0.05-=-0.784):-the-H0-cannot-be-rejected.\" data-toc-modified-id=\"AD:-at-alpha-=-0.05-the-statistics-=-0.26-is-smaller-than-the-0.784-critical-value-for-$alpha$=0.05-(thresh_0.05-=-0.784):-the-H0-cannot-be-rejected.-22\"><span class=\"toc-item-num\">2.2&nbsp;&nbsp;</span>AD: at alpha = 0.05 the statistics = 0.26 is smaller than the 0.784 critical value for <span class=\"MathJax_Preview\" style=\"color: inherit;\"></span><span class=\"MathJax MathJax_Processing\" id=\"MathJax-Element-2-Frame\" tabindex=\"0\"></span><script type=\"math/tex\" id=\"MathJax-Element-2\">alpha</script>=0.05 (thresh_0.05 = 0.784): the H0 cannot be rejected.</a></div><div class=\"lev1 toc-item\"><a href=\"#try-writing-down-the-null-for-each-test-and-see-if-scipy-manual-agrees-with-you-(the-manual-spells-out-the-Null)\" data-toc-modified-id=\"try-writing-down-the-null-for-each-test-and-see-if-scipy-manual-agrees-with-you-(the-manual-spells-out-the-Null)-3\"><span class=\"toc-item-num\">3&nbsp;&nbsp;</span>try writing down the null for each test and see if scipy manual agrees with you (the manual spells out the Null)</a></div><div class=\"lev1 toc-item\"><a href=\"#KL-DIVERGENCE\" data-toc-modified-id=\"KL-DIVERGENCE-4\"><span class=\"toc-item-num\">4&nbsp;&nbsp;</span>KL DIVERGENCE</a></div><div class=\"lev1 toc-item\"><a href=\"#BINOMIAL---INSTRUCTIONS-for-assignment\" data-toc-modified-id=\"BINOMIAL---INSTRUCTIONS-for-assignment-5\"><span class=\"toc-item-num\">5&nbsp;&nbsp;</span>BINOMIAL - INSTRUCTIONS for assignment</a></div><div class=\"lev2 toc-item\"><a href=\"#WRITE-A-CAPTION-HERE-IN-THIS-CELL..\" data-toc-modified-id=\"WRITE-A-CAPTION-HERE-IN-THIS-CELL..-51\"><span class=\"toc-item-num\">5.1&nbsp;&nbsp;</span>WRITE A CAPTION HERE IN THIS CELL..</a></div><div class=\"lev1 toc-item\"><a href=\"#POISSON---repeat-the-exercise-for-the-Poisson-distribution-increasing-the-lambda-parameter-of-the-distribution\" data-toc-modified-id=\"POISSON---repeat-the-exercise-for-the-Poisson-distribution-increasing-the-lambda-parameter-of-the-distribution-6\"><span class=\"toc-item-num\">6&nbsp;&nbsp;</span>POISSON - repeat the exercise for the Poisson distribution increasing the lambda parameter of the distribution</a></div><div class=\"lev1 toc-item\"><a href=\"#NOTE-on-KL-divergence:-the-KL-divergence-is-a-measure-of-how-much-approximation-you-have-to-do-to-represent-one-distribution-with-the-other-in-terms-of-information-content.-You-can-see-what-it-looks-point-by-point,-before-you-integrate-and-get-a-single-distance-number\" data-toc-modified-id=\"NOTE-on-KL-divergence:-the-KL-divergence-is-a-measure-of-how-much-approximation-you-have-to-do-to-represent-one-distribution-with-the-other-in-terms-of-information-content.-You-can-see-what-it-looks-point-by-point,-before-you-integrate-and-get-a-single-distance-number-7\"><span class=\"toc-item-num\">7&nbsp;&nbsp;</span>NOTE on KL divergence: the KL divergence is a measure of how much approximation you have to do to represent one distribution with the other in terms of information content. You can see what it looks point by point, before you integrate and get a single distance number</a></div>"
   ]
  },
  {
   "cell_type": "markdown",
   "metadata": {
    "run_control": {
     "frozen": false,
     "read_only": false
    }
   },
   "source": [
    "\n",
    "# Testing the difference between a Binomial/Poisson distribution and a Gaussian distribution as you change the parameters of the Binomial/Poisson using: \n",
    "    \n",
    "    1) KS\n",
    "    \n",
    "    2) AD\n",
    "    \n",
    "    3) KL\n",
    "    \n",
    "    4) Pearson's chisq (not done in this example)\n",
    "    \n",
    "    I want you to use the scipy.stats package for this. For KS (Kolmogorov-Smirnoff) and AD (Anderson Darling) you simply need to generate the distribution against which you can test a normal (Gaussian) distribution: the KS and AD functions in scipy have functionality to test against standard distributions (normal, chisq etc) without you having to code up anything about the distribution itself. KL divergence test and chi square test do not. "
   ]
  },
  {
   "cell_type": "markdown",
   "metadata": {
    "run_control": {
     "frozen": false,
     "read_only": false
    }
   },
   "source": [
    "my usual imports and setups"
   ]
  },
  {
   "cell_type": "code",
   "execution_count": 1,
   "metadata": {
    "ExecuteTime": {
     "end_time": "2017-10-10T21:48:09.001664",
     "start_time": "2017-10-10T21:48:08.974753"
    },
    "run_control": {
     "frozen": false,
     "read_only": false
    }
   },
   "outputs": [
    {
     "name": "stdout",
     "output_type": "stream",
     "text": [
      "Populating the interactive namespace from numpy and matplotlib\n"
     ]
    }
   ],
   "source": [
    "from __future__ import print_function, division\n",
    "import pylab as pl\n",
    "import pandas as pd\n",
    "import numpy as np\n",
    "%pylab inline\n",
    "\n",
    "import os\n",
    "\n",
    "#this makes my plots pretty! but it is totally not mandatory to do it\n",
    "#import json\n",
    "#s = json.load( open(os.getenv ('PUI2016')+\"/fbb_matplotlibrc.json\") )\n",
    "#pl.rcParams.update(s)\n",
    "\n",
    "#plus importing scipy.stats\n",
    "import scipy.stats"
   ]
  },
  {
   "cell_type": "markdown",
   "metadata": {
    "run_control": {
     "frozen": false,
     "read_only": false
    }
   },
   "source": [
    "Here are the manual pages for the three tests I am going to use. _scipy_ does not have the best documentation, but generally it provides clear examples of use for its functions. Read the documentation carefully.\n",
    "\n",
    "http://docs.scipy.org/doc/scipy/reference/generated/scipy.stats.kstest.html#scipy.stats.kstest\n",
    "http://docs.scipy.org/doc/scipy/reference/generated/scipy.stats.anderson.html#scipy.stats.anderson\n",
    "http://docs.scipy.org/doc/scipy/reference/generated/scipy.stats.entropy.html#scipy.stats.entropy"
   ]
  },
  {
   "cell_type": "markdown",
   "metadata": {
    "ExecuteTime": {
     "end_time": "2017-10-10T21:49:12.619382",
     "start_time": "2017-10-10T21:49:12.616256"
    },
    "run_control": {
     "frozen": false,
     "read_only": false
    }
   },
   "source": [
    "# AD and KS test"
   ]
  },
  {
   "cell_type": "markdown",
   "metadata": {
    "run_control": {
     "frozen": false,
     "read_only": false
    }
   },
   "source": [
    "I need to figure out what each test function returns. Let me run them once testing an obvious result: is a Gaussian Gaussian? I know the answer so this is a reality check to make sure I understand the output of the functions (and read the manual at the same time!)\n",
    "\n",
    "I am testing a normal distribution (Gaussian, mean = 0, std = 1) against a Gaussian model, and a Poisson with small $lambda$, or a binomial _w small np against a Gaussian model_. I expect to find that in the first case the Gaussian is, well, Gaussian and in the second case that the binomial with small np is NOT Gaussian"
   ]
  },
  {
   "cell_type": "code",
   "execution_count": 2,
   "metadata": {
    "ExecuteTime": {
     "end_time": "2017-10-10T21:48:13.225060",
     "start_time": "2017-10-10T21:48:13.212218"
    },
    "run_control": {
     "frozen": false,
     "read_only": false
    }
   },
   "outputs": [
    {
     "name": "stdout",
     "output_type": "stream",
     "text": [
      "normal on normal KstestResult(statistic=0.016344431331899001, pvalue=0.95212890203293565)\n",
      "normal on normal AndersonResult(statistic=0.26231814126674635, critical_values=array([ 0.574,  0.653,  0.784,  0.914,  1.088]), significance_level=array([ 15. ,  10. ,   5. ,   2.5,   1. ]))\n",
      "\n"
     ]
    }
   ],
   "source": [
    "#generate the distribution\n",
    "alpha = 0.05\n",
    "np.random.seed(999)\n",
    "dist_n = np.random.randn(1000) \n",
    "\n",
    "#test ad and ks. those are easy\n",
    "print (\"normal on normal\", scipy.stats.kstest(dist_n,'norm'))\n",
    "print (\"normal on normal\", scipy.stats.anderson(dist_n, dist='norm'))\n",
    "print (\"\") "
   ]
  },
  {
   "cell_type": "markdown",
   "metadata": {
    "run_control": {
     "frozen": false,
     "read_only": false
    }
   },
   "source": [
    "## KS: high p-value pvalue>0.05: H0 that sample comes from a Gaussian distribution cannot be rejected"
   ]
  },
  {
   "cell_type": "markdown",
   "metadata": {
    "run_control": {
     "frozen": false,
     "read_only": false
    }
   },
   "source": [
    "## AD: at alpha = 0.05 the statistics = 0.26 is smaller than the 0.784 critical value for $alpha$=0.05 (thresh_0.05 = 0.784): the H0 cannot be rejected."
   ]
  },
  {
   "cell_type": "code",
   "execution_count": 3,
   "metadata": {
    "ExecuteTime": {
     "end_time": "2017-10-10T21:59:28.429463",
     "start_time": "2017-10-10T21:59:27.367385"
    },
    "run_control": {
     "frozen": false,
     "read_only": false
    }
   },
   "outputs": [
    {
     "data": {
      "image/png": "[encoded data removed]",
      "text/plain": [
       "<matplotlib.figure.Figure at 0x109adfd30>"
      ]
     },
     "metadata": {},
     "output_type": "display_data"
    },
    {
     "name": "stdout",
     "output_type": "stream",
     "text": [
      "poisson on normal KstestResult(statistic=1.0, pvalue=0.0)\n",
      "poisson on normal AndersonResult(statistic=0.72428815547573322, critical_values=array([ 0.574,  0.653,  0.784,  0.914,  1.088]), significance_level=array([ 15. ,  10. ,   5. ,   2.5,   1. ]))\n",
      "\n",
      "\n",
      "In this case the means are different, so the distributions will be different for KS and AD test. I want a distribution with 'Poisson with high mean' shape cause that is more Gaussianbut I want the mean to be the same as for my Gaussian: mean=0. Similarly, the standard deviation is sqrt(lambda) = sqrt(100). I want it to be 1\n"
     ]
    },
    {
     "data": {
      "image/png": "[encoded data removed]",
      "text/plain": [
       "<matplotlib.figure.Figure at 0x109aed400>"
      ]
     },
     "metadata": {},
     "output_type": "display_data"
    },
    {
     "name": "stdout",
     "output_type": "stream",
     "text": [
      "poisson vs normal KstestResult(statistic=0.030537538725986857, pvalue=0.30353169660170898)\n",
      "poisson vs normal AndersonResult(statistic=0.92641226504883889, critical_values=array([ 0.574,  0.653,  0.784,  0.914,  1.088]), significance_level=array([ 15. ,  10. ,   5. ,   2.5,   1. ]))\n",
      "KS: lower p-value but still rejecting the H0 at alpha=0.05\n",
      "AD: statistics AD=0.92 larger than threshold (for alpha=0.05) \n",
      "thresh_0.05 = 0.784 0.784\n"
     ]
    },
    {
     "data": {
      "image/png": "[encoded data removed]",
      "text/plain": [
       "<matplotlib.figure.Figure at 0x109c1ec50>"
      ]
     },
     "metadata": {},
     "output_type": "display_data"
    },
    {
     "name": "stdout",
     "output_type": "stream",
     "text": [
      "binomial vs normal KstestResult(statistic=0.14200000000000002, pvalue=0.0)\n",
      "binomial vs normal AndersonResult(statistic=15.852273853456609, critical_values=array([ 0.574,  0.653,  0.784,  0.914,  1.088]), significance_level=array([ 15. ,  10. ,   5. ,   2.5,   1. ]))\n",
      " what does the result of each test say??\n"
     ]
    }
   ],
   "source": [
    "np.random.seed(999)\n",
    "# poisson with 1000 elements, lambda=100 (high)\n",
    "dist_p = np.random.poisson(100, 1000)\n",
    "pl.figure()\n",
    "pl.hist(dist_p, alpha=0.5, label=\"Poisson\")\n",
    "pl.hist(dist_n, alpha=0.5, label=\"Gaussian\")\n",
    "pl.legend()\n",
    "pl.title(\"similar distributions in shape\\nbut different mean and stretch\")\n",
    "pl.show()\n",
    "print (\"poisson on normal\", scipy.stats.kstest(dist_p,'norm'))\n",
    "print (\"poisson on normal\", scipy.stats.anderson(dist_p, dist='norm'))\n",
    "print (\"\\n\\nIn this case the means are different, \" + \n",
    "       \"so the distributions will be different for KS and AD test. \" + \n",
    "       \"I want a distribution with 'Poisson with high mean' shape cause that is more Gaussian\" + \n",
    "       \"but I want the mean to be the same as for my Gaussian: mean=0. \"\n",
    "       \"Similarly, the standard deviation is sqrt(lambda) = sqrt(100). I want it to be 1\") \n",
    "\n",
    "\n",
    "dist_p = (np.random.poisson(100, 1000) - 100) * 0.1 #-100 fixes mean, *0.1 fixes stdev\n",
    "pl.figure()\n",
    "pl.hist(dist_p, alpha=0.5, label=\"Poisson\")\n",
    "pl.hist(dist_n, alpha=0.5, label=\"Gaussian\")\n",
    "pl.legend()\n",
    "pl.title(\"similar distributions\")\n",
    "pl.show()\n",
    "\n",
    "print (\"poisson vs normal\", scipy.stats.kstest(dist_p,'norm'))\n",
    "print (\"poisson vs normal\", scipy.stats.anderson(dist_p, dist='norm'))\n",
    "print (\"KS: lower p-value but still rejecting the H0 at alpha=0.05\") \n",
    "print (\"AD: statistics AD=0.92 larger than threshold (for alpha=0.05) \") \n",
    "\n",
    "threshold = scipy.stats.anderson(dist_n, \n",
    "                                 dist='norm')[1][scipy.stats.anderson(dist_n, \n",
    "                                                                      dist='norm')[2]==[5.0]]\n",
    "print (\"thresh_0.05 = 0.784\", threshold[0])\n",
    "\n",
    "#binomial with n=10, p=0.5 => mean=np=5, stdev=sqrt(np(1-p))\n",
    "n, p = 10, 0.5\n",
    "dist_b = (np.random.binomial(n, p, 1000) - n*p) / np.sqrt(n*p*(1-p))  #subtract mean divide by stdev\n",
    "pl.figure()\n",
    "pl.hist(dist_b, alpha=0.5, label=\"Binomial\")\n",
    "pl.hist(dist_n, alpha=0.5, label=\"Gaussian\")\n",
    "pl.legend()\n",
    "pl.title(\"similar distributions\")\n",
    "pl.show()\n",
    "\n",
    "print (\"binomial vs normal\", scipy.stats.kstest(dist_b,'norm'))\n",
    "print (\"binomial vs normal\", scipy.stats.anderson(dist_b, dist='norm'))\n",
    "print (\" what does the result of each test say??\")\n"
   ]
  },
  {
   "cell_type": "markdown",
   "metadata": {
    "run_control": {
     "frozen": false,
     "read_only": false
    }
   },
   "source": [
    "i will leave it to you to study the outputs in detail, but lets use the statistics. \n",
    "\n",
    "the statistics value will be **larger** if the distributions are **not** likely to be related. \n",
    "think about this in terms of rejection of the NULL hypothesis. \n",
    "\n",
    "# try writing down the null for each test and see if scipy manual agrees with you (the manual spells out the Null)"
   ]
  },
  {
   "cell_type": "markdown",
   "metadata": {
    "run_control": {
     "frozen": false,
     "read_only": false
    }
   },
   "source": [
    "# KL DIVERGENCE"
   ]
  },
  {
   "cell_type": "markdown",
   "metadata": {
    "run_control": {
     "frozen": false,
     "read_only": false
    }
   },
   "source": [
    "The KL divergence is a little trickier: \n",
    "\n",
    "__ empirical distribution__ \n",
    "it wants to know the distribution _y_ value at a location _x_.  have to pass it the values of the _distribution_ at some x's, not my histogram though, si I need a  **NORMALIZED HOSTOGRAM OF MY DISTRIBUTION**, i.e. derive a probability distribution function (PDF) from the data. \n",
    "\n",
    "__model__\n",
    "Then I have to pass it a function for my comparison distribution evaluated at the same _x_-values where my empirical distribution is evaluated (not just the name of a distribution like for KS and AD)"
   ]
  },
  {
   "cell_type": "code",
   "execution_count": 4,
   "metadata": {
    "ExecuteTime": {
     "end_time": "2017-10-10T21:59:32.658546",
     "start_time": "2017-10-10T21:59:32.650312"
    },
    "run_control": {
     "frozen": false,
     "read_only": false
    }
   },
   "outputs": [],
   "source": [
    "# np.histogram returns the value of the histogram (y) and the edges of the bins (x). \n",
    "# Notice: the edges, not the centers\n",
    "distpdf_n, mybins_n, = np.histogram(dist_n, density=True)\n",
    "distpdf_b, mybins_b, = np.histogram(dist_b, density=True)\n",
    "distpdf_p, mybins_p, = np.histogram(dist_p, density=True)\n",
    "\n",
    "#notice the extra comma on the left side of the '=' sign: \n",
    "#that tells numpy take the first two values returned, \n",
    "#and throw away the rest\n"
   ]
  },
  {
   "cell_type": "markdown",
   "metadata": {
    "run_control": {
     "frozen": false,
     "read_only": false
    }
   },
   "source": [
    "then i have to pass it the functional form of a normal PDF, which is returned by the function scipy.stats.norm for example (a google search would have told you!) \n",
    "evaluated at the bin centers of the histogram from before"
   ]
  },
  {
   "cell_type": "code",
   "execution_count": 5,
   "metadata": {
    "ExecuteTime": {
     "end_time": "2017-10-10T22:05:38.562573",
     "start_time": "2017-10-10T22:05:38.546516"
    },
    "run_control": {
     "frozen": false,
     "read_only": false
    }
   },
   "outputs": [
    {
     "name": "stdout",
     "output_type": "stream",
     "text": [
      "the KL test returns the \"entropy\". To figure out what the number means thoug in terms of NULL rejection, help yourself with the fact that you know what the result should be for these three distributions!\n",
      "normal on normal 0.00527211066212\n",
      "poisson on normal 0.00523311596851\n",
      "binomial on normal 0.0690986635223\n"
     ]
    }
   ],
   "source": [
    "#get the bin centers\n",
    "bincenters_n = mybins_n[:-1] + 0.5*(mybins_n[1] - mybins_n[0])\n",
    "bincenters_b = mybins_b[:-1] + 0.5*(mybins_b[1] - mybins_b[0])\n",
    "bincenters_p = mybins_p[:-1] + 0.5*(mybins_p[1] - mybins_p[0])\n",
    "\n",
    "print ('the KL test returns the \"entropy\". ' + \n",
    "       \"To figure out what the number means thoug in terms of NULL rejection, help yourself \" + \n",
    "       \"with the fact that you know what the result should be for these three distributions!\")\n",
    "print (\"normal on normal\", \n",
    "    scipy.stats.entropy(distpdf_n, \n",
    "                            scipy.stats.norm.pdf(bincenters_n)) )\n",
    "print (\"poisson on normal\", \n",
    "       scipy.stats.entropy(distpdf_p, \n",
    "                                scipy.stats.norm.pdf(bincenters_p)))\n",
    "\n",
    "print (\"binomial on normal\", \n",
    "       scipy.stats.entropy(distpdf_b, \n",
    "                                scipy.stats.norm.pdf(bincenters_p)))\n",
    "\n",
    "#you can interpret this as a distance: \n",
    "# it increases as the distributions diverge"
   ]
  },
  {
   "cell_type": "markdown",
   "metadata": {
    "run_control": {
     "frozen": false,
     "read_only": false
    }
   },
   "source": [
    "# BINOMIAL - INSTRUCTIONS for assignment\n",
    "\n",
    "with the binomial distribution I can change n*p. larger n*p will make the distribution look more \"normal\" (i.e. Gaussian). \n",
    "In a loop test that the binomial tends to a normal distribution as you increase the value of n*p."
   ]
  },
  {
   "cell_type": "code",
   "execution_count": null,
   "metadata": {
    "ExecuteTime": {
     "end_time": "2017-10-10T22:35:43.924265",
     "start_time": "2017-10-10T22:35:43.914002"
    },
    "run_control": {
     "frozen": false,
     "read_only": false
    }
   },
   "outputs": [],
   "source": []
  },
  {
   "cell_type": "code",
   "execution_count": 6,
   "metadata": {
    "ExecuteTime": {
     "end_time": "2017-10-10T22:36:14.319175",
     "start_time": "2017-10-10T22:36:14.148194"
    },
    "hide_input": true,
    "run_control": {
     "frozen": false,
     "read_only": false
    },
    "scrolled": false
   },
   "outputs": [
    {
     "ename": "NameError",
     "evalue": "name 'narray' is not defined",
     "output_type": "error",
     "traceback": [
      "\u001b[0;31m---------------------------------------------------------------------------\u001b[0m",
      "\u001b[0;31mNameError\u001b[0m                                 Traceback (most recent call last)",
      "\u001b[0;32m<ipython-input-6-a8ed5a163363>\u001b[0m in \u001b[0;36m<module>\u001b[0;34m()\u001b[0m\n\u001b[1;32m      2\u001b[0m \u001b[0;34m\u001b[0m\u001b[0m\n\u001b[1;32m      3\u001b[0m \u001b[0;31m#loop over the different values of n (or n and p)\u001b[0m\u001b[0;34m\u001b[0m\u001b[0;34m\u001b[0m\u001b[0m\n\u001b[0;32m----> 4\u001b[0;31m \u001b[0;32mfor\u001b[0m \u001b[0mi\u001b[0m\u001b[0;34m,\u001b[0m\u001b[0mn\u001b[0m \u001b[0;32min\u001b[0m \u001b[0menumerate\u001b[0m\u001b[0;34m(\u001b[0m\u001b[0mnarray\u001b[0m\u001b[0;34m)\u001b[0m\u001b[0;34m:\u001b[0m\u001b[0;34m\u001b[0m\u001b[0m\n\u001b[0m\u001b[1;32m      5\u001b[0m     \u001b[0mp\u001b[0m \u001b[0;34m=\u001b[0m \u001b[0;36m0.5\u001b[0m \u001b[0;31m#parameter for the binomial, my arbitrary choice\u001b[0m\u001b[0;34m\u001b[0m\u001b[0m\n\u001b[1;32m      6\u001b[0m     \u001b[0;31m#generate the distribution\u001b[0m\u001b[0;34m\u001b[0m\u001b[0;34m\u001b[0m\u001b[0m\n",
      "\u001b[0;31mNameError\u001b[0m: name 'narray' is not defined"
     ]
    }
   ],
   "source": [
    "np.random.seed(999)\n",
    "\n",
    "#loop over the different values of n (or n and p)\n",
    "for i,n in enumerate(narray):\n",
    "    p = 0.5 #parameter for the binomial, my arbitrary choice\n",
    "    #generate the distribution\n",
    "    dist = (np.random.binomial(n, p, 1000) - n * p ) / np.sqrt(n * p * (1-p))\n",
    "    #run the tests. \n",
    "    ks_s_b[i] = scipy.stats.kstest(dist,'norm')[0]\n",
    "    ks_p_b[i] = scipy.stats.kstest(dist,'norm')[1]\n",
    "    #print (scipy.stats.kstest(dist,'norm'))\n",
    "    #print (scipy.stats.anderson(dist, dist='norm'))\n",
    "    ad_b[i] = scipy.stats.anderson(dist, dist='norm')[0]\n",
    "    #ad_b[i] = ad_b[i] / ad_b[0]\n",
    "    #print ad_b[i]\n",
    "  \n",
    "    # for KL and Pearson's chisq I have to simulate the normal distribution as well\n",
    "    mybins = np.linspace(min(dist), max(dist), 10) \n",
    "    bincenters = mybins[:-1] + 0.5 * (mybins[1] - mybins[0])\n",
    "\n",
    "    #when i was coding this up something was wrong. i put some plots in to figure out what... \n",
    "    # just so you know.\n",
    "    #if i%10 == 0: \n",
    "    #    pl.hist(dist, bins=mybins)\n",
    "    #    pl.plot(bincenters, scipy.stats.norm.pdf(bincenters)*1000)\n",
    "    kl_b [i] =  scipy.stats.entropy(np.histogram(dist, bins=mybins)[0], \n",
    "                                    scipy.stats.norm.pdf(bincenters) + n)\n",
    "    "
   ]
  },
  {
   "cell_type": "markdown",
   "metadata": {
    "run_control": {
     "frozen": false,
     "read_only": false
    }
   },
   "source": [
    "You want to see how the p-value (or the test statistics) behaves as a function of increasing n*p.\n",
    "So you can plot the p-value (or the test statistics) against the n*p\n",
    "\n",
    "think about how the captions are written in the paper  you have to read for last week assignment: a caption must describe the plot sufficiently well that I do not need to read the paper to understand it. "
   ]
  },
  {
   "cell_type": "code",
   "execution_count": null,
   "metadata": {
    "ExecuteTime": {
     "end_time": "2017-10-10T22:36:16.445603",
     "start_time": "2017-10-10T22:36:15.641033"
    },
    "hide_input": true,
    "run_control": {
     "frozen": false,
     "read_only": false
    }
   },
   "outputs": [],
   "source": [
    "\n",
    "fig = pl.figure(figsize = (15,5))\n",
    "fig.add_subplot(131)\n",
    "pl.plot(narray, ks_s_b, label='KS statistics')\n",
    "pl.plot(narray, ks_p_b, label='KS p-value')\n",
    "pl.legend()\n",
    "\n",
    "fig.add_subplot(132)\n",
    "pl.plot(narray, ad_b,  label='AD statistics')\n",
    "pl.plot([narray[0], narray[-1]],[threshold, threshold], label=\"treshold\")\n",
    "pl.ylim(0,10) #limit the y range or you cannot see the relevant part\n",
    "pl.legend()\n",
    "\n",
    "fig.add_subplot(133)\n",
    "pl.plot(narray, kl_b, label='K-L (entropy)')\n",
    "\n",
    "pl.legend();"
   ]
  },
  {
   "cell_type": "markdown",
   "metadata": {
    "run_control": {
     "frozen": false,
     "read_only": false
    }
   },
   "source": [
    "## WRITE A CAPTION HERE IN THIS CELL.."
   ]
  },
  {
   "cell_type": "markdown",
   "metadata": {
    "run_control": {
     "frozen": false,
     "read_only": false
    }
   },
   "source": [
    "# POISSON - repeat the exercise for the Poisson distribution increasing the lambda parameter of the distribution"
   ]
  },
  {
   "cell_type": "markdown",
   "metadata": {
    "run_control": {
     "frozen": false,
     "read_only": false
    }
   },
   "source": [
    "# NOTE on KL divergence: the KL divergence is a measure of how much approximation you have to do to represent one distribution with the other in terms of information content. You can see what it looks point by point, before you integrate and get a single distance number"
   ]
  },
  {
   "cell_type": "code",
   "execution_count": null,
   "metadata": {
    "ExecuteTime": {
     "end_time": "2017-10-10T22:37:13.234053",
     "start_time": "2017-10-10T22:37:12.370643"
    },
    "run_control": {
     "frozen": false,
     "read_only": false
    }
   },
   "outputs": [],
   "source": [
    "pl.figure(figsize=(15,15))\n",
    "\n",
    "q = lambda x, mu : scipy.stats.distributions.norm.pdf(x - mu)\n",
    "c = lambda x, mu : scipy.stats.distributions.chi2.pdf(x, df=mu)\n",
    "f = lambda x, mu : scipy.stats.distributions.f.pdf(x,100,100)\n",
    "\n",
    "Dkl = lambda x ,mu, p :  p(x, mu) * np.log10(q(x, mu)) + p(x, mu) * np.log10(p(x, mu))\n",
    "\n",
    "def model(x) : \n",
    "    #gaussian model from scratch\n",
    "    return 1. / (s * np.sqrt(2 * np.pi)) * np.exp(- ((x - m)**2 / 2. / s**2))\n",
    "\n",
    "x = np.linspace(-10,10,100)\n",
    "pl.plot(x, q(x, 1), label='norm')\n",
    "\n",
    "#print np.nansum(Dkl(np.linspace(0,30,1000), 1, p))\n",
    "\n",
    "pl.plot(x, c(x,1), label='f')\n",
    "pl.plot(x,Dkl(x, 1, c), '--', label = 'KL - chi2')\n",
    "\n",
    "#print np.nansum(Dkl(np.linspace(0,30,1000), 1, c))\n",
    "\n",
    "pl.plot(x, f(x,1), label='F')\n",
    "pl.plot(x, Dkl(x, 1, f), '--', label = 'KL - F')\n",
    "\n",
    "#print np.nansum(Dkl(np.linspace(0,30,1000), 1, f))\n",
    "bins = np.arange(0, 99, 10)\n",
    "\n",
    "pl.xlim(-10, 10)\n",
    "pl.legend(fontsize = 20);"
   ]
  },
  {
   "cell_type": "code",
   "execution_count": null,
   "metadata": {
    "run_control": {
     "frozen": false,
     "read_only": false
    }
   },
   "outputs": [],
   "source": []
  },
  {
   "cell_type": "code",
   "execution_count": null,
   "metadata": {
    "run_control": {
     "frozen": false,
     "read_only": false
    }
   },
   "outputs": [],
   "source": []
  }
 ],
 "metadata": {
  "anaconda-cloud": {},
  "kernelspec": {
   "display_name": "Python 3",
   "language": "python",
   "name": "python3"
  },
  "language_info": {
   "codemirror_mode": {
    "name": "ipython",
    "version": 3
   },
   "file_extension": ".py",
   "mimetype": "text/x-python",
   "name": "python",
   "nbconvert_exporter": "python",
   "pygments_lexer": "ipython3",
   "version": "3.6.1"
  },
  "latex_envs": {
   "LaTeX_envs_menu_present": true,
   "bibliofile": "biblio.bib",
   "cite_by": "apalike",
   "current_citInitial": 1,
   "eqLabelWithNumbers": true,
   "eqNumInitial": 1,
   "hotkeys": {
    "equation": "Ctrl-E",
    "itemize": "Ctrl-I"
   },
   "labels_anchors": false,
   "latex_user_defs": false,
   "report_style_numbering": false,
   "user_envs_cfg": false
  },
  "toc": {
   "colors": {
    "hover_highlight": "#DAA520",
    "running_highlight": "#FF0000",
    "selected_highlight": "#FFD700"
   },
   "moveMenuLeft": true,
   "nav_menu": {
    "height": "189px",
    "width": "251px"
   },
   "navigate_menu": true,
   "number_sections": false,
   "sideBar": true,
   "threshold": 4,
   "toc_cell": true,
   "toc_section_display": "block",
   "toc_window_display": true
  }
 },
 "nbformat": 4,
 "nbformat_minor": 1
}
