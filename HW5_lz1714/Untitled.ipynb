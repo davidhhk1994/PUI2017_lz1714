{
 "cells": [
  {
   "cell_type": "raw",
   "metadata": {},
   "source": [
    "! curl -O http://\n",
    "! wget"
   ]
  },
  {
   "cell_type": "markdown",
   "metadata": {},
   "source": [
    "!unzip XXX.zip"
   ]
  },
  {
   "cell_type": "code",
   "execution_count": 1,
   "metadata": {},
   "outputs": [
    {
     "name": "stderr",
     "output_type": "stream",
     "text": [
      "/Library/Frameworks/Python.framework/Versions/3.6/lib/python3.6/site-packages/statsmodels/compat/pandas.py:56: FutureWarning: The pandas.core.datetools module is deprecated and will be removed in a future version. Please use the pandas.tseries module instead.\n",
      "  from pandas.core import datetools\n"
     ]
    }
   ],
   "source": [
    "%matplotlib inline\n",
    "from __future__ import print_function, division\n",
    "import pandas as pd\n",
    "import matplotlib.pyplot as plt\n",
    "import os\n",
    "import numpy as np\n",
    "#import scipy.stats\n",
    "import statsmodels.api as sm\n",
    "import math"
   ]
  },
  {
   "cell_type": "code",
   "execution_count": 2,
   "metadata": {},
   "outputs": [],
   "source": [
    "np.random.seed(999)"
   ]
  },
  {
   "cell_type": "code",
   "execution_count": 3,
   "metadata": {},
   "outputs": [
    {
     "data": {
      "text/plain": [
       "array([[  1.        ,  82.30852361],\n",
       "       [  1.        ,  57.47700661],\n",
       "       [  1.        ,  20.72003185],\n",
       "       [  1.        ,  67.57132998],\n",
       "       [  1.        ,  18.18327365],\n",
       "       [  1.        ,  39.90031127],\n",
       "       [  1.        ,  48.46428527],\n",
       "       [  1.        ,  59.89472312],\n",
       "       [  1.        ,  66.53138702],\n",
       "       [  1.        ,  72.76536498],\n",
       "       [  1.        ,  81.095472  ],\n",
       "       [  1.        ,  21.87013176],\n",
       "       [  1.        ,  40.84934065],\n",
       "       [  1.        ,  28.14036497],\n",
       "       [  1.        ,  73.65918071],\n",
       "       [  1.        ,  13.00593379],\n",
       "       [  1.        ,  91.83250392],\n",
       "       [  1.        ,  46.46445984],\n",
       "       [  1.        ,  78.43919233],\n",
       "       [  1.        ,  52.63825382],\n",
       "       [  1.        ,  35.80470261],\n",
       "       [  1.        ,  77.61632399],\n",
       "       [  1.        ,  18.73809491],\n",
       "       [  1.        ,  47.11220095],\n",
       "       [  1.        ,  35.34750663],\n",
       "       [  1.        ,  45.12500025],\n",
       "       [  1.        ,  88.39982886],\n",
       "       [  1.        ,  17.31206055],\n",
       "       [  1.        ,  60.21380486],\n",
       "       [  1.        ,  59.27808509],\n",
       "       [  1.        ,  39.89827627],\n",
       "       [  1.        ,  97.59419322],\n",
       "       [  1.        ,  35.76484879],\n",
       "       [  1.        ,  55.74317488],\n",
       "       [  1.        ,  23.31556623],\n",
       "       [  1.        ,  27.67905863],\n",
       "       [  1.        ,  85.67380097],\n",
       "       [  1.        ,  10.33778829],\n",
       "       [  1.        ,  80.43589091],\n",
       "       [  1.        ,  85.01299452],\n",
       "       [  1.        ,  94.41166046],\n",
       "       [  1.        ,  97.53414969],\n",
       "       [  1.        ,  84.95407377],\n",
       "       [  1.        ,  15.92358453],\n",
       "       [  1.        ,  46.34133041],\n",
       "       [  1.        ,  43.73141377],\n",
       "       [  1.        ,  55.67512121],\n",
       "       [  1.        ,  98.00892637],\n",
       "       [  1.        ,  83.7091188 ],\n",
       "       [  1.        ,  26.87871197]])"
      ]
     },
     "execution_count": 3,
     "metadata": {},
     "output_type": "execute_result"
    }
   ],
   "source": [
    "x = np.random.uniform(10,100,50)\n",
    "\n",
    "x_2d = sm.add_constant(x)\n",
    "x_2d"
   ]
  },
  {
   "cell_type": "code",
   "execution_count": 4,
   "metadata": {},
   "outputs": [],
   "source": [
    "def makealine(x, a=10, b=5):\n",
    "    y = a * x + b\n",
    "    return y + np.random.randn(len(y))*y.mean()"
   ]
  },
  {
   "cell_type": "code",
   "execution_count": 5,
   "metadata": {},
   "outputs": [],
   "source": [
    "y = makealine(x)"
   ]
  },
  {
   "cell_type": "code",
   "execution_count": 6,
   "metadata": {},
   "outputs": [
    {
     "data": {
      "text/plain": [
       "<matplotlib.collections.PathCollection at 0x10b06bf60>"
      ]
     },
     "execution_count": 6,
     "metadata": {},
     "output_type": "execute_result"
    },
    {
     "data": {
      "image/png": "[encoded data removed]",
      "text/plain": [
       "<matplotlib.figure.Figure at 0x10b010550>"
      ]
     },
     "metadata": {},
     "output_type": "display_data"
    }
   ],
   "source": [
    "plt.scatter(x, y)"
   ]
  },
  {
   "cell_type": "code",
   "execution_count": 7,
   "metadata": {},
   "outputs": [],
   "source": [
    "lin_model = sm.OLS(y, x).fit()"
   ]
  },
  {
   "cell_type": "code",
   "execution_count": 8,
   "metadata": {},
   "outputs": [
    {
     "data": {
      "text/plain": [
       "array([ 1079.67943561,   753.95280269,   271.79435757,   886.36476784,\n",
       "         238.51851268,   523.39106166,   635.72871769,   785.66712193,\n",
       "         872.72334922,   954.49735639,  1063.7672698 ,   286.88075647,\n",
       "         535.83992425,   369.13034083,   966.22195576,   170.60492208,\n",
       "        1204.60994394,   609.49607133,  1028.92360589,   690.48061712,\n",
       "         469.66704559,  1018.12965664,   245.79636287,   617.99279468,\n",
       "         463.66979186,   591.92575289,  1159.58193823,   227.09040265,\n",
       "         789.85266645,   777.5783923 ,   523.36436754,  1280.18871965,\n",
       "         469.14426435,   731.20932017,   305.84119712,   363.07916958,\n",
       "        1123.82335413,   135.60560844,  1055.11523593,  1115.15524667,\n",
       "        1238.44194767,  1279.40110061,  1114.38235563,   208.87711264,\n",
       "         607.88092499,   573.6454266 ,   730.31662831,  1285.62896855,\n",
       "        1098.05169848,   352.58064774])"
      ]
     },
     "execution_count": 8,
     "metadata": {},
     "output_type": "execute_result"
    }
   ],
   "source": [
    "lin_model.fittedvalues"
   ]
  },
  {
   "cell_type": "code",
   "execution_count": 9,
   "metadata": {},
   "outputs": [
    {
     "data": {
      "text/plain": [
       "[<matplotlib.lines.Line2D at 0x10b0d74e0>]"
      ]
     },
     "execution_count": 9,
     "metadata": {},
     "output_type": "execute_result"
    },
    {
     "data": {
      "image/png": "[encoded data removed]",
      "text/plain": [
       "<matplotlib.figure.Figure at 0x10b010240>"
      ]
     },
     "metadata": {},
     "output_type": "display_data"
    }
   ],
   "source": [
    "plt.plot(x, y , \".\")\n",
    "plt.plot(x,)"
   ]
  },
  {
   "cell_type": "code",
   "execution_count": 10,
   "metadata": {},
   "outputs": [
    {
     "data": {
      "text/html": [
       "<table class=\"simpletable\">\n",
       "<caption>OLS Regression Results</caption>\n",
       "<tr>\n",
       "  <th>Dep. Variable:</th>            <td>y</td>        <th>  R-squared:         </th> <td>   0.716</td>\n",
       "</tr>\n",
       "<tr>\n",
       "  <th>Model:</th>                   <td>OLS</td>       <th>  Adj. R-squared:    </th> <td>   0.710</td>\n",
       "</tr>\n",
       "<tr>\n",
       "  <th>Method:</th>             <td>Least Squares</td>  <th>  F-statistic:       </th> <td>   123.3</td>\n",
       "</tr>\n",
       "<tr>\n",
       "  <th>Date:</th>             <td>Thu, 19 Oct 2017</td> <th>  Prob (F-statistic):</th> <td>5.57e-15</td>\n",
       "</tr>\n",
       "<tr>\n",
       "  <th>Time:</th>                 <td>10:25:08</td>     <th>  Log-Likelihood:    </th> <td> -381.85</td>\n",
       "</tr>\n",
       "<tr>\n",
       "  <th>No. Observations:</th>      <td>    50</td>      <th>  AIC:               </th> <td>   765.7</td>\n",
       "</tr>\n",
       "<tr>\n",
       "  <th>Df Residuals:</th>          <td>    49</td>      <th>  BIC:               </th> <td>   767.6</td>\n",
       "</tr>\n",
       "<tr>\n",
       "  <th>Df Model:</th>              <td>     1</td>      <th>                     </th>     <td> </td>   \n",
       "</tr>\n",
       "<tr>\n",
       "  <th>Covariance Type:</th>      <td>nonrobust</td>    <th>                     </th>     <td> </td>   \n",
       "</tr>\n",
       "</table>\n",
       "<table class=\"simpletable\">\n",
       "<tr>\n",
       "   <td></td>     <th>coef</th>     <th>std err</th>      <th>t</th>      <th>P>|t|</th>  <th>[0.025</th>    <th>0.975]</th>  \n",
       "</tr>\n",
       "<tr>\n",
       "  <th>x1</th> <td>   13.1175</td> <td>    1.181</td> <td>   11.103</td> <td> 0.000</td> <td>   10.743</td> <td>   15.492</td>\n",
       "</tr>\n",
       "</table>\n",
       "<table class=\"simpletable\">\n",
       "<tr>\n",
       "  <th>Omnibus:</th>       <td> 0.802</td> <th>  Durbin-Watson:     </th> <td>   2.268</td>\n",
       "</tr>\n",
       "<tr>\n",
       "  <th>Prob(Omnibus):</th> <td> 0.670</td> <th>  Jarque-Bera (JB):  </th> <td>   0.895</td>\n",
       "</tr>\n",
       "<tr>\n",
       "  <th>Skew:</th>          <td>-0.228</td> <th>  Prob(JB):          </th> <td>   0.639</td>\n",
       "</tr>\n",
       "<tr>\n",
       "  <th>Kurtosis:</th>      <td> 2.530</td> <th>  Cond. No.          </th> <td>    1.00</td>\n",
       "</tr>\n",
       "</table>"
      ],
      "text/plain": [
       "<class 'statsmodels.iolib.summary.Summary'>\n",
       "\"\"\"\n",
       "                            OLS Regression Results                            \n",
       "==============================================================================\n",
       "Dep. Variable:                      y   R-squared:                       0.716\n",
       "Model:                            OLS   Adj. R-squared:                  0.710\n",
       "Method:                 Least Squares   F-statistic:                     123.3\n",
       "Date:                Thu, 19 Oct 2017   Prob (F-statistic):           5.57e-15\n",
       "Time:                        10:25:08   Log-Likelihood:                -381.85\n",
       "No. Observations:                  50   AIC:                             765.7\n",
       "Df Residuals:                      49   BIC:                             767.6\n",
       "Df Model:                           1                                         \n",
       "Covariance Type:            nonrobust                                         \n",
       "==============================================================================\n",
       "                 coef    std err          t      P>|t|      [0.025      0.975]\n",
       "------------------------------------------------------------------------------\n",
       "x1            13.1175      1.181     11.103      0.000      10.743      15.492\n",
       "==============================================================================\n",
       "Omnibus:                        0.802   Durbin-Watson:                   2.268\n",
       "Prob(Omnibus):                  0.670   Jarque-Bera (JB):                0.895\n",
       "Skew:                          -0.228   Prob(JB):                        0.639\n",
       "Kurtosis:                       2.530   Cond. No.                         1.00\n",
       "==============================================================================\n",
       "\n",
       "Warnings:\n",
       "[1] Standard Errors assume that the covariance matrix of the errors is correctly specified.\n",
       "\"\"\""
      ]
     },
     "execution_count": 10,
     "metadata": {},
     "output_type": "execute_result"
    }
   ],
   "source": [
    "lin_model.summary()"
   ]
  },
  {
   "cell_type": "code",
   "execution_count": 11,
   "metadata": {},
   "outputs": [],
   "source": [
    "import statsmodels.formula.api as smf"
   ]
  },
  {
   "cell_type": "raw",
   "metadata": {},
   "source": [
    "smf.ols('y ~ x', data=df)"
   ]
  },
  {
   "cell_type": "code",
   "execution_count": 12,
   "metadata": {},
   "outputs": [],
   "source": [
    "p2 = np.poly1d(np.polyfit(x, y, 2))"
   ]
  },
  {
   "cell_type": "code",
   "execution_count": 14,
   "metadata": {},
   "outputs": [
    {
     "data": {
      "image/png": "[encoded data removed]",
      "text/plain": [
       "<matplotlib.figure.Figure at 0x10b1e7630>"
      ]
     },
     "metadata": {},
     "output_type": "display_data"
    }
   ],
   "source": [
    "#xp = np.linspace(-2, 6, 100)\n",
    "plt.plot(x, y, '.', x, p2(x), '--')\n",
    "#plt.ylim(-2,2)\n",
    "plt.show()"
   ]
  },
  {
   "cell_type": "code",
   "execution_count": null,
   "metadata": {},
   "outputs": [],
   "source": []
  }
 ],
 "metadata": {
  "kernelspec": {
   "display_name": "Python 3",
   "language": "python",
   "name": "python3"
  },
  "language_info": {
   "codemirror_mode": {
    "name": "ipython",
    "version": 3
   },
   "file_extension": ".py",
   "mimetype": "text/x-python",
   "name": "python",
   "nbconvert_exporter": "python",
   "pygments_lexer": "ipython3",
   "version": "3.6.1"
  }
 },
 "nbformat": 4,
 "nbformat_minor": 2
}
