{
 "cells": [
  {
   "cell_type": "code",
   "execution_count": null,
   "metadata": {},
   "outputs": [],
   "source": [
    "! cule -O http://\n",
    "! wget"
   ]
  },
  {
   "cell_type": "code",
   "execution_count": 1,
   "metadata": {},
   "outputs": [
    {
     "name": "stderr",
     "output_type": "stream",
     "text": [
      "/Library/Frameworks/Python.framework/Versions/3.6/lib/python3.6/site-packages/statsmodels/compat/pandas.py:56: FutureWarning: The pandas.core.datetools module is deprecated and will be removed in a future version. Please use the pandas.tseries module instead.\n",
      "  from pandas.core import datetools\n"
     ]
    }
   ],
   "source": [
    "%matplotlib inline\n",
    "from __future__ import print_function, division\n",
    "import pandas as pd\n",
    "import matplotlib.pyplot as plt\n",
    "import os\n",
    "import numpy as np\n",
    "#import scipy.stats\n",
    "import statsmodels.api as sm\n",
    "import math"
   ]
  },
  {
   "cell_type": "code",
   "execution_count": 2,
   "metadata": {},
   "outputs": [],
   "source": [
    "np.random.seed(999)"
   ]
  },
  {
   "cell_type": "code",
   "execution_count": 13,
   "metadata": {},
   "outputs": [
    {
     "data": {
      "text/plain": [
       "array([[  1.        ,  45.89360378],\n",
       "       [  1.        ,  79.53107181],\n",
       "       [  1.        ,  84.11230245],\n",
       "       [  1.        ,  95.70067977],\n",
       "       [  1.        ,  16.13701085],\n",
       "       [  1.        ,  27.25121812],\n",
       "       [  1.        ,  80.62767945],\n",
       "       [  1.        ,  70.81512078],\n",
       "       [  1.        ,  34.43481287],\n",
       "       [  1.        ,  10.1585036 ],\n",
       "       [  1.        ,  63.45614681],\n",
       "       [  1.        ,  83.81775947],\n",
       "       [  1.        ,  51.50457357],\n",
       "       [  1.        ,  69.21898966],\n",
       "       [  1.        ,  56.50624419],\n",
       "       [  1.        ,  96.07443673],\n",
       "       [  1.        ,  83.91369259],\n",
       "       [  1.        ,  45.89962031],\n",
       "       [  1.        ,  90.4011928 ],\n",
       "       [  1.        ,  34.25150643],\n",
       "       [  1.        ,  58.82621809],\n",
       "       [  1.        ,  32.72355006],\n",
       "       [  1.        ,  57.60972024],\n",
       "       [  1.        ,  53.91145432],\n",
       "       [  1.        ,  98.01057877],\n",
       "       [  1.        ,  56.43253294],\n",
       "       [  1.        ,  37.28814944],\n",
       "       [  1.        ,  29.7710471 ],\n",
       "       [  1.        ,  60.28956837],\n",
       "       [  1.        ,  44.51394884],\n",
       "       [  1.        ,  87.02910023],\n",
       "       [  1.        ,  15.27391611],\n",
       "       [  1.        ,  17.81184228],\n",
       "       [  1.        ,  55.09386356],\n",
       "       [  1.        ,  42.98271655],\n",
       "       [  1.        ,  77.01962766],\n",
       "       [  1.        ,  19.37494158],\n",
       "       [  1.        ,  96.33049747],\n",
       "       [  1.        ,  71.57663911],\n",
       "       [  1.        ,  13.7169149 ],\n",
       "       [  1.        ,  17.54092507],\n",
       "       [  1.        ,  67.24817007],\n",
       "       [  1.        ,  79.73047461],\n",
       "       [  1.        ,  35.79922692],\n",
       "       [  1.        ,  36.91213879],\n",
       "       [  1.        ,  34.35819614],\n",
       "       [  1.        ,  35.09983471],\n",
       "       [  1.        ,  16.93885401],\n",
       "       [  1.        ,  58.70265285],\n",
       "       [  1.        ,  10.47351074]])"
      ]
     },
     "execution_count": 13,
     "metadata": {},
     "output_type": "execute_result"
    }
   ],
   "source": [
    "x = np.random.uniform(10,100,50)\n",
    "\n",
    "x_2d = sm.add_constant(x)\n",
    "x_2d"
   ]
  },
  {
   "cell_type": "code",
   "execution_count": 4,
   "metadata": {},
   "outputs": [],
   "source": [
    "def makealine(x, a=10, b=5):\n",
    "    y = a * x + b\n",
    "    return y + np.random.randn(len(y))*y.mean()"
   ]
  },
  {
   "cell_type": "code",
   "execution_count": 5,
   "metadata": {},
   "outputs": [],
   "source": [
    "L = makealine(x)"
   ]
  },
  {
   "cell_type": "code",
   "execution_count": 6,
   "metadata": {},
   "outputs": [
    {
     "data": {
      "text/plain": [
       "<matplotlib.collections.PathCollection at 0x10a4eda20>"
      ]
     },
     "execution_count": 6,
     "metadata": {},
     "output_type": "execute_result"
    },
    {
     "data": {
      "image/png": "[encoded data removed]",
      "text/plain": [
       "<matplotlib.figure.Figure at 0x10a45e588>"
      ]
     },
     "metadata": {},
     "output_type": "display_data"
    }
   ],
   "source": [
    "plt.scatter(x, L)"
   ]
  },
  {
   "cell_type": "code",
   "execution_count": 19,
   "metadata": {},
   "outputs": [],
   "source": [
    "lin_model = sm.OLS(L, x).fit()"
   ]
  },
  {
   "cell_type": "code",
   "execution_count": 20,
   "metadata": {},
   "outputs": [
    {
     "data": {
      "text/plain": [
       "array([  479.84076959,   831.53745971,   879.43653617,  1000.59886448,\n",
       "         168.7205856 ,   284.92522704,   843.00304558,   740.40779665,\n",
       "         360.03333246,   106.21227765,   663.46601301,   876.35694075,\n",
       "         538.50628813,   723.71944086,   590.80127658,  1004.50668202,\n",
       "         877.35996992,   479.9036755 ,   945.19005599,   358.11677119,\n",
       "         615.05777352,   342.14121693,   602.33867507,   563.67144002,\n",
       "        1024.75002337,   590.03058825,   389.86640508,   311.27130962,\n",
       "         630.35783865,   465.41578149,   909.93312775,   159.69649485,\n",
       "         186.23179279,   576.0341249 ,   449.40597574,   805.27904472,\n",
       "         202.57478409,  1007.18392619,   748.36985477,   143.41726211,\n",
       "         183.39921668,   703.11352831,   833.62231655,   374.29896935,\n",
       "         385.93502415,   359.23226591,   366.98647114,   177.10426015,\n",
       "         613.76583669,   109.50583613])"
      ]
     },
     "execution_count": 20,
     "metadata": {},
     "output_type": "execute_result"
    }
   ],
   "source": [
    "lin_model.fittedvalues"
   ]
  },
  {
   "cell_type": "code",
   "execution_count": 21,
   "metadata": {},
   "outputs": [
    {
     "data": {
      "text/plain": [
       "[<matplotlib.lines.Line2D at 0x10a9a3748>]"
      ]
     },
     "execution_count": 21,
     "metadata": {},
     "output_type": "execute_result"
    },
    {
     "data": {
      "image/png": "[encoded data removed]",
      "text/plain": [
       "<matplotlib.figure.Figure at 0x10a657a20>"
      ]
     },
     "metadata": {},
     "output_type": "display_data"
    }
   ],
   "source": [
    "plt.plot(x, L , \".\")\n",
    "plt.plot(x,)"
   ]
  },
  {
   "cell_type": "code",
   "execution_count": 22,
   "metadata": {},
   "outputs": [
    {
     "data": {
      "text/html": [
       "<table class=\"simpletable\">\n",
       "<caption>OLS Regression Results</caption>\n",
       "<tr>\n",
       "  <th>Dep. Variable:</th>            <td>y</td>        <th>  R-squared:         </th> <td>   0.428</td>\n",
       "</tr>\n",
       "<tr>\n",
       "  <th>Model:</th>                   <td>OLS</td>       <th>  Adj. R-squared:    </th> <td>   0.416</td>\n",
       "</tr>\n",
       "<tr>\n",
       "  <th>Method:</th>             <td>Least Squares</td>  <th>  F-statistic:       </th> <td>   36.68</td>\n",
       "</tr>\n",
       "<tr>\n",
       "  <th>Date:</th>             <td>Thu, 12 Oct 2017</td> <th>  Prob (F-statistic):</th> <td>1.91e-07</td>\n",
       "</tr>\n",
       "<tr>\n",
       "  <th>Time:</th>                 <td>10:57:40</td>     <th>  Log-Likelihood:    </th> <td> -399.31</td>\n",
       "</tr>\n",
       "<tr>\n",
       "  <th>No. Observations:</th>      <td>    50</td>      <th>  AIC:               </th> <td>   800.6</td>\n",
       "</tr>\n",
       "<tr>\n",
       "  <th>Df Residuals:</th>          <td>    49</td>      <th>  BIC:               </th> <td>   802.5</td>\n",
       "</tr>\n",
       "<tr>\n",
       "  <th>Df Model:</th>              <td>     1</td>      <th>                     </th>     <td> </td>   \n",
       "</tr>\n",
       "<tr>\n",
       "  <th>Covariance Type:</th>      <td>nonrobust</td>    <th>                     </th>     <td> </td>   \n",
       "</tr>\n",
       "</table>\n",
       "<table class=\"simpletable\">\n",
       "<tr>\n",
       "   <td></td>     <th>coef</th>     <th>std err</th>      <th>t</th>      <th>P>|t|</th>  <th>[0.025</th>    <th>0.975]</th>  \n",
       "</tr>\n",
       "<tr>\n",
       "  <th>x1</th> <td>   10.4555</td> <td>    1.726</td> <td>    6.057</td> <td> 0.000</td> <td>    6.986</td> <td>   13.925</td>\n",
       "</tr>\n",
       "</table>\n",
       "<table class=\"simpletable\">\n",
       "<tr>\n",
       "  <th>Omnibus:</th>       <td> 1.807</td> <th>  Durbin-Watson:     </th> <td>   2.022</td>\n",
       "</tr>\n",
       "<tr>\n",
       "  <th>Prob(Omnibus):</th> <td> 0.405</td> <th>  Jarque-Bera (JB):  </th> <td>   1.315</td>\n",
       "</tr>\n",
       "<tr>\n",
       "  <th>Skew:</th>          <td> 0.396</td> <th>  Prob(JB):          </th> <td>   0.518</td>\n",
       "</tr>\n",
       "<tr>\n",
       "  <th>Kurtosis:</th>      <td> 3.054</td> <th>  Cond. No.          </th> <td>    1.00</td>\n",
       "</tr>\n",
       "</table>"
      ],
      "text/plain": [
       "<class 'statsmodels.iolib.summary.Summary'>\n",
       "\"\"\"\n",
       "                            OLS Regression Results                            \n",
       "==============================================================================\n",
       "Dep. Variable:                      y   R-squared:                       0.428\n",
       "Model:                            OLS   Adj. R-squared:                  0.416\n",
       "Method:                 Least Squares   F-statistic:                     36.68\n",
       "Date:                Thu, 12 Oct 2017   Prob (F-statistic):           1.91e-07\n",
       "Time:                        10:57:40   Log-Likelihood:                -399.31\n",
       "No. Observations:                  50   AIC:                             800.6\n",
       "Df Residuals:                      49   BIC:                             802.5\n",
       "Df Model:                           1                                         \n",
       "Covariance Type:            nonrobust                                         \n",
       "==============================================================================\n",
       "                 coef    std err          t      P>|t|      [0.025      0.975]\n",
       "------------------------------------------------------------------------------\n",
       "x1            10.4555      1.726      6.057      0.000       6.986      13.925\n",
       "==============================================================================\n",
       "Omnibus:                        1.807   Durbin-Watson:                   2.022\n",
       "Prob(Omnibus):                  0.405   Jarque-Bera (JB):                1.315\n",
       "Skew:                           0.396   Prob(JB):                        0.518\n",
       "Kurtosis:                       3.054   Cond. No.                         1.00\n",
       "==============================================================================\n",
       "\n",
       "Warnings:\n",
       "[1] Standard Errors assume that the covariance matrix of the errors is correctly specified.\n",
       "\"\"\""
      ]
     },
     "execution_count": 22,
     "metadata": {},
     "output_type": "execute_result"
    }
   ],
   "source": [
    "lin_model.summary()"
   ]
  },
  {
   "cell_type": "code",
   "execution_count": 23,
   "metadata": {},
   "outputs": [],
   "source": [
    "import statsmodels.formula.api as smf"
   ]
  },
  {
   "cell_type": "code",
   "execution_count": 24,
   "metadata": {},
   "outputs": [
    {
     "ename": "NameError",
     "evalue": "name 'df' is not defined",
     "output_type": "error",
     "traceback": [
      "\u001b[0;31m---------------------------------------------------------------------------\u001b[0m",
      "\u001b[0;31mNameError\u001b[0m                                 Traceback (most recent call last)",
      "\u001b[0;32m<ipython-input-24-2da7a651e6cf>\u001b[0m in \u001b[0;36m<module>\u001b[0;34m()\u001b[0m\n\u001b[0;32m----> 1\u001b[0;31m \u001b[0msmf\u001b[0m\u001b[0;34m.\u001b[0m\u001b[0mols\u001b[0m\u001b[0;34m(\u001b[0m\u001b[0;34m'y ~ x'\u001b[0m\u001b[0;34m,\u001b[0m \u001b[0mdata\u001b[0m\u001b[0;34m=\u001b[0m\u001b[0mdf\u001b[0m\u001b[0;34m)\u001b[0m\u001b[0;34m\u001b[0m\u001b[0m\n\u001b[0m",
      "\u001b[0;31mNameError\u001b[0m: name 'df' is not defined"
     ]
    }
   ],
   "source": [
    "smf.ols('y ~ x', data=df)"
   ]
  },
  {
   "cell_type": "code",
   "execution_count": null,
   "metadata": {},
   "outputs": [],
   "source": []
  },
  {
   "cell_type": "code",
   "execution_count": null,
   "metadata": {},
   "outputs": [],
   "source": []
  }
 ],
 "metadata": {
  "kernelspec": {
   "display_name": "Python 3",
   "language": "python",
   "name": "python3"
  },
  "language_info": {
   "codemirror_mode": {
    "name": "ipython",
    "version": 3
   },
   "file_extension": ".py",
   "mimetype": "text/x-python",
   "name": "python",
   "nbconvert_exporter": "python",
   "pygments_lexer": "ipython3",
   "version": "3.6.1"
  }
 },
 "nbformat": 4,
 "nbformat_minor": 2
}
