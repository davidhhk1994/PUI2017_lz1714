{
 "cells": [
  {
   "cell_type": "code",
   "execution_count": 1,
   "metadata": {
    "collapsed": false
   },
   "outputs": [
    {
     "name": "stderr",
     "output_type": "stream",
     "text": [
      "/opt/rh/anaconda/root/envs/PUI2016_Python3/lib/python3.5/site-packages/IPython/html.py:14: ShimWarning: The `IPython.html` package has been deprecated. You should import from `notebook` instead. `IPython.html.widgets` has moved to `ipywidgets`.\n",
      "  \"`IPython.html.widgets` has moved to `ipywidgets`.\", ShimWarning)\n"
     ]
    }
   ],
   "source": [
    "%matplotlib inline\n",
    "import numpy as np\n",
    "import pandas as pd\n",
    "from pandas import Series, DataFrame\n",
    "from __future__ import division, print_function\n",
    "import sys\n",
    "import os\n",
    "# using the pyplot doing the plotting\n",
    "import matplotlib.pyplot as plt\n",
    "# import style \"seaborn\"\n",
    "import seaborn as sns"
   ]
  },
  {
   "cell_type": "markdown",
   "metadata": {},
   "source": [
    "#### Check the environmental variable DFDATA"
   ]
  },
  {
   "cell_type": "code",
   "execution_count": 2,
   "metadata": {
    "collapsed": false
   },
   "outputs": [
    {
     "data": {
      "text/plain": [
       "'/gws/open/NYCOpenData/nycopendata/data'"
      ]
     },
     "execution_count": 2,
     "metadata": {},
     "output_type": "execute_result"
    }
   ],
   "source": [
    "os.getenv(\"DFDATA\")"
   ]
  },
  {
   "cell_type": "markdown",
   "metadata": {},
   "source": [
    "#### Use pandas to read in the CSV file from the DF into a pandas dataframe"
   ]
  },
  {
   "cell_type": "code",
   "execution_count": 3,
   "metadata": {
    "collapsed": false
   },
   "outputs": [],
   "source": [
    "DFDATA = os.getenv(\"DFDATA\")"
   ]
  },
  {
   "cell_type": "code",
   "execution_count": 4,
   "metadata": {
    "collapsed": false,
    "scrolled": true
   },
   "outputs": [
    {
     "data": {
      "text/plain": [
       "pandas.core.frame.DataFrame"
      ]
     },
     "execution_count": 4,
     "metadata": {},
     "output_type": "execute_result"
    }
   ],
   "source": [
    "df = pd.read_csv(DFDATA + '/dhri-72kk/1404229302/dhri-72kk')\n",
    "type(df)"
   ]
  },
  {
   "cell_type": "markdown",
   "metadata": {},
   "source": [
    "#### Display the top few rows of the DF"
   ]
  },
  {
   "cell_type": "code",
   "execution_count": 5,
   "metadata": {
    "collapsed": false
   },
   "outputs": [
    {
     "data": {
      "text/html": [
       "<div>\n",
       "<table border=\"1\" class=\"dataframe\">\n",
       "  <thead>\n",
       "    <tr style=\"text-align: right;\">\n",
       "      <th></th>\n",
       "      <th>Project Building DW ID</th>\n",
       "      <th>Project ID</th>\n",
       "      <th>Building ID</th>\n",
       "      <th>Boro ID</th>\n",
       "      <th>Block</th>\n",
       "      <th>Lot</th>\n",
       "      <th>BIN</th>\n",
       "      <th>House Number</th>\n",
       "      <th>Street Name</th>\n",
       "      <th>Total Building Units</th>\n",
       "      <th>Base Square Footage</th>\n",
       "      <th>Stories</th>\n",
       "    </tr>\n",
       "  </thead>\n",
       "  <tbody>\n",
       "    <tr>\n",
       "      <th>0</th>\n",
       "      <td>39874</td>\n",
       "      <td>44516</td>\n",
       "      <td>943627</td>\n",
       "      <td>1.0</td>\n",
       "      <td>2011.0</td>\n",
       "      <td>57.0</td>\n",
       "      <td>1000000.0</td>\n",
       "      <td>148</td>\n",
       "      <td>WEST 143 STREET</td>\n",
       "      <td>34.0</td>\n",
       "      <td>NaN</td>\n",
       "      <td>6.0</td>\n",
       "    </tr>\n",
       "    <tr>\n",
       "      <th>1</th>\n",
       "      <td>39251</td>\n",
       "      <td>44516</td>\n",
       "      <td>828154</td>\n",
       "      <td>1.0</td>\n",
       "      <td>2011.0</td>\n",
       "      <td>55.0</td>\n",
       "      <td>1087785.0</td>\n",
       "      <td>142</td>\n",
       "      <td>WEST 143 STREET</td>\n",
       "      <td>19.0</td>\n",
       "      <td>NaN</td>\n",
       "      <td>6.0</td>\n",
       "    </tr>\n",
       "    <tr>\n",
       "      <th>2</th>\n",
       "      <td>39545</td>\n",
       "      <td>44473</td>\n",
       "      <td>900704</td>\n",
       "      <td>3.0</td>\n",
       "      <td>4469.0</td>\n",
       "      <td>1.0</td>\n",
       "      <td>3395103.0</td>\n",
       "      <td>1490</td>\n",
       "      <td>DUMONT AVE</td>\n",
       "      <td>176.0</td>\n",
       "      <td>NaN</td>\n",
       "      <td>NaN</td>\n",
       "    </tr>\n",
       "    <tr>\n",
       "      <th>3</th>\n",
       "      <td>40328</td>\n",
       "      <td>44450</td>\n",
       "      <td>937734</td>\n",
       "      <td>2.0</td>\n",
       "      <td>4596.0</td>\n",
       "      <td>22.0</td>\n",
       "      <td>2118206.0</td>\n",
       "      <td>700</td>\n",
       "      <td>ROSEWOOD STREET</td>\n",
       "      <td>125.0</td>\n",
       "      <td>NaN</td>\n",
       "      <td>8.0</td>\n",
       "    </tr>\n",
       "    <tr>\n",
       "      <th>4</th>\n",
       "      <td>39242</td>\n",
       "      <td>44502</td>\n",
       "      <td>904928</td>\n",
       "      <td>3.0</td>\n",
       "      <td>1149.0</td>\n",
       "      <td>65.0</td>\n",
       "      <td>3028315.0</td>\n",
       "      <td>521</td>\n",
       "      <td>ST MARKS AVENUE</td>\n",
       "      <td>38.0</td>\n",
       "      <td>NaN</td>\n",
       "      <td>8.0</td>\n",
       "    </tr>\n",
       "  </tbody>\n",
       "</table>\n",
       "</div>"
      ],
      "text/plain": [
       "   Project Building DW ID  Project ID  Building ID  Boro ID   Block   Lot  \\\n",
       "0                   39874       44516       943627      1.0  2011.0  57.0   \n",
       "1                   39251       44516       828154      1.0  2011.0  55.0   \n",
       "2                   39545       44473       900704      3.0  4469.0   1.0   \n",
       "3                   40328       44450       937734      2.0  4596.0  22.0   \n",
       "4                   39242       44502       904928      3.0  1149.0  65.0   \n",
       "\n",
       "         BIN House Number      Street Name  Total Building Units  \\\n",
       "0  1000000.0          148  WEST 143 STREET                  34.0   \n",
       "1  1087785.0          142  WEST 143 STREET                  19.0   \n",
       "2  3395103.0         1490       DUMONT AVE                 176.0   \n",
       "3  2118206.0          700  ROSEWOOD STREET                 125.0   \n",
       "4  3028315.0          521  ST MARKS AVENUE                  38.0   \n",
       "\n",
       "   Base Square Footage  Stories  \n",
       "0                  NaN      6.0  \n",
       "1                  NaN      6.0  \n",
       "2                  NaN      NaN  \n",
       "3                  NaN      8.0  \n",
       "4                  NaN      8.0  "
      ]
     },
     "execution_count": 5,
     "metadata": {},
     "output_type": "execute_result"
    }
   ],
   "source": [
    "df.head()"
   ]
  },
  {
   "cell_type": "markdown",
   "metadata": {},
   "source": [
    "#### Remove all but 2 numerical values columns"
   ]
  },
  {
   "cell_type": "code",
   "execution_count": 6,
   "metadata": {
    "collapsed": false
   },
   "outputs": [
    {
     "data": {
      "text/plain": [
       "Index(['Project Building DW ID', 'Project ID', 'Building ID', 'Boro ID',\n",
       "       'Block', 'Lot', 'BIN', 'House Number', 'Street Name',\n",
       "       'Total Building Units', 'Base Square Footage', 'Stories'],\n",
       "      dtype='object')"
      ]
     },
     "execution_count": 6,
     "metadata": {},
     "output_type": "execute_result"
    }
   ],
   "source": [
    "df.columns"
   ]
  },
  {
   "cell_type": "code",
   "execution_count": 7,
   "metadata": {
    "collapsed": false
   },
   "outputs": [
    {
     "data": {
      "text/html": [
       "<div>\n",
       "<table border=\"1\" class=\"dataframe\">\n",
       "  <thead>\n",
       "    <tr style=\"text-align: right;\">\n",
       "      <th></th>\n",
       "      <th>Total Building Units</th>\n",
       "      <th>Base Square Footage</th>\n",
       "    </tr>\n",
       "  </thead>\n",
       "  <tbody>\n",
       "    <tr>\n",
       "      <th>0</th>\n",
       "      <td>34.0</td>\n",
       "      <td>NaN</td>\n",
       "    </tr>\n",
       "    <tr>\n",
       "      <th>1</th>\n",
       "      <td>19.0</td>\n",
       "      <td>NaN</td>\n",
       "    </tr>\n",
       "    <tr>\n",
       "      <th>2</th>\n",
       "      <td>176.0</td>\n",
       "      <td>NaN</td>\n",
       "    </tr>\n",
       "    <tr>\n",
       "      <th>3</th>\n",
       "      <td>125.0</td>\n",
       "      <td>NaN</td>\n",
       "    </tr>\n",
       "    <tr>\n",
       "      <th>4</th>\n",
       "      <td>38.0</td>\n",
       "      <td>NaN</td>\n",
       "    </tr>\n",
       "    <tr>\n",
       "      <th>5</th>\n",
       "      <td>84.0</td>\n",
       "      <td>NaN</td>\n",
       "    </tr>\n",
       "    <tr>\n",
       "      <th>6</th>\n",
       "      <td>76.0</td>\n",
       "      <td>NaN</td>\n",
       "    </tr>\n",
       "    <tr>\n",
       "      <th>7</th>\n",
       "      <td>40.0</td>\n",
       "      <td>NaN</td>\n",
       "    </tr>\n",
       "    <tr>\n",
       "      <th>8</th>\n",
       "      <td>105.0</td>\n",
       "      <td>NaN</td>\n",
       "    </tr>\n",
       "    <tr>\n",
       "      <th>9</th>\n",
       "      <td>92.0</td>\n",
       "      <td>NaN</td>\n",
       "    </tr>\n",
       "  </tbody>\n",
       "</table>\n",
       "</div>"
      ],
      "text/plain": [
       "   Total Building Units  Base Square Footage\n",
       "0                  34.0                  NaN\n",
       "1                  19.0                  NaN\n",
       "2                 176.0                  NaN\n",
       "3                 125.0                  NaN\n",
       "4                  38.0                  NaN\n",
       "5                  84.0                  NaN\n",
       "6                  76.0                  NaN\n",
       "7                  40.0                  NaN\n",
       "8                 105.0                  NaN\n",
       "9                  92.0                  NaN"
      ]
     },
     "execution_count": 7,
     "metadata": {},
     "output_type": "execute_result"
    }
   ],
   "source": [
    "df.drop([\"Project Building DW ID\", \"Project ID\", \"Building ID\", \"Boro ID\", \"Block\", \"Lot\",\n",
    "         \"BIN\", \"House Number\", \"Street Name\", \"Stories\"], axis=1, inplace=True)\n",
    "df.head(10)"
   ]
  },
  {
   "cell_type": "markdown",
   "metadata": {},
   "source": [
    "#### Plot the columns one against the other in a scatter plot using the dataframe plot method"
   ]
  },
  {
   "cell_type": "code",
   "execution_count": 15,
   "metadata": {
    "collapsed": false
   },
   "outputs": [
    {
     "data": {
      "text/plain": [
       "<matplotlib.text.Text at 0x7fbf334a3eb8>"
      ]
     },
     "execution_count": 15,
     "metadata": {},
     "output_type": "execute_result"
    },
    {
     "data": {
      "image/png": "[encoded data removed]",
      "text/plain": [
       "<matplotlib.figure.Figure at 0x7fbf334b7cf8>"
      ]
     },
     "metadata": {},
     "output_type": "display_data"
    }
   ],
   "source": [
    "df.plot(x='Total Building Units', y='Base Square Footage', kind=\"scatter\",\n",
    "        grid=True, xlim=[0,700], ylim=[0,400000], fontsize = 8, color=\"r\",\n",
    "        alpha=0.7, marker=\".\")\n",
    "plt.title(\"Building-level information for each building in the HPD project\",\n",
    "          fontweight='bold', fontsize = 14)"
   ]
  },
  {
   "cell_type": "code",
   "execution_count": null,
   "metadata": {
    "collapsed": true
   },
   "outputs": [],
   "source": []
  }
 ],
 "metadata": {
  "kernelspec": {
   "display_name": "PUI2016_Python3",
   "language": "python",
   "name": "pui2016_python3"
  },
  "language_info": {
   "codemirror_mode": {
    "name": "ipython",
    "version": 3
   },
   "file_extension": ".py",
   "mimetype": "text/x-python",
   "name": "python",
   "nbconvert_exporter": "python",
   "pygments_lexer": "ipython3",
   "version": "3.5.2"
  }
 },
 "nbformat": 4,
 "nbformat_minor": 0
}
