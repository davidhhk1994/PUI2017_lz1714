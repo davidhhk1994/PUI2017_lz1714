{
 "cells": [
  {
   "cell_type": "code",
   "execution_count": 1,
   "metadata": {
    "collapsed": false
   },
   "outputs": [
    {
     "name": "stderr",
     "output_type": "stream",
     "text": [
      "/opt/rh/anaconda/root/envs/PUI2016_Python3/lib/python3.5/site-packages/IPython/html.py:14: ShimWarning: The `IPython.html` package has been deprecated. You should import from `notebook` instead. `IPython.html.widgets` has moved to `ipywidgets`.\n",
      "  \"`IPython.html.widgets` has moved to `ipywidgets`.\", ShimWarning)\n"
     ]
    }
   ],
   "source": [
    "%matplotlib inline\n",
    "import numpy as np\n",
    "import pandas as pd\n",
    "from pandas import Series, DataFrame\n",
    "from __future__ import division, print_function\n",
    "import sys\n",
    "import os\n",
    "# using the pyplot doing the plotting\n",
    "import matplotlib.pyplot as plt\n",
    "# import style \"seaborn\"\n",
    "import seaborn as sns"
   ]
  },
  {
   "cell_type": "markdown",
   "metadata": {},
   "source": [
    "#### Check the environmental variable DFDATA"
   ]
  },
  {
   "cell_type": "code",
   "execution_count": 2,
   "metadata": {
    "collapsed": false
   },
   "outputs": [
    {
     "data": {
      "text/plain": [
       "'/gws/open/NYCOpenData/nycopendata/data'"
      ]
     },
     "execution_count": 2,
     "metadata": {},
     "output_type": "execute_result"
    }
   ],
   "source": [
    "os.getenv(\"DFDATA\")"
   ]
  },
  {
   "cell_type": "markdown",
   "metadata": {},
   "source": [
    "### Example 1."
   ]
  },
  {
   "cell_type": "markdown",
   "metadata": {},
   "source": [
    "#### Use pandas to read in the CSV file from the DF into a pandas dataframe"
   ]
  },
  {
   "cell_type": "code",
   "execution_count": 3,
   "metadata": {
    "collapsed": true
   },
   "outputs": [],
   "source": [
    "DFDATA = os.getenv(\"DFDATA\")\n",
    "df = pd.read_csv(DFDATA + '/h9gi-nx95/1428430582/h9gi-nx95', nrows=50000)"
   ]
  },
  {
   "cell_type": "markdown",
   "metadata": {},
   "source": [
    "#### Display the top few rows of the DF"
   ]
  },
  {
   "cell_type": "code",
   "execution_count": 4,
   "metadata": {
    "collapsed": false
   },
   "outputs": [
    {
     "data": {
      "text/html": [
       "<div>\n",
       "<table border=\"1\" class=\"dataframe\">\n",
       "  <thead>\n",
       "    <tr style=\"text-align: right;\">\n",
       "      <th></th>\n",
       "      <th>DATE</th>\n",
       "      <th>TIME</th>\n",
       "      <th>BOROUGH</th>\n",
       "      <th>ZIP CODE</th>\n",
       "      <th>LATITUDE</th>\n",
       "      <th>LONGITUDE</th>\n",
       "      <th>LOCATION</th>\n",
       "      <th>ON STREET NAME</th>\n",
       "      <th>CROSS STREET NAME</th>\n",
       "      <th>OFF STREET NAME</th>\n",
       "      <th>...</th>\n",
       "      <th>CONTRIBUTING FACTOR VEHICLE 2</th>\n",
       "      <th>CONTRIBUTING FACTOR VEHICLE 3</th>\n",
       "      <th>CONTRIBUTING FACTOR VEHICLE 4</th>\n",
       "      <th>CONTRIBUTING FACTOR VEHICLE 5</th>\n",
       "      <th>UNIQUE KEY</th>\n",
       "      <th>VEHICLE TYPE CODE 1</th>\n",
       "      <th>VEHICLE TYPE CODE 2</th>\n",
       "      <th>VEHICLE TYPE CODE 3</th>\n",
       "      <th>VEHICLE TYPE CODE 4</th>\n",
       "      <th>VEHICLE TYPE CODE 5</th>\n",
       "    </tr>\n",
       "  </thead>\n",
       "  <tbody>\n",
       "    <tr>\n",
       "      <th>0</th>\n",
       "      <td>04/04/2015</td>\n",
       "      <td>9:25</td>\n",
       "      <td>MANHATTAN</td>\n",
       "      <td>10001.0</td>\n",
       "      <td>40.750788</td>\n",
       "      <td>-74.005630</td>\n",
       "      <td>(40.7507879, -74.0056304)</td>\n",
       "      <td>WEST 26 STREET</td>\n",
       "      <td>11 AVENUE</td>\n",
       "      <td>NaN</td>\n",
       "      <td>...</td>\n",
       "      <td>Unspecified</td>\n",
       "      <td>NaN</td>\n",
       "      <td>NaN</td>\n",
       "      <td>NaN</td>\n",
       "      <td>3197298</td>\n",
       "      <td>PICK-UP TRUCK</td>\n",
       "      <td>LIVERY VEHICLE</td>\n",
       "      <td>NaN</td>\n",
       "      <td>NaN</td>\n",
       "      <td>NaN</td>\n",
       "    </tr>\n",
       "    <tr>\n",
       "      <th>1</th>\n",
       "      <td>04/04/2015</td>\n",
       "      <td>21:15</td>\n",
       "      <td>QUEENS</td>\n",
       "      <td>11357.0</td>\n",
       "      <td>40.781291</td>\n",
       "      <td>-73.814200</td>\n",
       "      <td>(40.7812915, -73.8141997)</td>\n",
       "      <td>20 AVENUE</td>\n",
       "      <td>150 STREET</td>\n",
       "      <td>NaN</td>\n",
       "      <td>...</td>\n",
       "      <td>Unspecified</td>\n",
       "      <td>NaN</td>\n",
       "      <td>NaN</td>\n",
       "      <td>NaN</td>\n",
       "      <td>3198105</td>\n",
       "      <td>PASSENGER VEHICLE</td>\n",
       "      <td>PASSENGER VEHICLE</td>\n",
       "      <td>NaN</td>\n",
       "      <td>NaN</td>\n",
       "      <td>NaN</td>\n",
       "    </tr>\n",
       "    <tr>\n",
       "      <th>2</th>\n",
       "      <td>04/04/2015</td>\n",
       "      <td>16:52</td>\n",
       "      <td>QUEENS</td>\n",
       "      <td>11385.0</td>\n",
       "      <td>40.702595</td>\n",
       "      <td>-73.855293</td>\n",
       "      <td>(40.7025952, -73.8552926)</td>\n",
       "      <td>WOODHAVEN BOULEVARD</td>\n",
       "      <td>MYRTLE AVENUE</td>\n",
       "      <td>NaN</td>\n",
       "      <td>...</td>\n",
       "      <td>Unspecified</td>\n",
       "      <td>NaN</td>\n",
       "      <td>NaN</td>\n",
       "      <td>NaN</td>\n",
       "      <td>3197589</td>\n",
       "      <td>PASSENGER VEHICLE</td>\n",
       "      <td>OTHER</td>\n",
       "      <td>NaN</td>\n",
       "      <td>NaN</td>\n",
       "      <td>NaN</td>\n",
       "    </tr>\n",
       "    <tr>\n",
       "      <th>3</th>\n",
       "      <td>04/04/2015</td>\n",
       "      <td>9:30</td>\n",
       "      <td>MANHATTAN</td>\n",
       "      <td>10025.0</td>\n",
       "      <td>40.804886</td>\n",
       "      <td>-73.962474</td>\n",
       "      <td>(40.8048862, -73.9624735)</td>\n",
       "      <td>WEST 113 STREET</td>\n",
       "      <td>AMSTERDAM AVENUE</td>\n",
       "      <td>NaN</td>\n",
       "      <td>...</td>\n",
       "      <td>Unspecified</td>\n",
       "      <td>NaN</td>\n",
       "      <td>NaN</td>\n",
       "      <td>NaN</td>\n",
       "      <td>3197369</td>\n",
       "      <td>PASSENGER VEHICLE</td>\n",
       "      <td>UNKNOWN</td>\n",
       "      <td>NaN</td>\n",
       "      <td>NaN</td>\n",
       "      <td>NaN</td>\n",
       "    </tr>\n",
       "    <tr>\n",
       "      <th>4</th>\n",
       "      <td>04/04/2015</td>\n",
       "      <td>9:41</td>\n",
       "      <td>QUEENS</td>\n",
       "      <td>11428.0</td>\n",
       "      <td>40.715144</td>\n",
       "      <td>-73.749356</td>\n",
       "      <td>(40.7151436, -73.7493556)</td>\n",
       "      <td>211 STREET</td>\n",
       "      <td>JAMAICA AVENUE</td>\n",
       "      <td>NaN</td>\n",
       "      <td>...</td>\n",
       "      <td>NaN</td>\n",
       "      <td>NaN</td>\n",
       "      <td>NaN</td>\n",
       "      <td>NaN</td>\n",
       "      <td>3197601</td>\n",
       "      <td>PASSENGER VEHICLE</td>\n",
       "      <td>NaN</td>\n",
       "      <td>NaN</td>\n",
       "      <td>NaN</td>\n",
       "      <td>NaN</td>\n",
       "    </tr>\n",
       "  </tbody>\n",
       "</table>\n",
       "<p>5 rows × 29 columns</p>\n",
       "</div>"
      ],
      "text/plain": [
       "         DATE   TIME    BOROUGH  ZIP CODE   LATITUDE  LONGITUDE  \\\n",
       "0  04/04/2015   9:25  MANHATTAN   10001.0  40.750788 -74.005630   \n",
       "1  04/04/2015  21:15     QUEENS   11357.0  40.781291 -73.814200   \n",
       "2  04/04/2015  16:52     QUEENS   11385.0  40.702595 -73.855293   \n",
       "3  04/04/2015   9:30  MANHATTAN   10025.0  40.804886 -73.962474   \n",
       "4  04/04/2015   9:41     QUEENS   11428.0  40.715144 -73.749356   \n",
       "\n",
       "                    LOCATION       ON STREET NAME CROSS STREET NAME  \\\n",
       "0  (40.7507879, -74.0056304)       WEST 26 STREET         11 AVENUE   \n",
       "1  (40.7812915, -73.8141997)            20 AVENUE        150 STREET   \n",
       "2  (40.7025952, -73.8552926)  WOODHAVEN BOULEVARD     MYRTLE AVENUE   \n",
       "3  (40.8048862, -73.9624735)      WEST 113 STREET  AMSTERDAM AVENUE   \n",
       "4  (40.7151436, -73.7493556)           211 STREET    JAMAICA AVENUE   \n",
       "\n",
       "  OFF STREET NAME         ...          CONTRIBUTING FACTOR VEHICLE 2  \\\n",
       "0             NaN         ...                            Unspecified   \n",
       "1             NaN         ...                            Unspecified   \n",
       "2             NaN         ...                            Unspecified   \n",
       "3             NaN         ...                            Unspecified   \n",
       "4             NaN         ...                                    NaN   \n",
       "\n",
       "   CONTRIBUTING FACTOR VEHICLE 3  CONTRIBUTING FACTOR VEHICLE 4  \\\n",
       "0                            NaN                            NaN   \n",
       "1                            NaN                            NaN   \n",
       "2                            NaN                            NaN   \n",
       "3                            NaN                            NaN   \n",
       "4                            NaN                            NaN   \n",
       "\n",
       "   CONTRIBUTING FACTOR VEHICLE 5  UNIQUE KEY  VEHICLE TYPE CODE 1  \\\n",
       "0                            NaN     3197298        PICK-UP TRUCK   \n",
       "1                            NaN     3198105    PASSENGER VEHICLE   \n",
       "2                            NaN     3197589    PASSENGER VEHICLE   \n",
       "3                            NaN     3197369    PASSENGER VEHICLE   \n",
       "4                            NaN     3197601    PASSENGER VEHICLE   \n",
       "\n",
       "   VEHICLE TYPE CODE 2  VEHICLE TYPE CODE 3 VEHICLE TYPE CODE 4  \\\n",
       "0       LIVERY VEHICLE                  NaN                 NaN   \n",
       "1    PASSENGER VEHICLE                  NaN                 NaN   \n",
       "2                OTHER                  NaN                 NaN   \n",
       "3              UNKNOWN                  NaN                 NaN   \n",
       "4                  NaN                  NaN                 NaN   \n",
       "\n",
       "  VEHICLE TYPE CODE 5  \n",
       "0                 NaN  \n",
       "1                 NaN  \n",
       "2                 NaN  \n",
       "3                 NaN  \n",
       "4                 NaN  \n",
       "\n",
       "[5 rows x 29 columns]"
      ]
     },
     "execution_count": 4,
     "metadata": {},
     "output_type": "execute_result"
    }
   ],
   "source": [
    "df.head()"
   ]
  },
  {
   "cell_type": "markdown",
   "metadata": {},
   "source": [
    "#### Remove all but 2 numerical values columns"
   ]
  },
  {
   "cell_type": "code",
   "execution_count": 5,
   "metadata": {
    "collapsed": false
   },
   "outputs": [
    {
     "data": {
      "text/html": [
       "<div>\n",
       "<table border=\"1\" class=\"dataframe\">\n",
       "  <thead>\n",
       "    <tr style=\"text-align: right;\">\n",
       "      <th></th>\n",
       "      <th>DATE</th>\n",
       "      <th>NUMBER OF PERSONS INJURED</th>\n",
       "    </tr>\n",
       "  </thead>\n",
       "  <tbody>\n",
       "    <tr>\n",
       "      <th>0</th>\n",
       "      <td>04/04/2015</td>\n",
       "      <td>0</td>\n",
       "    </tr>\n",
       "    <tr>\n",
       "      <th>1</th>\n",
       "      <td>04/04/2015</td>\n",
       "      <td>1</td>\n",
       "    </tr>\n",
       "    <tr>\n",
       "      <th>2</th>\n",
       "      <td>04/04/2015</td>\n",
       "      <td>0</td>\n",
       "    </tr>\n",
       "    <tr>\n",
       "      <th>3</th>\n",
       "      <td>04/04/2015</td>\n",
       "      <td>0</td>\n",
       "    </tr>\n",
       "    <tr>\n",
       "      <th>4</th>\n",
       "      <td>04/04/2015</td>\n",
       "      <td>0</td>\n",
       "    </tr>\n",
       "    <tr>\n",
       "      <th>5</th>\n",
       "      <td>04/04/2015</td>\n",
       "      <td>0</td>\n",
       "    </tr>\n",
       "    <tr>\n",
       "      <th>6</th>\n",
       "      <td>04/04/2015</td>\n",
       "      <td>0</td>\n",
       "    </tr>\n",
       "    <tr>\n",
       "      <th>7</th>\n",
       "      <td>04/04/2015</td>\n",
       "      <td>0</td>\n",
       "    </tr>\n",
       "    <tr>\n",
       "      <th>8</th>\n",
       "      <td>04/04/2015</td>\n",
       "      <td>0</td>\n",
       "    </tr>\n",
       "    <tr>\n",
       "      <th>9</th>\n",
       "      <td>04/04/2015</td>\n",
       "      <td>0</td>\n",
       "    </tr>\n",
       "  </tbody>\n",
       "</table>\n",
       "</div>"
      ],
      "text/plain": [
       "         DATE  NUMBER OF PERSONS INJURED\n",
       "0  04/04/2015                          0\n",
       "1  04/04/2015                          1\n",
       "2  04/04/2015                          0\n",
       "3  04/04/2015                          0\n",
       "4  04/04/2015                          0\n",
       "5  04/04/2015                          0\n",
       "6  04/04/2015                          0\n",
       "7  04/04/2015                          0\n",
       "8  04/04/2015                          0\n",
       "9  04/04/2015                          0"
      ]
     },
     "execution_count": 5,
     "metadata": {},
     "output_type": "execute_result"
    }
   ],
   "source": [
    "# convert to dtype='datetime64[ns]'\n",
    "pd.to_datetime(df['DATE'])\n",
    "# Remove all but 2 numerical values columns\n",
    "df.drop(['TIME', 'BOROUGH', 'ZIP CODE', 'LATITUDE', 'LONGITUDE',\n",
    "       'LOCATION', 'ON STREET NAME', 'CROSS STREET NAME', 'OFF STREET NAME',\n",
    "       'NUMBER OF PERSONS KILLED',\n",
    "       'NUMBER OF PEDESTRIANS INJURED', 'NUMBER OF PEDESTRIANS KILLED',\n",
    "       'NUMBER OF CYCLIST INJURED', 'NUMBER OF CYCLIST KILLED',\n",
    "       'NUMBER OF MOTORIST INJURED', 'NUMBER OF MOTORIST KILLED',\n",
    "       'CONTRIBUTING FACTOR VEHICLE 1', 'CONTRIBUTING FACTOR VEHICLE 2',\n",
    "       'CONTRIBUTING FACTOR VEHICLE 3', 'CONTRIBUTING FACTOR VEHICLE 4',\n",
    "       'CONTRIBUTING FACTOR VEHICLE 5', 'UNIQUE KEY', 'VEHICLE TYPE CODE 1',\n",
    "       'VEHICLE TYPE CODE 2', 'VEHICLE TYPE CODE 3', 'VEHICLE TYPE CODE 4',\n",
    "       'VEHICLE TYPE CODE 5'], axis=1, inplace=True)\n",
    "df.head(10)"
   ]
  },
  {
   "cell_type": "markdown",
   "metadata": {},
   "source": [
    "#### Prepare the data for plotting"
   ]
  },
  {
   "cell_type": "code",
   "execution_count": 6,
   "metadata": {
    "collapsed": false
   },
   "outputs": [
    {
     "data": {
      "text/html": [
       "<div>\n",
       "<table border=\"1\" class=\"dataframe\">\n",
       "  <thead>\n",
       "    <tr style=\"text-align: right;\">\n",
       "      <th></th>\n",
       "      <th>NUMBER OF PERSONS INJURED</th>\n",
       "    </tr>\n",
       "    <tr>\n",
       "      <th>DATE</th>\n",
       "      <th></th>\n",
       "    </tr>\n",
       "  </thead>\n",
       "  <tbody>\n",
       "    <tr>\n",
       "      <th>01/05/2015</th>\n",
       "      <td>95</td>\n",
       "    </tr>\n",
       "    <tr>\n",
       "      <th>01/06/2015</th>\n",
       "      <td>142</td>\n",
       "    </tr>\n",
       "    <tr>\n",
       "      <th>01/07/2015</th>\n",
       "      <td>151</td>\n",
       "    </tr>\n",
       "    <tr>\n",
       "      <th>01/08/2015</th>\n",
       "      <td>117</td>\n",
       "    </tr>\n",
       "    <tr>\n",
       "      <th>01/09/2015</th>\n",
       "      <td>153</td>\n",
       "    </tr>\n",
       "  </tbody>\n",
       "</table>\n",
       "</div>"
      ],
      "text/plain": [
       "            NUMBER OF PERSONS INJURED\n",
       "DATE                                 \n",
       "01/05/2015                         95\n",
       "01/06/2015                        142\n",
       "01/07/2015                        151\n",
       "01/08/2015                        117\n",
       "01/09/2015                        153"
      ]
     },
     "execution_count": 6,
     "metadata": {},
     "output_type": "execute_result"
    }
   ],
   "source": [
    "df = df.sort_values(by='DATE')\n",
    "# count the sum of collisions happened in the same day\n",
    "dfsum = df.groupby(['DATE'], sort=True).sum()\n",
    "dfsum.head()"
   ]
  },
  {
   "cell_type": "markdown",
   "metadata": {},
   "source": [
    "#### Plot the columns one against the other using the dataframe plot method"
   ]
  },
  {
   "cell_type": "code",
   "execution_count": 7,
   "metadata": {
    "collapsed": false
   },
   "outputs": [
    {
     "data": {
      "text/plain": [
       "<matplotlib.text.Text at 0x7f72d639b2b0>"
      ]
     },
     "execution_count": 7,
     "metadata": {},
     "output_type": "execute_result"
    },
    {
     "data": {
      "image/png": "[encoded data removed]",
      "text/plain": [
       "<matplotlib.figure.Figure at 0x7f72d63d3cc0>"
      ]
     },
     "metadata": {},
     "output_type": "display_data"
    }
   ],
   "source": [
    "dfsum.plot(kind=\"line\", grid=True, figsize=(12, 6), fontsize = 8, color=\"b\", rot=90)\n",
    "plt.title(\"NYPD Motor Vehicle Collisions\", fontweight='bold', fontsize = 14)"
   ]
  },
  {
   "cell_type": "markdown",
   "metadata": {},
   "source": [
    "### Example 2."
   ]
  },
  {
   "cell_type": "markdown",
   "metadata": {},
   "source": [
    "#### Use pandas to read in the CSV file from the DF into a pandas dataframe"
   ]
  },
  {
   "cell_type": "code",
   "execution_count": 8,
   "metadata": {
    "collapsed": false
   },
   "outputs": [],
   "source": [
    "DFDATA = os.getenv(\"DFDATA\")"
   ]
  },
  {
   "cell_type": "code",
   "execution_count": 9,
   "metadata": {
    "collapsed": false
   },
   "outputs": [],
   "source": [
    "df = pd.read_csv(DFDATA + '/ia2d-e54m/1414245804/ia2d-e54m')"
   ]
  },
  {
   "cell_type": "code",
   "execution_count": 10,
   "metadata": {
    "collapsed": false
   },
   "outputs": [
    {
     "data": {
      "text/html": [
       "<div>\n",
       "<table border=\"1\" class=\"dataframe\">\n",
       "  <thead>\n",
       "    <tr style=\"text-align: right;\">\n",
       "      <th></th>\n",
       "      <th>Year</th>\n",
       "      <th>NYC Consumption(Million gallons per day)</th>\n",
       "      <th>Per Capita(Gallons per person per day)</th>\n",
       "    </tr>\n",
       "  </thead>\n",
       "  <tbody>\n",
       "    <tr>\n",
       "      <th>0</th>\n",
       "      <td>2009</td>\n",
       "      <td>1007.2</td>\n",
       "      <td>125.8</td>\n",
       "    </tr>\n",
       "    <tr>\n",
       "      <th>1</th>\n",
       "      <td>2008</td>\n",
       "      <td>1082.9</td>\n",
       "      <td>135.2</td>\n",
       "    </tr>\n",
       "    <tr>\n",
       "      <th>2</th>\n",
       "      <td>2007</td>\n",
       "      <td>1113.9</td>\n",
       "      <td>139.1</td>\n",
       "    </tr>\n",
       "    <tr>\n",
       "      <th>3</th>\n",
       "      <td>2006</td>\n",
       "      <td>1068.7</td>\n",
       "      <td>133.5</td>\n",
       "    </tr>\n",
       "    <tr>\n",
       "      <th>4</th>\n",
       "      <td>2005</td>\n",
       "      <td>1107.4</td>\n",
       "      <td>138.3</td>\n",
       "    </tr>\n",
       "  </tbody>\n",
       "</table>\n",
       "</div>"
      ],
      "text/plain": [
       "   Year  NYC Consumption(Million gallons per day)  \\\n",
       "0  2009                                    1007.2   \n",
       "1  2008                                    1082.9   \n",
       "2  2007                                    1113.9   \n",
       "3  2006                                    1068.7   \n",
       "4  2005                                    1107.4   \n",
       "\n",
       "   Per Capita(Gallons per person per day)  \n",
       "0                                   125.8  \n",
       "1                                   135.2  \n",
       "2                                   139.1  \n",
       "3                                   133.5  \n",
       "4                                   138.3  "
      ]
     },
     "execution_count": 10,
     "metadata": {},
     "output_type": "execute_result"
    }
   ],
   "source": [
    "df.head()"
   ]
  },
  {
   "cell_type": "markdown",
   "metadata": {},
   "source": [
    "#### Display the top few rows of the DF"
   ]
  },
  {
   "cell_type": "code",
   "execution_count": 11,
   "metadata": {
    "collapsed": false
   },
   "outputs": [
    {
     "data": {
      "text/html": [
       "<div>\n",
       "<table border=\"1\" class=\"dataframe\">\n",
       "  <thead>\n",
       "    <tr style=\"text-align: right;\">\n",
       "      <th></th>\n",
       "      <th>Year</th>\n",
       "      <th>NYC Consumption(Million gallons per day)</th>\n",
       "      <th>Per Capita(Gallons per person per day)</th>\n",
       "    </tr>\n",
       "  </thead>\n",
       "  <tbody>\n",
       "    <tr>\n",
       "      <th>30</th>\n",
       "      <td>1979</td>\n",
       "      <td>1512.4</td>\n",
       "      <td>189.0</td>\n",
       "    </tr>\n",
       "    <tr>\n",
       "      <th>29</th>\n",
       "      <td>1980</td>\n",
       "      <td>1505.9</td>\n",
       "      <td>187.9</td>\n",
       "    </tr>\n",
       "    <tr>\n",
       "      <th>28</th>\n",
       "      <td>1981</td>\n",
       "      <td>1309.3</td>\n",
       "      <td>181.4</td>\n",
       "    </tr>\n",
       "    <tr>\n",
       "      <th>27</th>\n",
       "      <td>1982</td>\n",
       "      <td>1382.4</td>\n",
       "      <td>195.5</td>\n",
       "    </tr>\n",
       "    <tr>\n",
       "      <th>26</th>\n",
       "      <td>1983</td>\n",
       "      <td>1423.8</td>\n",
       "      <td>201.4</td>\n",
       "    </tr>\n",
       "  </tbody>\n",
       "</table>\n",
       "</div>"
      ],
      "text/plain": [
       "    Year  NYC Consumption(Million gallons per day)  \\\n",
       "30  1979                                    1512.4   \n",
       "29  1980                                    1505.9   \n",
       "28  1981                                    1309.3   \n",
       "27  1982                                    1382.4   \n",
       "26  1983                                    1423.8   \n",
       "\n",
       "    Per Capita(Gallons per person per day)  \n",
       "30                                   189.0  \n",
       "29                                   187.9  \n",
       "28                                   181.4  \n",
       "27                                   195.5  \n",
       "26                                   201.4  "
      ]
     },
     "execution_count": 11,
     "metadata": {},
     "output_type": "execute_result"
    }
   ],
   "source": [
    "df = df.sort_values(by='Year')\n",
    "df.head()"
   ]
  },
  {
   "cell_type": "markdown",
   "metadata": {},
   "source": [
    "#### Remove all but 2 numerical values columns"
   ]
  },
  {
   "cell_type": "code",
   "execution_count": 12,
   "metadata": {
    "collapsed": false
   },
   "outputs": [
    {
     "data": {
      "text/plain": [
       "Index(['Year', 'NYC Consumption(Million gallons per day)',\n",
       "       'Per Capita(Gallons per person per day)'],\n",
       "      dtype='object')"
      ]
     },
     "execution_count": 12,
     "metadata": {},
     "output_type": "execute_result"
    }
   ],
   "source": [
    "df.columns"
   ]
  },
  {
   "cell_type": "code",
   "execution_count": 13,
   "metadata": {
    "collapsed": false
   },
   "outputs": [
    {
     "data": {
      "text/html": [
       "<div>\n",
       "<table border=\"1\" class=\"dataframe\">\n",
       "  <thead>\n",
       "    <tr style=\"text-align: right;\">\n",
       "      <th></th>\n",
       "      <th>Year</th>\n",
       "      <th>Per Capita(Gallons per person per day)</th>\n",
       "    </tr>\n",
       "  </thead>\n",
       "  <tbody>\n",
       "    <tr>\n",
       "      <th>30</th>\n",
       "      <td>1979</td>\n",
       "      <td>189.0</td>\n",
       "    </tr>\n",
       "    <tr>\n",
       "      <th>29</th>\n",
       "      <td>1980</td>\n",
       "      <td>187.9</td>\n",
       "    </tr>\n",
       "    <tr>\n",
       "      <th>28</th>\n",
       "      <td>1981</td>\n",
       "      <td>181.4</td>\n",
       "    </tr>\n",
       "    <tr>\n",
       "      <th>27</th>\n",
       "      <td>1982</td>\n",
       "      <td>195.5</td>\n",
       "    </tr>\n",
       "    <tr>\n",
       "      <th>26</th>\n",
       "      <td>1983</td>\n",
       "      <td>201.4</td>\n",
       "    </tr>\n",
       "    <tr>\n",
       "      <th>25</th>\n",
       "      <td>1984</td>\n",
       "      <td>207.2</td>\n",
       "    </tr>\n",
       "    <tr>\n",
       "      <th>24</th>\n",
       "      <td>1985</td>\n",
       "      <td>187.5</td>\n",
       "    </tr>\n",
       "    <tr>\n",
       "      <th>23</th>\n",
       "      <td>1986</td>\n",
       "      <td>190.4</td>\n",
       "    </tr>\n",
       "    <tr>\n",
       "      <th>22</th>\n",
       "      <td>1987</td>\n",
       "      <td>201.9</td>\n",
       "    </tr>\n",
       "    <tr>\n",
       "      <th>21</th>\n",
       "      <td>1988</td>\n",
       "      <td>208.3</td>\n",
       "    </tr>\n",
       "  </tbody>\n",
       "</table>\n",
       "</div>"
      ],
      "text/plain": [
       "    Year  Per Capita(Gallons per person per day)\n",
       "30  1979                                   189.0\n",
       "29  1980                                   187.9\n",
       "28  1981                                   181.4\n",
       "27  1982                                   195.5\n",
       "26  1983                                   201.4\n",
       "25  1984                                   207.2\n",
       "24  1985                                   187.5\n",
       "23  1986                                   190.4\n",
       "22  1987                                   201.9\n",
       "21  1988                                   208.3"
      ]
     },
     "execution_count": 13,
     "metadata": {},
     "output_type": "execute_result"
    }
   ],
   "source": [
    "df.drop('NYC Consumption(Million gallons per day)', axis=1, inplace=True)\n",
    "df.head(10)"
   ]
  },
  {
   "cell_type": "markdown",
   "metadata": {},
   "source": [
    "#### Plot the columns one against the other using the dataframe plot method"
   ]
  },
  {
   "cell_type": "code",
   "execution_count": 14,
   "metadata": {
    "collapsed": false
   },
   "outputs": [
    {
     "data": {
      "text/plain": [
       "([<matplotlib.axis.XTick at 0x7f730406b080>,\n",
       "  <matplotlib.axis.XTick at 0x7f72d6375588>,\n",
       "  <matplotlib.axis.XTick at 0x7f72d6327518>,\n",
       "  <matplotlib.axis.XTick at 0x7f72d6329630>,\n",
       "  <matplotlib.axis.XTick at 0x7f72d6323be0>,\n",
       "  <matplotlib.axis.XTick at 0x7f72d632ca20>,\n",
       "  <matplotlib.axis.XTick at 0x7f72d6331550>,\n",
       "  <matplotlib.axis.XTick at 0x7f72d6336080>,\n",
       "  <matplotlib.axis.XTick at 0x7f72d2f9bda0>,\n",
       "  <matplotlib.axis.XTick at 0x7f72d6340b70>,\n",
       "  <matplotlib.axis.XTick at 0x7f72d6336588>,\n",
       "  <matplotlib.axis.XTick at 0x7f72d6340fd0>,\n",
       "  <matplotlib.axis.XTick at 0x7f72d632c518>,\n",
       "  <matplotlib.axis.XTick at 0x7f72d6285860>,\n",
       "  <matplotlib.axis.XTick at 0x7f72d6289390>,\n",
       "  <matplotlib.axis.XTick at 0x7f72d6289e80>,\n",
       "  <matplotlib.axis.XTick at 0x7f72d628e9b0>,\n",
       "  <matplotlib.axis.XTick at 0x7f72d62914e0>,\n",
       "  <matplotlib.axis.XTick at 0x7f72d6291fd0>,\n",
       "  <matplotlib.axis.XTick at 0x7f72d6296b00>,\n",
       "  <matplotlib.axis.XTick at 0x7f72d6299630>,\n",
       "  <matplotlib.axis.XTick at 0x7f72d629c160>,\n",
       "  <matplotlib.axis.XTick at 0x7f72d629cc50>,\n",
       "  <matplotlib.axis.XTick at 0x7f72d62a0780>,\n",
       "  <matplotlib.axis.XTick at 0x7f72d62a42b0>,\n",
       "  <matplotlib.axis.XTick at 0x7f72d62a4da0>,\n",
       "  <matplotlib.axis.XTick at 0x7f72d62a88d0>,\n",
       "  <matplotlib.axis.XTick at 0x7f72d62ac400>,\n",
       "  <matplotlib.axis.XTick at 0x7f72d62acef0>,\n",
       "  <matplotlib.axis.XTick at 0x7f72d62afa20>,\n",
       "  <matplotlib.axis.XTick at 0x7f72d62b3550>],\n",
       " <a list of 31 Text xticklabel objects>)"
      ]
     },
     "execution_count": 14,
     "metadata": {},
     "output_type": "execute_result"
    },
    {
     "data": {
      "image/png": "[encoded data removed]",
      "text/plain": [
       "<matplotlib.figure.Figure at 0x7f72d638aef0>"
      ]
     },
     "metadata": {},
     "output_type": "display_data"
    }
   ],
   "source": [
    "df.plot(kind=\"line\", x='Year', y='Per Capita(Gallons per person per day)',\n",
    "        grid=True, fontsize = 8, color=\"r\", rot=90)\n",
    "plt.title(\"Water Consumption In The New York City\",\n",
    "          fontweight='bold', fontsize = 14)\n",
    "plt.xticks(np.arange(1979,2010,1.0))"
   ]
  }
 ],
 "metadata": {
  "kernelspec": {
   "display_name": "PUI2016_Python3",
   "language": "python",
   "name": "pui2016_python3"
  },
  "language_info": {
   "codemirror_mode": {
    "name": "ipython",
    "version": 3
   },
   "file_extension": ".py",
   "mimetype": "text/x-python",
   "name": "python",
   "nbconvert_exporter": "python",
   "pygments_lexer": "ipython3",
   "version": "3.5.2"
  }
 },
 "nbformat": 4,
 "nbformat_minor": 0
}
