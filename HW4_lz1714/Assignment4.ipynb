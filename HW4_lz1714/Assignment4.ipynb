{
 "cells": [
  {
   "cell_type": "markdown",
   "metadata": {
    "collapsed": true,
    "run_control": {
     "frozen": false,
     "read_only": false
    }
   },
   "source": [
    "# Skeleton of Assignment 4:"
   ]
  },
  {
   "cell_type": "markdown",
   "metadata": {},
   "source": [
    "## The significant threshold for the whole exercise\n",
    "$$ \\alpha = 0.05 $$"
   ]
  },
  {
   "cell_type": "code",
   "execution_count": 1,
   "metadata": {
    "ExecuteTime": {
     "end_time": "2017-10-05T16:48:06.390950",
     "start_time": "2017-10-05T16:48:04.815178"
    },
    "run_control": {
     "frozen": false,
     "read_only": false
    },
    "scrolled": true
   },
   "outputs": [],
   "source": [
    "%matplotlib inline\n",
    "import matplotlib.pyplot as plt\n",
    "import pandas as pd\n",
    "import numpy as np\n",
    "#imports downloader\n",
    "from getCitiBikeCSV import getCitiBikeCSV\n",
    "from __future__  import print_function\n",
    "from scipy import stats\n",
    "import os\n",
    "#import for location process\n",
    "from shapely.geometry import Point\n",
    "#import shapely.geometry as geom\n",
    "import geopandas as gpd"
   ]
  },
  {
   "cell_type": "markdown",
   "metadata": {
    "run_control": {
     "frozen": false,
     "read_only": false
    }
   },
   "source": [
    "# 0. Read in data\n",
    "I am reading in data from January 2015 with the function that I created getCitiBikeCSV. You are requested to use 2 months at least. It would be a good idea to use data from a colder and a warmer months, since there are more riders in the warm weather and ridership patterns may change with weather, temperature, etc. You should use data from multiple months, joining multiple datasets (thus addressing some systematic errors as well)"
   ]
  },
  {
   "cell_type": "code",
   "execution_count": 2,
   "metadata": {
    "ExecuteTime": {
     "end_time": "2017-10-05T16:48:09.386484",
     "start_time": "2017-10-05T16:48:06.821336"
    },
    "run_control": {
     "frozen": false,
     "read_only": false
    },
    "scrolled": true
   },
   "outputs": [
    {
     "name": "stdout",
     "output_type": "stream",
     "text": [
      "Downloading 201601\n",
      "file in place, you can continue\n",
      "Downloading 201608\n",
      "file in place, you can continue\n"
     ]
    }
   ],
   "source": [
    "#download file of 2 months. one is colder, the other is warmer.\n",
    "timeList = ['201601', '201608']\n",
    "for datestring in enumerate (timeList):\n",
    "    getCitiBikeCSV(datestring[1])"
   ]
  },
  {
   "cell_type": "code",
   "execution_count": 3,
   "metadata": {
    "ExecuteTime": {
     "end_time": "2017-10-05T16:48:11.528975",
     "start_time": "2017-10-05T16:48:10.267002"
    },
    "run_control": {
     "frozen": false,
     "read_only": false
    }
   },
   "outputs": [],
   "source": [
    "df1 = pd.read_csv(os.getenv(\"PUIDATA\") + \"/\" + '201601' + '-citibike-tripdata.csv')\n",
    "df8 = pd.read_csv(os.getenv(\"PUIDATA\") + \"/\" + '201608' + '-citibike-tripdata.csv')"
   ]
  },
  {
   "cell_type": "code",
   "execution_count": 4,
   "metadata": {},
   "outputs": [
    {
     "data": {
      "text/html": [
       "<div>\n",
       "<style>\n",
       "    .dataframe thead tr:only-child th {\n",
       "        text-align: right;\n",
       "    }\n",
       "\n",
       "    .dataframe thead th {\n",
       "        text-align: left;\n",
       "    }\n",
       "\n",
       "    .dataframe tbody tr th {\n",
       "        vertical-align: top;\n",
       "    }\n",
       "</style>\n",
       "<table border=\"1\" class=\"dataframe\">\n",
       "  <thead>\n",
       "    <tr style=\"text-align: right;\">\n",
       "      <th></th>\n",
       "      <th>tripduration</th>\n",
       "      <th>starttime</th>\n",
       "      <th>stoptime</th>\n",
       "      <th>start station id</th>\n",
       "      <th>start station name</th>\n",
       "      <th>start station latitude</th>\n",
       "      <th>start station longitude</th>\n",
       "      <th>end station id</th>\n",
       "      <th>end station name</th>\n",
       "      <th>end station latitude</th>\n",
       "      <th>end station longitude</th>\n",
       "      <th>bikeid</th>\n",
       "      <th>usertype</th>\n",
       "      <th>birth year</th>\n",
       "      <th>gender</th>\n",
       "    </tr>\n",
       "  </thead>\n",
       "  <tbody>\n",
       "    <tr>\n",
       "      <th>0</th>\n",
       "      <td>923</td>\n",
       "      <td>1/1/2016 00:00:41</td>\n",
       "      <td>1/1/2016 00:16:04</td>\n",
       "      <td>268</td>\n",
       "      <td>Howard St &amp; Centre St</td>\n",
       "      <td>40.719105</td>\n",
       "      <td>-73.999733</td>\n",
       "      <td>3002</td>\n",
       "      <td>South End Ave &amp; Liberty St</td>\n",
       "      <td>40.711512</td>\n",
       "      <td>-74.015756</td>\n",
       "      <td>22285</td>\n",
       "      <td>Subscriber</td>\n",
       "      <td>1958.0</td>\n",
       "      <td>1</td>\n",
       "    </tr>\n",
       "    <tr>\n",
       "      <th>1</th>\n",
       "      <td>379</td>\n",
       "      <td>1/1/2016 00:00:45</td>\n",
       "      <td>1/1/2016 00:07:04</td>\n",
       "      <td>476</td>\n",
       "      <td>E 31 St &amp; 3 Ave</td>\n",
       "      <td>40.743943</td>\n",
       "      <td>-73.979661</td>\n",
       "      <td>498</td>\n",
       "      <td>Broadway &amp; W 32 St</td>\n",
       "      <td>40.748549</td>\n",
       "      <td>-73.988084</td>\n",
       "      <td>17827</td>\n",
       "      <td>Subscriber</td>\n",
       "      <td>1969.0</td>\n",
       "      <td>1</td>\n",
       "    </tr>\n",
       "    <tr>\n",
       "      <th>2</th>\n",
       "      <td>589</td>\n",
       "      <td>1/1/2016 00:00:48</td>\n",
       "      <td>1/1/2016 00:10:37</td>\n",
       "      <td>489</td>\n",
       "      <td>10 Ave &amp; W 28 St</td>\n",
       "      <td>40.750664</td>\n",
       "      <td>-74.001768</td>\n",
       "      <td>284</td>\n",
       "      <td>Greenwich Ave &amp; 8 Ave</td>\n",
       "      <td>40.739017</td>\n",
       "      <td>-74.002638</td>\n",
       "      <td>21997</td>\n",
       "      <td>Subscriber</td>\n",
       "      <td>1982.0</td>\n",
       "      <td>2</td>\n",
       "    </tr>\n",
       "    <tr>\n",
       "      <th>3</th>\n",
       "      <td>889</td>\n",
       "      <td>1/1/2016 00:01:06</td>\n",
       "      <td>1/1/2016 00:15:56</td>\n",
       "      <td>268</td>\n",
       "      <td>Howard St &amp; Centre St</td>\n",
       "      <td>40.719105</td>\n",
       "      <td>-73.999733</td>\n",
       "      <td>3002</td>\n",
       "      <td>South End Ave &amp; Liberty St</td>\n",
       "      <td>40.711512</td>\n",
       "      <td>-74.015756</td>\n",
       "      <td>22794</td>\n",
       "      <td>Subscriber</td>\n",
       "      <td>1961.0</td>\n",
       "      <td>2</td>\n",
       "    </tr>\n",
       "    <tr>\n",
       "      <th>4</th>\n",
       "      <td>1480</td>\n",
       "      <td>1/1/2016 00:01:12</td>\n",
       "      <td>1/1/2016 00:25:52</td>\n",
       "      <td>2006</td>\n",
       "      <td>Central Park S &amp; 6 Ave</td>\n",
       "      <td>40.765909</td>\n",
       "      <td>-73.976342</td>\n",
       "      <td>2006</td>\n",
       "      <td>Central Park S &amp; 6 Ave</td>\n",
       "      <td>40.765909</td>\n",
       "      <td>-73.976342</td>\n",
       "      <td>14562</td>\n",
       "      <td>Subscriber</td>\n",
       "      <td>1952.0</td>\n",
       "      <td>1</td>\n",
       "    </tr>\n",
       "  </tbody>\n",
       "</table>\n",
       "</div>"
      ],
      "text/plain": [
       "   tripduration          starttime           stoptime  start station id  \\\n",
       "0           923  1/1/2016 00:00:41  1/1/2016 00:16:04               268   \n",
       "1           379  1/1/2016 00:00:45  1/1/2016 00:07:04               476   \n",
       "2           589  1/1/2016 00:00:48  1/1/2016 00:10:37               489   \n",
       "3           889  1/1/2016 00:01:06  1/1/2016 00:15:56               268   \n",
       "4          1480  1/1/2016 00:01:12  1/1/2016 00:25:52              2006   \n",
       "\n",
       "       start station name  start station latitude  start station longitude  \\\n",
       "0   Howard St & Centre St               40.719105               -73.999733   \n",
       "1         E 31 St & 3 Ave               40.743943               -73.979661   \n",
       "2        10 Ave & W 28 St               40.750664               -74.001768   \n",
       "3   Howard St & Centre St               40.719105               -73.999733   \n",
       "4  Central Park S & 6 Ave               40.765909               -73.976342   \n",
       "\n",
       "   end station id            end station name  end station latitude  \\\n",
       "0            3002  South End Ave & Liberty St             40.711512   \n",
       "1             498          Broadway & W 32 St             40.748549   \n",
       "2             284       Greenwich Ave & 8 Ave             40.739017   \n",
       "3            3002  South End Ave & Liberty St             40.711512   \n",
       "4            2006      Central Park S & 6 Ave             40.765909   \n",
       "\n",
       "   end station longitude  bikeid    usertype  birth year  gender  \n",
       "0             -74.015756   22285  Subscriber      1958.0       1  \n",
       "1             -73.988084   17827  Subscriber      1969.0       1  \n",
       "2             -74.002638   21997  Subscriber      1982.0       2  \n",
       "3             -74.015756   22794  Subscriber      1961.0       2  \n",
       "4             -73.976342   14562  Subscriber      1952.0       1  "
      ]
     },
     "execution_count": 4,
     "metadata": {},
     "output_type": "execute_result"
    }
   ],
   "source": [
    "result = pd.concat([df1, df8], join='inner', ignore_index=True)\n",
    "result.head()"
   ]
  },
  {
   "cell_type": "code",
   "execution_count": 5,
   "metadata": {},
   "outputs": [
    {
     "data": {
      "text/plain": [
       "Index(['tripduration', 'starttime', 'stoptime', 'start station id',\n",
       "       'start station name', 'start station latitude',\n",
       "       'start station longitude', 'end station id', 'end station name',\n",
       "       'end station latitude', 'end station longitude', 'bikeid', 'usertype',\n",
       "       'birth year', 'gender'],\n",
       "      dtype='object')"
      ]
     },
     "execution_count": 5,
     "metadata": {},
     "output_type": "execute_result"
    }
   ],
   "source": [
    "result.columns"
   ]
  },
  {
   "cell_type": "code",
   "execution_count": 6,
   "metadata": {},
   "outputs": [
    {
     "data": {
      "text/html": [
       "<div>\n",
       "<style>\n",
       "    .dataframe thead tr:only-child th {\n",
       "        text-align: right;\n",
       "    }\n",
       "\n",
       "    .dataframe thead th {\n",
       "        text-align: left;\n",
       "    }\n",
       "\n",
       "    .dataframe tbody tr th {\n",
       "        vertical-align: top;\n",
       "    }\n",
       "</style>\n",
       "<table border=\"1\" class=\"dataframe\">\n",
       "  <thead>\n",
       "    <tr style=\"text-align: right;\">\n",
       "      <th></th>\n",
       "      <th>tripduration</th>\n",
       "      <th>starttime</th>\n",
       "      <th>start station latitude</th>\n",
       "      <th>start station longitude</th>\n",
       "      <th>birth year</th>\n",
       "    </tr>\n",
       "  </thead>\n",
       "  <tbody>\n",
       "    <tr>\n",
       "      <th>0</th>\n",
       "      <td>923</td>\n",
       "      <td>1/1/2016 00:00:41</td>\n",
       "      <td>40.719105</td>\n",
       "      <td>-73.999733</td>\n",
       "      <td>1958.0</td>\n",
       "    </tr>\n",
       "    <tr>\n",
       "      <th>1</th>\n",
       "      <td>379</td>\n",
       "      <td>1/1/2016 00:00:45</td>\n",
       "      <td>40.743943</td>\n",
       "      <td>-73.979661</td>\n",
       "      <td>1969.0</td>\n",
       "    </tr>\n",
       "    <tr>\n",
       "      <th>2</th>\n",
       "      <td>589</td>\n",
       "      <td>1/1/2016 00:00:48</td>\n",
       "      <td>40.750664</td>\n",
       "      <td>-74.001768</td>\n",
       "      <td>1982.0</td>\n",
       "    </tr>\n",
       "    <tr>\n",
       "      <th>3</th>\n",
       "      <td>889</td>\n",
       "      <td>1/1/2016 00:01:06</td>\n",
       "      <td>40.719105</td>\n",
       "      <td>-73.999733</td>\n",
       "      <td>1961.0</td>\n",
       "    </tr>\n",
       "    <tr>\n",
       "      <th>4</th>\n",
       "      <td>1480</td>\n",
       "      <td>1/1/2016 00:01:12</td>\n",
       "      <td>40.765909</td>\n",
       "      <td>-73.976342</td>\n",
       "      <td>1952.0</td>\n",
       "    </tr>\n",
       "  </tbody>\n",
       "</table>\n",
       "</div>"
      ],
      "text/plain": [
       "   tripduration          starttime  start station latitude  \\\n",
       "0           923  1/1/2016 00:00:41               40.719105   \n",
       "1           379  1/1/2016 00:00:45               40.743943   \n",
       "2           589  1/1/2016 00:00:48               40.750664   \n",
       "3           889  1/1/2016 00:01:06               40.719105   \n",
       "4          1480  1/1/2016 00:01:12               40.765909   \n",
       "\n",
       "   start station longitude  birth year  \n",
       "0               -73.999733      1958.0  \n",
       "1               -73.979661      1969.0  \n",
       "2               -74.001768      1982.0  \n",
       "3               -73.999733      1961.0  \n",
       "4               -73.976342      1952.0  "
      ]
     },
     "execution_count": 6,
     "metadata": {},
     "output_type": "execute_result"
    }
   ],
   "source": [
    "result.drop(['stoptime', 'start station id', 'start station name', 'end station id', 'end station name',\n",
    "       'end station latitude', 'end station longitude', 'bikeid', 'usertype', 'gender'], axis=1, inplace=True)\n",
    "result.head()"
   ]
  },
  {
   "cell_type": "code",
   "execution_count": 7,
   "metadata": {
    "ExecuteTime": {
     "end_time": "2017-10-05T16:51:52.008367",
     "start_time": "2017-10-05T16:48:18.977948"
    },
    "run_control": {
     "frozen": false,
     "read_only": false
    }
   },
   "outputs": [
    {
     "data": {
      "text/html": [
       "<div>\n",
       "<style>\n",
       "    .dataframe thead tr:only-child th {\n",
       "        text-align: right;\n",
       "    }\n",
       "\n",
       "    .dataframe thead th {\n",
       "        text-align: left;\n",
       "    }\n",
       "\n",
       "    .dataframe tbody tr th {\n",
       "        vertical-align: top;\n",
       "    }\n",
       "</style>\n",
       "<table border=\"1\" class=\"dataframe\">\n",
       "  <thead>\n",
       "    <tr style=\"text-align: right;\">\n",
       "      <th></th>\n",
       "      <th>tripduration</th>\n",
       "      <th>starttime</th>\n",
       "      <th>start station latitude</th>\n",
       "      <th>start station longitude</th>\n",
       "      <th>birth year</th>\n",
       "    </tr>\n",
       "  </thead>\n",
       "  <tbody>\n",
       "    <tr>\n",
       "      <th>0</th>\n",
       "      <td>923</td>\n",
       "      <td>2016-01-01 00:00:41</td>\n",
       "      <td>40.719105</td>\n",
       "      <td>-73.999733</td>\n",
       "      <td>1958.0</td>\n",
       "    </tr>\n",
       "    <tr>\n",
       "      <th>1</th>\n",
       "      <td>379</td>\n",
       "      <td>2016-01-01 00:00:45</td>\n",
       "      <td>40.743943</td>\n",
       "      <td>-73.979661</td>\n",
       "      <td>1969.0</td>\n",
       "    </tr>\n",
       "    <tr>\n",
       "      <th>2</th>\n",
       "      <td>589</td>\n",
       "      <td>2016-01-01 00:00:48</td>\n",
       "      <td>40.750664</td>\n",
       "      <td>-74.001768</td>\n",
       "      <td>1982.0</td>\n",
       "    </tr>\n",
       "    <tr>\n",
       "      <th>3</th>\n",
       "      <td>889</td>\n",
       "      <td>2016-01-01 00:01:06</td>\n",
       "      <td>40.719105</td>\n",
       "      <td>-73.999733</td>\n",
       "      <td>1961.0</td>\n",
       "    </tr>\n",
       "    <tr>\n",
       "      <th>4</th>\n",
       "      <td>1480</td>\n",
       "      <td>2016-01-01 00:01:12</td>\n",
       "      <td>40.765909</td>\n",
       "      <td>-73.976342</td>\n",
       "      <td>1952.0</td>\n",
       "    </tr>\n",
       "  </tbody>\n",
       "</table>\n",
       "</div>"
      ],
      "text/plain": [
       "   tripduration           starttime  start station latitude  \\\n",
       "0           923 2016-01-01 00:00:41               40.719105   \n",
       "1           379 2016-01-01 00:00:45               40.743943   \n",
       "2           589 2016-01-01 00:00:48               40.750664   \n",
       "3           889 2016-01-01 00:01:06               40.719105   \n",
       "4          1480 2016-01-01 00:01:12               40.765909   \n",
       "\n",
       "   start station longitude  birth year  \n",
       "0               -73.999733      1958.0  \n",
       "1               -73.979661      1969.0  \n",
       "2               -74.001768      1982.0  \n",
       "3               -73.999733      1961.0  \n",
       "4               -73.976342      1952.0  "
      ]
     },
     "execution_count": 7,
     "metadata": {},
     "output_type": "execute_result"
    }
   ],
   "source": [
    "result['starttime'] = pd.to_datetime(result['starttime'], format='%m/%d/%Y %H:%M:%S')\n",
    "result.head()"
   ]
  },
  {
   "cell_type": "markdown",
   "metadata": {
    "run_control": {
     "frozen": false,
     "read_only": false
    }
   },
   "source": [
    "# Question 1: trip duration of bikers that ride during the day vs night\n",
    "## 1.1 SPLIT BY CATEGORY\n",
    "\n",
    "Splitting data by day and night at tripduration:\n",
    "\n",
    "**H0: there is no statistical difference in the tripduration distribution of day and night trips**"
   ]
  },
  {
   "cell_type": "code",
   "execution_count": 8,
   "metadata": {
    "scrolled": false
   },
   "outputs": [
    {
     "data": {
      "text/plain": [
       "starttime\n",
       "0      18999\n",
       "1      10713\n",
       "2       6215\n",
       "3       3918\n",
       "4       3940\n",
       "5      12180\n",
       "6      47067\n",
       "7      95668\n",
       "8     169321\n",
       "9     135799\n",
       "10     92143\n",
       "11     95370\n",
       "12    105470\n",
       "13    110103\n",
       "14    113831\n",
       "15    119359\n",
       "16    142383\n",
       "17    203334\n",
       "18    198237\n",
       "19    142666\n",
       "20     94213\n",
       "21     65115\n",
       "22     48672\n",
       "23     32425\n",
       "Name: start station latitude, dtype: int64"
      ]
     },
     "execution_count": 8,
     "metadata": {},
     "output_type": "execute_result"
    }
   ],
   "source": [
    "timeuse = result.groupby(result['starttime'].dt.hour).count().loc[:,'start station latitude']\n",
    "timeuse"
   ]
  },
  {
   "cell_type": "markdown",
   "metadata": {},
   "source": [
    "Define the day is from 8a.m to 7p.m, night is from 8p.m to 7a.m."
   ]
  },
  {
   "cell_type": "code",
   "execution_count": 9,
   "metadata": {},
   "outputs": [
    {
     "data": {
      "text/plain": [
       "1628016"
      ]
     },
     "execution_count": 9,
     "metadata": {},
     "output_type": "execute_result"
    }
   ],
   "source": [
    "dayHour = [8, 9, 10, 11, 12, 13, 14, 15, 16, 17, 18, 19]\n",
    "nightHour = [0, 1, 2, 3, 4, 5, 6, 7, 20, 21, 22, 23]\n",
    "dfDay = pd.DataFrame(columns=['tripduration', 'starttime',\n",
    "                'start station latitude', 'start station longitude',\n",
    "                'birth year'])\n",
    "dfNight = pd.DataFrame(columns=['tripduration', 'starttime',\n",
    "                'start station latitude', 'start station longitude',\n",
    "                'birth year'])\n",
    "for Hour in dayHour:\n",
    "    dfDay = dfDay.append(result[result['starttime'].dt.hour==Hour])\n",
    "for Hour in nightHour:\n",
    "    dfNight = dfNight.append(result[result['starttime'].dt.hour==Hour])\n",
    "len(dfDay)"
   ]
  },
  {
   "cell_type": "code",
   "execution_count": 10,
   "metadata": {},
   "outputs": [
    {
     "data": {
      "text/plain": [
       "439125"
      ]
     },
     "execution_count": 10,
     "metadata": {},
     "output_type": "execute_result"
    }
   ],
   "source": [
    "len(dfNight)"
   ]
  },
  {
   "cell_type": "code",
   "execution_count": 11,
   "metadata": {},
   "outputs": [],
   "source": [
    "dfDay['tripduration'].dropna(inplace= True)\n",
    "dfNight['tripduration'].dropna(inplace= True)"
   ]
  },
  {
   "cell_type": "code",
   "execution_count": 12,
   "metadata": {
    "scrolled": true
   },
   "outputs": [
    {
     "data": {
      "text/plain": [
       "439125"
      ]
     },
     "execution_count": 12,
     "metadata": {},
     "output_type": "execute_result"
    }
   ],
   "source": [
    "len(dfNight)"
   ]
  },
  {
   "cell_type": "code",
   "execution_count": 13,
   "metadata": {},
   "outputs": [
    {
     "name": "stdout",
     "output_type": "stream",
     "text": [
      "the max value of dfDay is: 3966943\n",
      "the median value of dfDay is: 643.0\n",
      "Here are values of different percentage:\n",
      "0.250      388\n",
      "0.500      643\n",
      "0.750     1099\n",
      "0.900     1658\n",
      "0.950     2052\n",
      "0.990     3588\n",
      "0.998    10850\n",
      "Name: tripduration, dtype: object\n"
     ]
    }
   ],
   "source": [
    "#check if there are outliers\n",
    "print (\"the max value of dfDay is: {}\".format(dfDay['tripduration'].max()))\n",
    "print (\"the median value of dfDay is: {}\".format(dfDay['tripduration'].median()))\n",
    "print (\"Here are values of different percentage:\\n{}\".format(\n",
    "    dfDay.tripduration.quantile([.25, .5, .75, .9, .95, .99, .998])))"
   ]
  },
  {
   "cell_type": "markdown",
   "metadata": {},
   "source": [
    "There are some outliers at least above the percentange of 0.998."
   ]
  },
  {
   "cell_type": "code",
   "execution_count": 14,
   "metadata": {},
   "outputs": [],
   "source": [
    "#detect and exclude outliers\n",
    "dfDay = dfDay[(np.abs(stats.zscore(dfDay['tripduration'])) < 9)]\n",
    "dfNight = dfNight[(np.abs(stats.zscore(dfNight['tripduration'])) < 9)]\n",
    "\n",
    "#print (\"the max value of dfDay is: {}\".format(dfDay['tripduration'].max()))\n",
    "#print (\"quantile:\\n{}\".format(dfDay.tripduration.quantile([.25, .5, .75])))\n",
    "#print (\"the max value of dfNight is: {}\".format(dfNight['tripduration'].max()))\n",
    "#print (\"quantile:\\n{}\".format(dfNight.tripduration.quantile([.25, .5, .75])))"
   ]
  },
  {
   "cell_type": "raw",
   "metadata": {},
   "source": [
    "print (\"the max value of dfDay is: {}\".format(dfDay['tripduration'].max()))\n",
    "\n",
    "print (\"the max value of dfNight is: {}\".format(dfNight['tripduration'].max()))\n"
   ]
  },
  {
   "cell_type": "code",
   "execution_count": 15,
   "metadata": {},
   "outputs": [
    {
     "data": {
      "image/png": "[encoded data removed]",
      "text/plain": [
       "<matplotlib.figure.Figure at 0x10e82a6a0>"
      ]
     },
     "metadata": {},
     "output_type": "display_data"
    },
    {
     "data": {
      "image/png": "[encoded data removed]",
      "text/plain": [
       "<matplotlib.figure.Figure at 0x10d3e93c8>"
      ]
     },
     "metadata": {},
     "output_type": "display_data"
    }
   ],
   "source": [
    "bins = np.arange(0, 8000, 400)\n",
    "axDay = dfDay.tripduration.groupby(pd.cut(dfDay.tripduration, bins)).agg('count').plot(kind='bar', legend=False)\n",
    "axDay.set_xlabel(\"Citibike trip duration\")\n",
    "axDay.set_ylabel(\"Number of trips\")\n",
    "axDay.set_title(\"Day trips\")\n",
    "plt.show()\n",
    "axNight = dfNight.tripduration.groupby(pd.cut(dfNight.tripduration, bins)).agg('count').plot(kind='bar', legend=False)\n",
    "axNight.set_xlabel(\"Citibike trip duration\")\n",
    "axNight.set_ylabel(\"Number of trips\")\n",
    "axNight.set_title(\"Night trips\")\n",
    "plt.show()"
   ]
  },
  {
   "cell_type": "code",
   "execution_count": 16,
   "metadata": {},
   "outputs": [
    {
     "name": "stdout",
     "output_type": "stream",
     "text": [
      "tripduration\n",
      "(0, 400]        0.036862\n",
      "(400, 800]      0.043172\n",
      "(800, 1200]     0.036379\n",
      "(1200, 1600]    0.023413\n",
      "(1600, 2000]    0.012885\n",
      "(2000, 2400]    0.008067\n",
      "(2400, 2800]    0.005579\n",
      "(2800, 3200]    0.004235\n",
      "(3200, 3600]    0.003336\n",
      "(3600, 4000]    0.002533\n",
      "(4000, 4400]    0.001990\n",
      "(4400, 4800]    0.001599\n",
      "(4800, 5200]    0.001240\n",
      "(5200, 5600]    0.000926\n",
      "(5600, 6000]    0.000703\n",
      "(6000, 6400]    0.000487\n",
      "(6400, 6800]    0.000305\n",
      "(6800, 7200]    0.000144\n",
      "(7200, 7600]    0.000000\n",
      "Name: tripduration, dtype: float64\n"
     ]
    },
    {
     "data": {
      "text/plain": [
       "<matplotlib.legend.Legend at 0x116823da0>"
      ]
     },
     "execution_count": 16,
     "metadata": {},
     "output_type": "execute_result"
    },
    {
     "data": {
      "image/png": "[encoded data removed]",
      "text/plain": [
       "<matplotlib.figure.Figure at 0x114dfffd0>"
      ]
     },
     "metadata": {},
     "output_type": "display_data"
    }
   ],
   "source": [
    "csD=dfDay.tripduration.groupby(pd.cut(dfDay.tripduration, bins)).agg('count').cumsum()\n",
    "\n",
    "csN=dfNight.tripduration.groupby(pd.cut(dfNight.tripduration, bins)).agg('count').cumsum()\n",
    "\n",
    "print (np.abs(csD / csD.max()-csN / csN.max()))\n",
    "\n",
    "plt.plot(bins[:-1] + 5, csD / csD.max(), label = \"D\")\n",
    "plt.plot(bins[:-1] + 5, csN / csN.max(), label = \"N\")\n",
    "plt.plot(bins[:-1] + 5, np.sqrt(csN / csN.max() - csD / csD.max())**2, 'k-',\n",
    "        label = \"difference\")\n",
    "plt.xlabel(\"Duration\")\n",
    "plt.ylabel(\"Normalized Cumulative Number\")\n",
    "plt.legend()\n"
   ]
  },
  {
   "cell_type": "code",
   "execution_count": null,
   "metadata": {},
   "outputs": [],
   "source": []
  },
  {
   "cell_type": "code",
   "execution_count": null,
   "metadata": {},
   "outputs": [],
   "source": []
  },
  {
   "cell_type": "code",
   "execution_count": null,
   "metadata": {},
   "outputs": [],
   "source": []
  },
  {
   "cell_type": "markdown",
   "metadata": {
    "collapsed": true,
    "run_control": {
     "frozen": false,
     "read_only": false
    }
   },
   "source": [
    "## 1.2 KS tests to compare 2 samples\n",
    "\n",
    "http://docs.scipy.org/doc/scipy-0.15.1/reference/generated/scipy.stats.ks_2samp.html\n",
    "\n",
    "the KS test in scipy returns the p-value BUT make sure you understand what the NULL is! read the documentation carefully! what is the null hypothesis that you can/cannot reject?"
   ]
  },
  {
   "cell_type": "code",
   "execution_count": 17,
   "metadata": {},
   "outputs": [
    {
     "name": "stdout",
     "output_type": "stream",
     "text": [
      "Ks_2sampResult(statistic=0.043782288537372094, pvalue=0.0)\n"
     ]
    }
   ],
   "source": [
    "ks = stats.ks_2samp(dfDay.tripduration, dfNight.tripduration)\n",
    "print (ks)"
   ]
  },
  {
   "cell_type": "code",
   "execution_count": null,
   "metadata": {},
   "outputs": [],
   "source": []
  },
  {
   "cell_type": "code",
   "execution_count": null,
   "metadata": {},
   "outputs": [],
   "source": []
  },
  {
   "cell_type": "code",
   "execution_count": null,
   "metadata": {},
   "outputs": [],
   "source": []
  },
  {
   "cell_type": "code",
   "execution_count": null,
   "metadata": {},
   "outputs": [],
   "source": []
  },
  {
   "cell_type": "markdown",
   "metadata": {
    "run_control": {
     "frozen": false,
     "read_only": false
    }
   },
   "source": [
    "## 1.3 Pearson's  test for correlation\n",
    "\n",
    "** notice that the Pearson's is a pairwise test: the samples need to be **\n",
    " a. the same size\n",
    " b. sorted! (how??)\n",
    "    \n",
    "http://docs.scipy.org/doc/scipy/reference/generated/scipy.stats.pearsonr.html#scipy.stats.pearsonr\n",
    "\n"
   ]
  },
  {
   "cell_type": "code",
   "execution_count": 18,
   "metadata": {},
   "outputs": [],
   "source": [
    "Pday = np.random.choice(dfDay.tripduration, 500)\n",
    "Pday.sort()\n",
    "Pnight = np.random.choice(dfNight.tripduration, 500)\n",
    "Pnight.sort()"
   ]
  },
  {
   "cell_type": "raw",
   "metadata": {},
   "source": [
    "Pday\n",
    "Pnight"
   ]
  },
  {
   "cell_type": "code",
   "execution_count": 19,
   "metadata": {},
   "outputs": [
    {
     "data": {
      "text/plain": [
       "(0.93986269910187858, 1.7447952511589677e-234)"
      ]
     },
     "execution_count": 19,
     "metadata": {},
     "output_type": "execute_result"
    }
   ],
   "source": [
    "stats.pearsonr(Pday, Pnight)"
   ]
  },
  {
   "cell_type": "code",
   "execution_count": null,
   "metadata": {},
   "outputs": [],
   "source": []
  },
  {
   "cell_type": "code",
   "execution_count": null,
   "metadata": {},
   "outputs": [],
   "source": []
  },
  {
   "cell_type": "code",
   "execution_count": null,
   "metadata": {},
   "outputs": [],
   "source": []
  },
  {
   "cell_type": "code",
   "execution_count": null,
   "metadata": {},
   "outputs": [],
   "source": []
  },
  {
   "cell_type": "markdown",
   "metadata": {
    "run_control": {
     "frozen": false,
     "read_only": false
    }
   },
   "source": [
    "## 1.4 Spearman's  test for correlation\n",
    "\n",
    "http://docs.scipy.org/doc/scipy/reference/generated/scipy.stats.spearmanr.html#scipy.stats.spearmanr"
   ]
  },
  {
   "cell_type": "code",
   "execution_count": 20,
   "metadata": {},
   "outputs": [
    {
     "data": {
      "text/plain": [
       "SpearmanrResult(correlation=0.99999455194875086, pvalue=0.0)"
      ]
     },
     "execution_count": 20,
     "metadata": {},
     "output_type": "execute_result"
    }
   ],
   "source": [
    "stats.spearmanr(Pday, Pnight)"
   ]
  },
  {
   "cell_type": "code",
   "execution_count": null,
   "metadata": {},
   "outputs": [],
   "source": []
  },
  {
   "cell_type": "code",
   "execution_count": null,
   "metadata": {},
   "outputs": [],
   "source": []
  },
  {
   "cell_type": "code",
   "execution_count": null,
   "metadata": {},
   "outputs": [],
   "source": []
  },
  {
   "cell_type": "code",
   "execution_count": null,
   "metadata": {},
   "outputs": [],
   "source": []
  },
  {
   "cell_type": "code",
   "execution_count": null,
   "metadata": {},
   "outputs": [],
   "source": []
  },
  {
   "cell_type": "code",
   "execution_count": null,
   "metadata": {},
   "outputs": [],
   "source": []
  },
  {
   "cell_type": "markdown",
   "metadata": {
    "run_control": {
     "frozen": false,
     "read_only": false
    }
   },
   "source": [
    "** please comment on the numbers that you get in the light of the scipy manual: what is rerutned? what does it mean??**"
   ]
  },
  {
   "cell_type": "code",
   "execution_count": null,
   "metadata": {
    "run_control": {
     "frozen": false,
     "read_only": false
    }
   },
   "outputs": [],
   "source": []
  },
  {
   "cell_type": "code",
   "execution_count": null,
   "metadata": {},
   "outputs": [],
   "source": []
  },
  {
   "cell_type": "code",
   "execution_count": null,
   "metadata": {},
   "outputs": [],
   "source": []
  },
  {
   "cell_type": "code",
   "execution_count": null,
   "metadata": {},
   "outputs": [],
   "source": []
  },
  {
   "cell_type": "markdown",
   "metadata": {},
   "source": [
    "# Question 2: age of bikers for trips originating in Manhattan and in Brooklyn\n",
    "## 2.1 SPLIT BY CATEGORY"
   ]
  },
  {
   "cell_type": "code",
   "execution_count": 21,
   "metadata": {},
   "outputs": [
    {
     "data": {
      "text/plain": [
       "tripduration               2067141\n",
       "starttime                  2067141\n",
       "start station latitude     2067141\n",
       "start station longitude    2067141\n",
       "birth year                 1827972\n",
       "dtype: int64"
      ]
     },
     "execution_count": 21,
     "metadata": {},
     "output_type": "execute_result"
    }
   ],
   "source": [
    "result.count()"
   ]
  },
  {
   "cell_type": "raw",
   "metadata": {},
   "source": [
    "result = result.head(2000)"
   ]
  },
  {
   "cell_type": "code",
   "execution_count": 22,
   "metadata": {},
   "outputs": [],
   "source": [
    "result.drop(['tripduration', 'starttime'], axis=1, inplace=True)"
   ]
  },
  {
   "cell_type": "code",
   "execution_count": 23,
   "metadata": {},
   "outputs": [
    {
     "data": {
      "text/plain": [
       "start station latitude     2067141\n",
       "start station longitude    2067141\n",
       "birth year                 1827972\n",
       "dtype: int64"
      ]
     },
     "execution_count": 23,
     "metadata": {},
     "output_type": "execute_result"
    }
   ],
   "source": [
    "result.count()"
   ]
  },
  {
   "cell_type": "code",
   "execution_count": 24,
   "metadata": {},
   "outputs": [],
   "source": [
    "result.dropna(axis=0, how='any', inplace=True)"
   ]
  },
  {
   "cell_type": "code",
   "execution_count": 25,
   "metadata": {
    "scrolled": true
   },
   "outputs": [
    {
     "data": {
      "text/plain": [
       "array([ 1958.,  1969.,  1982.,  1961.,  1952.,  1984.,  1963.,  1996.,\n",
       "        1971.,  1970.,  1988.,  1964.,  1976.,  1989.,  1993.,  1972.,\n",
       "        1951.,  1966.,  1960.,  1954.,  1962.,  1977.,  1974.,  1990.,\n",
       "        1981.,  1983.,  1973.,  1985.,  1986.,  1956.,  1994.,  1965.,\n",
       "        1975.,  1959.,  1987.,  1978.,  1992.,  1949.,  1950.,  1979.,\n",
       "        1968.,  1980.,  1991.,  1967.,  1957.,  1948.,  1942.,  1995.,\n",
       "        1953.,  1955.,  1999.,  1947.,  1997.,  1998.,  1938.,  1941.,\n",
       "        1936.,  1946.,  1944.,  1940.,  1945.,  1939.,  1885.,  1943.,\n",
       "        1900.,  1899.,  1935.,  1901.,  1910.,  1932.,  1907.,  1926.,\n",
       "        1937.,  1934.,  1917.,  2000.,  1918.,  1923.,  1888.,  1913.,\n",
       "        1921.,  1912.,  1933.,  1920.,  1931.,  1893.,  1894.,  1896.])"
      ]
     },
     "execution_count": 25,
     "metadata": {},
     "output_type": "execute_result"
    }
   ],
   "source": [
    "result['birth year'].unique()"
   ]
  },
  {
   "cell_type": "code",
   "execution_count": 26,
   "metadata": {},
   "outputs": [
    {
     "data": {
      "text/plain": [
       "start station latitude     1827972\n",
       "start station longitude    1827972\n",
       "birth year                 1827972\n",
       "dtype: int64"
      ]
     },
     "execution_count": 26,
     "metadata": {},
     "output_type": "execute_result"
    }
   ],
   "source": [
    "result.count()"
   ]
  },
  {
   "cell_type": "code",
   "execution_count": 27,
   "metadata": {},
   "outputs": [],
   "source": [
    "result.reset_index(drop=True, inplace=True)"
   ]
  },
  {
   "cell_type": "raw",
   "metadata": {},
   "source": [
    "result = result.head(10000)"
   ]
  },
  {
   "cell_type": "code",
   "execution_count": 28,
   "metadata": {},
   "outputs": [],
   "source": [
    "a = Point([result['start station latitude'][2],result['start station longitude'][2]])"
   ]
  },
  {
   "cell_type": "code",
   "execution_count": 29,
   "metadata": {},
   "outputs": [
    {
     "data": {
      "text/plain": [
       "1827972"
      ]
     },
     "execution_count": 29,
     "metadata": {},
     "output_type": "execute_result"
    }
   ],
   "source": [
    "len(result)"
   ]
  },
  {
   "cell_type": "code",
   "execution_count": 30,
   "metadata": {},
   "outputs": [],
   "source": [
    "locList = []\n",
    "for row in range(len(result)):\n",
    "    temp = Point([result['start station latitude'][row],result['start station longitude'][row]])\n",
    "    locList.append(temp)"
   ]
  },
  {
   "cell_type": "code",
   "execution_count": 31,
   "metadata": {},
   "outputs": [
    {
     "data": {
      "text/plain": [
       "[<shapely.geometry.point.Point at 0x114dec2e8>,\n",
       " <shapely.geometry.point.Point at 0x10beac390>,\n",
       " <shapely.geometry.point.Point at 0x10beacd30>,\n",
       " <shapely.geometry.point.Point at 0x10beac4a8>,\n",
       " <shapely.geometry.point.Point at 0x10beac630>,\n",
       " <shapely.geometry.point.Point at 0x10beac978>,\n",
       " <shapely.geometry.point.Point at 0x10beacfd0>,\n",
       " <shapely.geometry.point.Point at 0x10beacb38>,\n",
       " <shapely.geometry.point.Point at 0x10beac278>,\n",
       " <shapely.geometry.point.Point at 0x109bd14a8>,\n",
       " <shapely.geometry.point.Point at 0x104b60240>,\n",
       " <shapely.geometry.point.Point at 0x10caf25c0>,\n",
       " <shapely.geometry.point.Point at 0x10d4880b8>,\n",
       " <shapely.geometry.point.Point at 0x10beaccf8>,\n",
       " <shapely.geometry.point.Point at 0x10beac710>,\n",
       " <shapely.geometry.point.Point at 0x10beac470>,\n",
       " <shapely.geometry.point.Point at 0x10beac860>,\n",
       " <shapely.geometry.point.Point at 0x10beac208>,\n",
       " <shapely.geometry.point.Point at 0x10beac8d0>,\n",
       " <shapely.geometry.point.Point at 0x10beacbe0>,\n",
       " <shapely.geometry.point.Point at 0x10beac3c8>,\n",
       " <shapely.geometry.point.Point at 0x10beacb00>,\n",
       " <shapely.geometry.point.Point at 0x10beac9e8>,\n",
       " <shapely.geometry.point.Point at 0x10beac828>,\n",
       " <shapely.geometry.point.Point at 0x10beaca58>,\n",
       " <shapely.geometry.point.Point at 0x10beac518>,\n",
       " <shapely.geometry.point.Point at 0x10beac0f0>,\n",
       " <shapely.geometry.point.Point at 0x10beac7f0>,\n",
       " <shapely.geometry.point.Point at 0x10beacac8>,\n",
       " <shapely.geometry.point.Point at 0x10beac668>,\n",
       " <shapely.geometry.point.Point at 0x10beac9b0>,\n",
       " <shapely.geometry.point.Point at 0x10beacdd8>,\n",
       " <shapely.geometry.point.Point at 0x10beacc88>,\n",
       " <shapely.geometry.point.Point at 0x10beacda0>,\n",
       " <shapely.geometry.point.Point at 0x10beac2b0>,\n",
       " <shapely.geometry.point.Point at 0x10beace10>,\n",
       " <shapely.geometry.point.Point at 0x10beac6d8>,\n",
       " <shapely.geometry.point.Point at 0x10beac7b8>,\n",
       " <shapely.geometry.point.Point at 0x10beacf60>,\n",
       " <shapely.geometry.point.Point at 0x10beac780>,\n",
       " <shapely.geometry.point.Point at 0x10beac1d0>,\n",
       " <shapely.geometry.point.Point at 0x10beaca20>,\n",
       " <shapely.geometry.point.Point at 0x10beacd68>,\n",
       " <shapely.geometry.point.Point at 0x10beac048>,\n",
       " <shapely.geometry.point.Point at 0x10beac908>,\n",
       " <shapely.geometry.point.Point at 0x10beacf28>,\n",
       " <shapely.geometry.point.Point at 0x10beac0b8>,\n",
       " <shapely.geometry.point.Point at 0x10beac358>,\n",
       " <shapely.geometry.point.Point at 0x10beac940>,\n",
       " <shapely.geometry.point.Point at 0x10d44b128>,\n",
       " <shapely.geometry.point.Point at 0x10ca58be0>,\n",
       " <shapely.geometry.point.Point at 0x10ca58cf8>,\n",
       " <shapely.geometry.point.Point at 0x1168f91d0>,\n",
       " <shapely.geometry.point.Point at 0x1168f90f0>,\n",
       " <shapely.geometry.point.Point at 0x1168f9208>,\n",
       " <shapely.geometry.point.Point at 0x1168f9ac8>,\n",
       " <shapely.geometry.point.Point at 0x1168f9780>,\n",
       " <shapely.geometry.point.Point at 0x1168f9be0>,\n",
       " <shapely.geometry.point.Point at 0x1168f9c88>,\n",
       " <shapely.geometry.point.Point at 0x1168f9d68>,\n",
       " <shapely.geometry.point.Point at 0x1168f90b8>,\n",
       " <shapely.geometry.point.Point at 0x11682b748>,\n",
       " <shapely.geometry.point.Point at 0x10d3fc550>,\n",
       " <shapely.geometry.point.Point at 0x10d3fcf98>,\n",
       " <shapely.geometry.point.Point at 0x10e844278>,\n",
       " <shapely.geometry.point.Point at 0x114dd3940>,\n",
       " <shapely.geometry.point.Point at 0x114dd3710>,\n",
       " <shapely.geometry.point.Point at 0x116a75f98>,\n",
       " <shapely.geometry.point.Point at 0x116a75fd0>,\n",
       " <shapely.geometry.point.Point at 0x116a75e10>,\n",
       " <shapely.geometry.point.Point at 0x116a75e48>,\n",
       " <shapely.geometry.point.Point at 0x116a75f28>,\n",
       " <shapely.geometry.point.Point at 0x116a75c88>,\n",
       " <shapely.geometry.point.Point at 0x116a75cc0>,\n",
       " <shapely.geometry.point.Point at 0x116a75da0>,\n",
       " <shapely.geometry.point.Point at 0x116a75208>,\n",
       " <shapely.geometry.point.Point at 0x116a75710>,\n",
       " <shapely.geometry.point.Point at 0x116a755f8>,\n",
       " <shapely.geometry.point.Point at 0x116a750f0>,\n",
       " <shapely.geometry.point.Point at 0x116a752b0>,\n",
       " <shapely.geometry.point.Point at 0x1168e6d68>,\n",
       " <shapely.geometry.point.Point at 0x1168e65c0>,\n",
       " <shapely.geometry.point.Point at 0x1168e6c88>,\n",
       " <shapely.geometry.point.Point at 0x1168f26d8>,\n",
       " <shapely.geometry.point.Point at 0x114cf2f60>,\n",
       " <shapely.geometry.point.Point at 0x114cf2a20>,\n",
       " <shapely.geometry.point.Point at 0x114cf29b0>,\n",
       " <shapely.geometry.point.Point at 0x114cf2908>,\n",
       " <shapely.geometry.point.Point at 0x10e837cf8>,\n",
       " <shapely.geometry.point.Point at 0x10e837940>,\n",
       " <shapely.geometry.point.Point at 0x10e837b70>,\n",
       " <shapely.geometry.point.Point at 0x10e837e48>,\n",
       " <shapely.geometry.point.Point at 0x10e83b860>,\n",
       " <shapely.geometry.point.Point at 0x10e83bef0>,\n",
       " <shapely.geometry.point.Point at 0x10e83b780>,\n",
       " <shapely.geometry.point.Point at 0x10e83b048>,\n",
       " <shapely.geometry.point.Point at 0x10e83b1d0>,\n",
       " <shapely.geometry.point.Point at 0x10e83b710>,\n",
       " <shapely.geometry.point.Point at 0x114cec0b8>,\n",
       " <shapely.geometry.point.Point at 0x114cec128>,\n",
       " <shapely.geometry.point.Point at 0x1168ee5c0>,\n",
       " <shapely.geometry.point.Point at 0x1168eeef0>,\n",
       " <shapely.geometry.point.Point at 0x1168eef60>,\n",
       " <shapely.geometry.point.Point at 0x1168eef28>,\n",
       " <shapely.geometry.point.Point at 0x1168eed30>,\n",
       " <shapely.geometry.point.Point at 0x1168eed68>,\n",
       " <shapely.geometry.point.Point at 0x10ca989e8>,\n",
       " <shapely.geometry.point.Point at 0x10d41f518>,\n",
       " <shapely.geometry.point.Point at 0x10d41fb38>,\n",
       " <shapely.geometry.point.Point at 0x10d41f828>,\n",
       " <shapely.geometry.point.Point at 0x116a4ae48>,\n",
       " <shapely.geometry.point.Point at 0x116a4add8>,\n",
       " <shapely.geometry.point.Point at 0x116a4ae80>,\n",
       " <shapely.geometry.point.Point at 0x116a4af60>,\n",
       " <shapely.geometry.point.Point at 0x116a4af98>,\n",
       " <shapely.geometry.point.Point at 0x116a4aef0>,\n",
       " <shapely.geometry.point.Point at 0x116a4af28>,\n",
       " <shapely.geometry.point.Point at 0x116a4ae10>,\n",
       " <shapely.geometry.point.Point at 0x116a4ad68>,\n",
       " <shapely.geometry.point.Point at 0x116a4aeb8>,\n",
       " <shapely.geometry.point.Point at 0x116a4ada0>,\n",
       " <shapely.geometry.point.Point at 0x114cdae48>,\n",
       " <shapely.geometry.point.Point at 0x114cdacf8>,\n",
       " <shapely.geometry.point.Point at 0x114cdabe0>,\n",
       " <shapely.geometry.point.Point at 0x114cdaf60>,\n",
       " <shapely.geometry.point.Point at 0x114cdaf98>,\n",
       " <shapely.geometry.point.Point at 0x114cdadd8>,\n",
       " <shapely.geometry.point.Point at 0x114cda518>,\n",
       " <shapely.geometry.point.Point at 0x10e850dd8>,\n",
       " <shapely.geometry.point.Point at 0x10e850da0>,\n",
       " <shapely.geometry.point.Point at 0x10e850e10>,\n",
       " <shapely.geometry.point.Point at 0x11683f860>,\n",
       " <shapely.geometry.point.Point at 0x11683f828>,\n",
       " <shapely.geometry.point.Point at 0x11683f898>,\n",
       " <shapely.geometry.point.Point at 0x11683fba8>,\n",
       " <shapely.geometry.point.Point at 0x116a66748>,\n",
       " <shapely.geometry.point.Point at 0x116a625c0>,\n",
       " <shapely.geometry.point.Point at 0x116a62828>,\n",
       " <shapely.geometry.point.Point at 0x1167a0fd0>,\n",
       " <shapely.geometry.point.Point at 0x1167a0668>,\n",
       " <shapely.geometry.point.Point at 0x1167a0080>,\n",
       " <shapely.geometry.point.Point at 0x1167a0550>,\n",
       " <shapely.geometry.point.Point at 0x1167a0240>,\n",
       " <shapely.geometry.point.Point at 0x1167a0cf8>,\n",
       " <shapely.geometry.point.Point at 0x1167a0d30>,\n",
       " <shapely.geometry.point.Point at 0x1167a06a0>,\n",
       " <shapely.geometry.point.Point at 0x1167a0a58>,\n",
       " <shapely.geometry.point.Point at 0x1167a02b0>,\n",
       " <shapely.geometry.point.Point at 0x1167a0c88>,\n",
       " <shapely.geometry.point.Point at 0x1167a00b8>,\n",
       " <shapely.geometry.point.Point at 0x1167a0518>,\n",
       " <shapely.geometry.point.Point at 0x1167a0978>,\n",
       " <shapely.geometry.point.Point at 0x1167a0898>,\n",
       " <shapely.geometry.point.Point at 0x1167a07f0>,\n",
       " <shapely.geometry.point.Point at 0x1167a08d0>,\n",
       " <shapely.geometry.point.Point at 0x1167a0400>,\n",
       " <shapely.geometry.point.Point at 0x1167a06d8>,\n",
       " <shapely.geometry.point.Point at 0x1167a0128>,\n",
       " <shapely.geometry.point.Point at 0x1167a0940>,\n",
       " <shapely.geometry.point.Point at 0x1167a0a20>,\n",
       " <shapely.geometry.point.Point at 0x1167a0860>,\n",
       " <shapely.geometry.point.Point at 0x1167a0780>,\n",
       " <shapely.geometry.point.Point at 0x1167a07b8>,\n",
       " <shapely.geometry.point.Point at 0x1167a0ba8>,\n",
       " <shapely.geometry.point.Point at 0x1167a0c18>,\n",
       " <shapely.geometry.point.Point at 0x1167a0b00>,\n",
       " <shapely.geometry.point.Point at 0x1167a0b38>,\n",
       " <shapely.geometry.point.Point at 0x1167a0ac8>,\n",
       " <shapely.geometry.point.Point at 0x1167a0470>,\n",
       " <shapely.geometry.point.Point at 0x10d473748>,\n",
       " <shapely.geometry.point.Point at 0x116a7d048>,\n",
       " <shapely.geometry.point.Point at 0x116a7d0f0>,\n",
       " <shapely.geometry.point.Point at 0x116a7d710>,\n",
       " <shapely.geometry.point.Point at 0x116a7d278>,\n",
       " <shapely.geometry.point.Point at 0x116a57668>,\n",
       " <shapely.geometry.point.Point at 0x116a57160>,\n",
       " <shapely.geometry.point.Point at 0x116a57198>,\n",
       " <shapely.geometry.point.Point at 0x116a57080>,\n",
       " <shapely.geometry.point.Point at 0x116a570f0>,\n",
       " <shapely.geometry.point.Point at 0x116a570b8>,\n",
       " <shapely.geometry.point.Point at 0x116a57898>,\n",
       " <shapely.geometry.point.Point at 0x116a57d68>,\n",
       " <shapely.geometry.point.Point at 0x114cffa90>,\n",
       " <shapely.geometry.point.Point at 0x114cffbe0>,\n",
       " <shapely.geometry.point.Point at 0x114cff208>,\n",
       " <shapely.geometry.point.Point at 0x114cff5f8>,\n",
       " <shapely.geometry.point.Point at 0x114cfffd0>,\n",
       " <shapely.geometry.point.Point at 0x114cffcf8>,\n",
       " <shapely.geometry.point.Point at 0x114cffc88>,\n",
       " <shapely.geometry.point.Point at 0x114cffc50>,\n",
       " <shapely.geometry.point.Point at 0x114d0db00>,\n",
       " <shapely.geometry.point.Point at 0x114d0d470>,\n",
       " <shapely.geometry.point.Point at 0x114d0d400>,\n",
       " <shapely.geometry.point.Point at 0x114d0d8d0>,\n",
       " <shapely.geometry.point.Point at 0x114d0d940>,\n",
       " <shapely.geometry.point.Point at 0x114d0d6d8>,\n",
       " <shapely.geometry.point.Point at 0x114d0d278>,\n",
       " <shapely.geometry.point.Point at 0x114d0d2b0>,\n",
       " <shapely.geometry.point.Point at 0x114d0d1d0>,\n",
       " <shapely.geometry.point.Point at 0x114d0d208>,\n",
       " <shapely.geometry.point.Point at 0x114d0d128>,\n",
       " <shapely.geometry.point.Point at 0x114d0d160>,\n",
       " <shapely.geometry.point.Point at 0x114d0d080>,\n",
       " <shapely.geometry.point.Point at 0x114d0d0b8>,\n",
       " <shapely.geometry.point.Point at 0x1167ad080>,\n",
       " <shapely.geometry.point.Point at 0x1167ad128>,\n",
       " <shapely.geometry.point.Point at 0x1167ad278>,\n",
       " <shapely.geometry.point.Point at 0x1167ad320>,\n",
       " <shapely.geometry.point.Point at 0x1167ad240>,\n",
       " <shapely.geometry.point.Point at 0x1167ad208>,\n",
       " <shapely.geometry.point.Point at 0x1167ad198>,\n",
       " <shapely.geometry.point.Point at 0x1167ad0b8>,\n",
       " <shapely.geometry.point.Point at 0x1167ad160>,\n",
       " <shapely.geometry.point.Point at 0x1167ad1d0>,\n",
       " <shapely.geometry.point.Point at 0x1167ad0f0>,\n",
       " <shapely.geometry.point.Point at 0x1167ad3c8>,\n",
       " <shapely.geometry.point.Point at 0x1167ad400>,\n",
       " <shapely.geometry.point.Point at 0x1167ad438>,\n",
       " <shapely.geometry.point.Point at 0x1167ad470>,\n",
       " <shapely.geometry.point.Point at 0x1167ad4a8>,\n",
       " <shapely.geometry.point.Point at 0x1167ad4e0>,\n",
       " <shapely.geometry.point.Point at 0x1167ad518>,\n",
       " <shapely.geometry.point.Point at 0x1167ad550>,\n",
       " <shapely.geometry.point.Point at 0x1167ad588>,\n",
       " <shapely.geometry.point.Point at 0x1167ad5c0>,\n",
       " <shapely.geometry.point.Point at 0x1167ad5f8>,\n",
       " <shapely.geometry.point.Point at 0x1167ad630>,\n",
       " <shapely.geometry.point.Point at 0x1167ad668>,\n",
       " <shapely.geometry.point.Point at 0x1167ad6a0>,\n",
       " <shapely.geometry.point.Point at 0x1167ad6d8>,\n",
       " <shapely.geometry.point.Point at 0x1167ad710>,\n",
       " <shapely.geometry.point.Point at 0x1167ad748>,\n",
       " <shapely.geometry.point.Point at 0x1167ad780>,\n",
       " <shapely.geometry.point.Point at 0x1167ad7b8>,\n",
       " <shapely.geometry.point.Point at 0x1167ad7f0>,\n",
       " <shapely.geometry.point.Point at 0x1167ad828>,\n",
       " <shapely.geometry.point.Point at 0x1167ad860>,\n",
       " <shapely.geometry.point.Point at 0x1167ad898>,\n",
       " <shapely.geometry.point.Point at 0x1167ad8d0>,\n",
       " <shapely.geometry.point.Point at 0x1167ad908>,\n",
       " <shapely.geometry.point.Point at 0x1167ad940>,\n",
       " <shapely.geometry.point.Point at 0x1167ad978>,\n",
       " <shapely.geometry.point.Point at 0x1167ad9b0>,\n",
       " <shapely.geometry.point.Point at 0x1167ad9e8>,\n",
       " <shapely.geometry.point.Point at 0x1167ada20>,\n",
       " <shapely.geometry.point.Point at 0x1167ada58>,\n",
       " <shapely.geometry.point.Point at 0x1167ada90>,\n",
       " <shapely.geometry.point.Point at 0x1167adac8>,\n",
       " <shapely.geometry.point.Point at 0x1167adb00>,\n",
       " <shapely.geometry.point.Point at 0x1167adb38>,\n",
       " <shapely.geometry.point.Point at 0x1167adb70>,\n",
       " <shapely.geometry.point.Point at 0x1167adba8>,\n",
       " <shapely.geometry.point.Point at 0x1167adbe0>,\n",
       " <shapely.geometry.point.Point at 0x1167adc18>,\n",
       " <shapely.geometry.point.Point at 0x1167adc50>,\n",
       " <shapely.geometry.point.Point at 0x1167adc88>,\n",
       " <shapely.geometry.point.Point at 0x1167adcc0>,\n",
       " <shapely.geometry.point.Point at 0x1167adcf8>,\n",
       " <shapely.geometry.point.Point at 0x1167add30>,\n",
       " <shapely.geometry.point.Point at 0x1167add68>,\n",
       " <shapely.geometry.point.Point at 0x1167adda0>,\n",
       " <shapely.geometry.point.Point at 0x1167addd8>,\n",
       " <shapely.geometry.point.Point at 0x1167ade10>,\n",
       " <shapely.geometry.point.Point at 0x1167ade48>,\n",
       " <shapely.geometry.point.Point at 0x1167ade80>,\n",
       " <shapely.geometry.point.Point at 0x1167adeb8>,\n",
       " <shapely.geometry.point.Point at 0x1167adef0>,\n",
       " <shapely.geometry.point.Point at 0x1167adf28>,\n",
       " <shapely.geometry.point.Point at 0x1167adf60>,\n",
       " <shapely.geometry.point.Point at 0x1167adf98>,\n",
       " <shapely.geometry.point.Point at 0x1167adfd0>,\n",
       " <shapely.geometry.point.Point at 0x1167be048>,\n",
       " <shapely.geometry.point.Point at 0x1167be080>,\n",
       " <shapely.geometry.point.Point at 0x1167be0b8>,\n",
       " <shapely.geometry.point.Point at 0x1167be0f0>,\n",
       " <shapely.geometry.point.Point at 0x1167be128>,\n",
       " <shapely.geometry.point.Point at 0x1167be160>,\n",
       " <shapely.geometry.point.Point at 0x1167be198>,\n",
       " <shapely.geometry.point.Point at 0x1167be1d0>,\n",
       " <shapely.geometry.point.Point at 0x1167be208>,\n",
       " <shapely.geometry.point.Point at 0x1167be240>,\n",
       " <shapely.geometry.point.Point at 0x1167be278>,\n",
       " <shapely.geometry.point.Point at 0x1167be2b0>,\n",
       " <shapely.geometry.point.Point at 0x1167be2e8>,\n",
       " <shapely.geometry.point.Point at 0x1167be320>,\n",
       " <shapely.geometry.point.Point at 0x1167be358>,\n",
       " <shapely.geometry.point.Point at 0x1167be390>,\n",
       " <shapely.geometry.point.Point at 0x1167be3c8>,\n",
       " <shapely.geometry.point.Point at 0x1167be400>,\n",
       " <shapely.geometry.point.Point at 0x1167be438>,\n",
       " <shapely.geometry.point.Point at 0x1167be470>,\n",
       " <shapely.geometry.point.Point at 0x1167be4a8>,\n",
       " <shapely.geometry.point.Point at 0x1167be4e0>,\n",
       " <shapely.geometry.point.Point at 0x1167be518>,\n",
       " <shapely.geometry.point.Point at 0x1167be550>,\n",
       " <shapely.geometry.point.Point at 0x1167be588>,\n",
       " <shapely.geometry.point.Point at 0x1167be5c0>,\n",
       " <shapely.geometry.point.Point at 0x1167be5f8>,\n",
       " <shapely.geometry.point.Point at 0x1167be630>,\n",
       " <shapely.geometry.point.Point at 0x1167be668>,\n",
       " <shapely.geometry.point.Point at 0x1167be6a0>,\n",
       " <shapely.geometry.point.Point at 0x1167be6d8>,\n",
       " <shapely.geometry.point.Point at 0x1167be710>,\n",
       " <shapely.geometry.point.Point at 0x1167be748>,\n",
       " <shapely.geometry.point.Point at 0x1167be780>,\n",
       " <shapely.geometry.point.Point at 0x1167be7b8>,\n",
       " <shapely.geometry.point.Point at 0x1167be7f0>,\n",
       " <shapely.geometry.point.Point at 0x1167be828>,\n",
       " <shapely.geometry.point.Point at 0x1167be860>,\n",
       " <shapely.geometry.point.Point at 0x1167be898>,\n",
       " <shapely.geometry.point.Point at 0x1167be8d0>,\n",
       " <shapely.geometry.point.Point at 0x1167be908>,\n",
       " <shapely.geometry.point.Point at 0x1167be940>,\n",
       " <shapely.geometry.point.Point at 0x1167be978>,\n",
       " <shapely.geometry.point.Point at 0x1167be9b0>,\n",
       " <shapely.geometry.point.Point at 0x1167be9e8>,\n",
       " <shapely.geometry.point.Point at 0x1167bea20>,\n",
       " <shapely.geometry.point.Point at 0x1167bea58>,\n",
       " <shapely.geometry.point.Point at 0x1167bea90>,\n",
       " <shapely.geometry.point.Point at 0x1167beac8>,\n",
       " <shapely.geometry.point.Point at 0x1167beb00>,\n",
       " <shapely.geometry.point.Point at 0x1167beb38>,\n",
       " <shapely.geometry.point.Point at 0x1167beb70>,\n",
       " <shapely.geometry.point.Point at 0x1167beba8>,\n",
       " <shapely.geometry.point.Point at 0x1167bebe0>,\n",
       " <shapely.geometry.point.Point at 0x1167bec18>,\n",
       " <shapely.geometry.point.Point at 0x1167bec50>,\n",
       " <shapely.geometry.point.Point at 0x1167bec88>,\n",
       " <shapely.geometry.point.Point at 0x1167becc0>,\n",
       " <shapely.geometry.point.Point at 0x1167becf8>,\n",
       " <shapely.geometry.point.Point at 0x1167bed30>,\n",
       " <shapely.geometry.point.Point at 0x1167bed68>,\n",
       " <shapely.geometry.point.Point at 0x1167beda0>,\n",
       " <shapely.geometry.point.Point at 0x1167bedd8>,\n",
       " <shapely.geometry.point.Point at 0x1167bee10>,\n",
       " <shapely.geometry.point.Point at 0x1167bee48>,\n",
       " <shapely.geometry.point.Point at 0x1167bee80>,\n",
       " <shapely.geometry.point.Point at 0x1167beeb8>,\n",
       " <shapely.geometry.point.Point at 0x1167beef0>,\n",
       " <shapely.geometry.point.Point at 0x1167bef28>,\n",
       " <shapely.geometry.point.Point at 0x1167bef60>,\n",
       " <shapely.geometry.point.Point at 0x1167bef98>,\n",
       " <shapely.geometry.point.Point at 0x1167befd0>,\n",
       " <shapely.geometry.point.Point at 0x1167c0048>,\n",
       " <shapely.geometry.point.Point at 0x1167c0080>,\n",
       " <shapely.geometry.point.Point at 0x1167c00b8>,\n",
       " <shapely.geometry.point.Point at 0x1167c00f0>,\n",
       " <shapely.geometry.point.Point at 0x1167c0128>,\n",
       " <shapely.geometry.point.Point at 0x1167c0160>,\n",
       " <shapely.geometry.point.Point at 0x1167c0198>,\n",
       " <shapely.geometry.point.Point at 0x1167c01d0>,\n",
       " <shapely.geometry.point.Point at 0x1167c0208>,\n",
       " <shapely.geometry.point.Point at 0x1167c0240>,\n",
       " <shapely.geometry.point.Point at 0x1167c0278>,\n",
       " <shapely.geometry.point.Point at 0x1167c02b0>,\n",
       " <shapely.geometry.point.Point at 0x1167c02e8>,\n",
       " <shapely.geometry.point.Point at 0x1167c0320>,\n",
       " <shapely.geometry.point.Point at 0x1167c0358>,\n",
       " <shapely.geometry.point.Point at 0x1167c0390>,\n",
       " <shapely.geometry.point.Point at 0x1167c03c8>,\n",
       " <shapely.geometry.point.Point at 0x1167c0400>,\n",
       " <shapely.geometry.point.Point at 0x1167c0438>,\n",
       " <shapely.geometry.point.Point at 0x1167c0470>,\n",
       " <shapely.geometry.point.Point at 0x1167c04a8>,\n",
       " <shapely.geometry.point.Point at 0x1167c04e0>,\n",
       " <shapely.geometry.point.Point at 0x1167c0518>,\n",
       " <shapely.geometry.point.Point at 0x1167c0550>,\n",
       " <shapely.geometry.point.Point at 0x1167c0588>,\n",
       " <shapely.geometry.point.Point at 0x1167c05c0>,\n",
       " <shapely.geometry.point.Point at 0x1167c05f8>,\n",
       " <shapely.geometry.point.Point at 0x1167c0630>,\n",
       " <shapely.geometry.point.Point at 0x1167c0668>,\n",
       " <shapely.geometry.point.Point at 0x1167c06a0>,\n",
       " <shapely.geometry.point.Point at 0x1167c06d8>,\n",
       " <shapely.geometry.point.Point at 0x1167c0710>,\n",
       " <shapely.geometry.point.Point at 0x1167c0748>,\n",
       " <shapely.geometry.point.Point at 0x1167c0780>,\n",
       " <shapely.geometry.point.Point at 0x1167c07b8>,\n",
       " <shapely.geometry.point.Point at 0x1167c07f0>,\n",
       " <shapely.geometry.point.Point at 0x1167c0828>,\n",
       " <shapely.geometry.point.Point at 0x1167c0860>,\n",
       " <shapely.geometry.point.Point at 0x1167c0898>,\n",
       " <shapely.geometry.point.Point at 0x1167c08d0>,\n",
       " <shapely.geometry.point.Point at 0x1167c0908>,\n",
       " <shapely.geometry.point.Point at 0x1167c0940>,\n",
       " <shapely.geometry.point.Point at 0x1167c0978>,\n",
       " <shapely.geometry.point.Point at 0x1167c09b0>,\n",
       " <shapely.geometry.point.Point at 0x1167c09e8>,\n",
       " <shapely.geometry.point.Point at 0x1167c0a20>,\n",
       " <shapely.geometry.point.Point at 0x1167c0a58>,\n",
       " <shapely.geometry.point.Point at 0x1167c0a90>,\n",
       " <shapely.geometry.point.Point at 0x1167c0ac8>,\n",
       " <shapely.geometry.point.Point at 0x1167c0b00>,\n",
       " <shapely.geometry.point.Point at 0x1167c0b38>,\n",
       " <shapely.geometry.point.Point at 0x1167c0b70>,\n",
       " <shapely.geometry.point.Point at 0x1167c0ba8>,\n",
       " <shapely.geometry.point.Point at 0x1167c0be0>,\n",
       " <shapely.geometry.point.Point at 0x1167c0c18>,\n",
       " <shapely.geometry.point.Point at 0x1167c0c50>,\n",
       " <shapely.geometry.point.Point at 0x1167c0c88>,\n",
       " <shapely.geometry.point.Point at 0x1167c0cc0>,\n",
       " <shapely.geometry.point.Point at 0x1167c0cf8>,\n",
       " <shapely.geometry.point.Point at 0x1167c0d30>,\n",
       " <shapely.geometry.point.Point at 0x1167c0d68>,\n",
       " <shapely.geometry.point.Point at 0x1167c0da0>,\n",
       " <shapely.geometry.point.Point at 0x1167c0dd8>,\n",
       " <shapely.geometry.point.Point at 0x1167c0e10>,\n",
       " <shapely.geometry.point.Point at 0x1167c0e48>,\n",
       " <shapely.geometry.point.Point at 0x1167c0e80>,\n",
       " <shapely.geometry.point.Point at 0x1167c0eb8>,\n",
       " <shapely.geometry.point.Point at 0x1167c0ef0>,\n",
       " <shapely.geometry.point.Point at 0x1167c0f28>,\n",
       " <shapely.geometry.point.Point at 0x1167c0f60>,\n",
       " <shapely.geometry.point.Point at 0x1167c0f98>,\n",
       " <shapely.geometry.point.Point at 0x1167c0fd0>,\n",
       " <shapely.geometry.point.Point at 0x1167c4048>,\n",
       " <shapely.geometry.point.Point at 0x1167c4080>,\n",
       " <shapely.geometry.point.Point at 0x1167c40b8>,\n",
       " <shapely.geometry.point.Point at 0x1167c40f0>,\n",
       " <shapely.geometry.point.Point at 0x1167c4128>,\n",
       " <shapely.geometry.point.Point at 0x1167c4160>,\n",
       " <shapely.geometry.point.Point at 0x1167c4198>,\n",
       " <shapely.geometry.point.Point at 0x1167c41d0>,\n",
       " <shapely.geometry.point.Point at 0x1167c4208>,\n",
       " <shapely.geometry.point.Point at 0x1167c4240>,\n",
       " <shapely.geometry.point.Point at 0x1167c4278>,\n",
       " <shapely.geometry.point.Point at 0x1167c42b0>,\n",
       " <shapely.geometry.point.Point at 0x1167c42e8>,\n",
       " <shapely.geometry.point.Point at 0x1167c4320>,\n",
       " <shapely.geometry.point.Point at 0x1167c4358>,\n",
       " <shapely.geometry.point.Point at 0x1167c4390>,\n",
       " <shapely.geometry.point.Point at 0x1167c43c8>,\n",
       " <shapely.geometry.point.Point at 0x1167c4400>,\n",
       " <shapely.geometry.point.Point at 0x1167c4438>,\n",
       " <shapely.geometry.point.Point at 0x1167c4470>,\n",
       " <shapely.geometry.point.Point at 0x1167c44a8>,\n",
       " <shapely.geometry.point.Point at 0x1167c44e0>,\n",
       " <shapely.geometry.point.Point at 0x1167c4518>,\n",
       " <shapely.geometry.point.Point at 0x1167c4550>,\n",
       " <shapely.geometry.point.Point at 0x1167c4588>,\n",
       " <shapely.geometry.point.Point at 0x1167c45c0>,\n",
       " <shapely.geometry.point.Point at 0x1167c45f8>,\n",
       " <shapely.geometry.point.Point at 0x1167c4630>,\n",
       " <shapely.geometry.point.Point at 0x1167c4668>,\n",
       " <shapely.geometry.point.Point at 0x1167c46a0>,\n",
       " <shapely.geometry.point.Point at 0x1167c46d8>,\n",
       " <shapely.geometry.point.Point at 0x1167c4710>,\n",
       " <shapely.geometry.point.Point at 0x1167c4748>,\n",
       " <shapely.geometry.point.Point at 0x1167c4780>,\n",
       " <shapely.geometry.point.Point at 0x1167c47b8>,\n",
       " <shapely.geometry.point.Point at 0x1167c47f0>,\n",
       " <shapely.geometry.point.Point at 0x1167c4828>,\n",
       " <shapely.geometry.point.Point at 0x1167c4860>,\n",
       " <shapely.geometry.point.Point at 0x1167c4898>,\n",
       " <shapely.geometry.point.Point at 0x1167c48d0>,\n",
       " <shapely.geometry.point.Point at 0x1167c4908>,\n",
       " <shapely.geometry.point.Point at 0x1167c4940>,\n",
       " <shapely.geometry.point.Point at 0x1167c4978>,\n",
       " <shapely.geometry.point.Point at 0x1167c49b0>,\n",
       " <shapely.geometry.point.Point at 0x1167c49e8>,\n",
       " <shapely.geometry.point.Point at 0x1167c4a20>,\n",
       " <shapely.geometry.point.Point at 0x1167c4a58>,\n",
       " <shapely.geometry.point.Point at 0x1167c4a90>,\n",
       " <shapely.geometry.point.Point at 0x1167c4ac8>,\n",
       " <shapely.geometry.point.Point at 0x1167c4b00>,\n",
       " <shapely.geometry.point.Point at 0x1167c4b38>,\n",
       " <shapely.geometry.point.Point at 0x1167c4b70>,\n",
       " <shapely.geometry.point.Point at 0x1167c4ba8>,\n",
       " <shapely.geometry.point.Point at 0x1167c4be0>,\n",
       " <shapely.geometry.point.Point at 0x1167c4c18>,\n",
       " <shapely.geometry.point.Point at 0x1167c4c50>,\n",
       " <shapely.geometry.point.Point at 0x1167c4c88>,\n",
       " <shapely.geometry.point.Point at 0x1167c4cc0>,\n",
       " <shapely.geometry.point.Point at 0x1167c4cf8>,\n",
       " <shapely.geometry.point.Point at 0x1167c4d30>,\n",
       " <shapely.geometry.point.Point at 0x1167c4d68>,\n",
       " <shapely.geometry.point.Point at 0x1167c4da0>,\n",
       " <shapely.geometry.point.Point at 0x1167c4dd8>,\n",
       " <shapely.geometry.point.Point at 0x1167c4e10>,\n",
       " <shapely.geometry.point.Point at 0x1167c4e48>,\n",
       " <shapely.geometry.point.Point at 0x1167c4e80>,\n",
       " <shapely.geometry.point.Point at 0x1167c4eb8>,\n",
       " <shapely.geometry.point.Point at 0x1167c4ef0>,\n",
       " <shapely.geometry.point.Point at 0x1167c4f28>,\n",
       " <shapely.geometry.point.Point at 0x1167c4f60>,\n",
       " <shapely.geometry.point.Point at 0x1167c4f98>,\n",
       " <shapely.geometry.point.Point at 0x1167c4fd0>,\n",
       " <shapely.geometry.point.Point at 0x1167c8048>,\n",
       " <shapely.geometry.point.Point at 0x1167c8080>,\n",
       " <shapely.geometry.point.Point at 0x1167c80b8>,\n",
       " <shapely.geometry.point.Point at 0x1167c80f0>,\n",
       " <shapely.geometry.point.Point at 0x1167c8128>,\n",
       " <shapely.geometry.point.Point at 0x1167c8160>,\n",
       " <shapely.geometry.point.Point at 0x1167c8198>,\n",
       " <shapely.geometry.point.Point at 0x1167c81d0>,\n",
       " <shapely.geometry.point.Point at 0x1167c8208>,\n",
       " <shapely.geometry.point.Point at 0x1167c8240>,\n",
       " <shapely.geometry.point.Point at 0x1167c8278>,\n",
       " <shapely.geometry.point.Point at 0x1167c82b0>,\n",
       " <shapely.geometry.point.Point at 0x1167c82e8>,\n",
       " <shapely.geometry.point.Point at 0x1167c8320>,\n",
       " <shapely.geometry.point.Point at 0x1167c8358>,\n",
       " <shapely.geometry.point.Point at 0x1167c8390>,\n",
       " <shapely.geometry.point.Point at 0x1167c83c8>,\n",
       " <shapely.geometry.point.Point at 0x1167c8400>,\n",
       " <shapely.geometry.point.Point at 0x1167c8438>,\n",
       " <shapely.geometry.point.Point at 0x1167c8470>,\n",
       " <shapely.geometry.point.Point at 0x1167c84a8>,\n",
       " <shapely.geometry.point.Point at 0x1167c84e0>,\n",
       " <shapely.geometry.point.Point at 0x1167c8518>,\n",
       " <shapely.geometry.point.Point at 0x1167c8550>,\n",
       " <shapely.geometry.point.Point at 0x1167c8588>,\n",
       " <shapely.geometry.point.Point at 0x1167c85c0>,\n",
       " <shapely.geometry.point.Point at 0x1167c85f8>,\n",
       " <shapely.geometry.point.Point at 0x1167c8630>,\n",
       " <shapely.geometry.point.Point at 0x1167c8668>,\n",
       " <shapely.geometry.point.Point at 0x1167c86a0>,\n",
       " <shapely.geometry.point.Point at 0x1167c86d8>,\n",
       " <shapely.geometry.point.Point at 0x1167c8710>,\n",
       " <shapely.geometry.point.Point at 0x1167c8748>,\n",
       " <shapely.geometry.point.Point at 0x1167c8780>,\n",
       " <shapely.geometry.point.Point at 0x1167c87b8>,\n",
       " <shapely.geometry.point.Point at 0x1167c87f0>,\n",
       " <shapely.geometry.point.Point at 0x1167c8828>,\n",
       " <shapely.geometry.point.Point at 0x1167c8860>,\n",
       " <shapely.geometry.point.Point at 0x1167c8898>,\n",
       " <shapely.geometry.point.Point at 0x1167c88d0>,\n",
       " <shapely.geometry.point.Point at 0x1167c8908>,\n",
       " <shapely.geometry.point.Point at 0x1167c8940>,\n",
       " <shapely.geometry.point.Point at 0x1167c8978>,\n",
       " <shapely.geometry.point.Point at 0x1167c89b0>,\n",
       " <shapely.geometry.point.Point at 0x1167c89e8>,\n",
       " <shapely.geometry.point.Point at 0x1167c8a20>,\n",
       " <shapely.geometry.point.Point at 0x1167c8a58>,\n",
       " <shapely.geometry.point.Point at 0x1167c8a90>,\n",
       " <shapely.geometry.point.Point at 0x1167c8ac8>,\n",
       " <shapely.geometry.point.Point at 0x1167c8b00>,\n",
       " <shapely.geometry.point.Point at 0x1167c8b38>,\n",
       " <shapely.geometry.point.Point at 0x1167c8b70>,\n",
       " <shapely.geometry.point.Point at 0x1167c8ba8>,\n",
       " <shapely.geometry.point.Point at 0x1167c8be0>,\n",
       " <shapely.geometry.point.Point at 0x1167c8c18>,\n",
       " <shapely.geometry.point.Point at 0x1167c8c50>,\n",
       " <shapely.geometry.point.Point at 0x1167c8c88>,\n",
       " <shapely.geometry.point.Point at 0x1167c8cc0>,\n",
       " <shapely.geometry.point.Point at 0x1167c8cf8>,\n",
       " <shapely.geometry.point.Point at 0x1167c8d30>,\n",
       " <shapely.geometry.point.Point at 0x1167c8d68>,\n",
       " <shapely.geometry.point.Point at 0x1167c8da0>,\n",
       " <shapely.geometry.point.Point at 0x1167c8dd8>,\n",
       " <shapely.geometry.point.Point at 0x1167c8e10>,\n",
       " <shapely.geometry.point.Point at 0x1167c8e48>,\n",
       " <shapely.geometry.point.Point at 0x1167c8e80>,\n",
       " <shapely.geometry.point.Point at 0x1167c8eb8>,\n",
       " <shapely.geometry.point.Point at 0x1167c8ef0>,\n",
       " <shapely.geometry.point.Point at 0x1167c8f28>,\n",
       " <shapely.geometry.point.Point at 0x1167c8f60>,\n",
       " <shapely.geometry.point.Point at 0x1167c8f98>,\n",
       " <shapely.geometry.point.Point at 0x1167c8fd0>,\n",
       " <shapely.geometry.point.Point at 0x1167cb048>,\n",
       " <shapely.geometry.point.Point at 0x1167cb080>,\n",
       " <shapely.geometry.point.Point at 0x1167cb0b8>,\n",
       " <shapely.geometry.point.Point at 0x1167cb0f0>,\n",
       " <shapely.geometry.point.Point at 0x1167cb128>,\n",
       " <shapely.geometry.point.Point at 0x1167cb160>,\n",
       " <shapely.geometry.point.Point at 0x1167cb198>,\n",
       " <shapely.geometry.point.Point at 0x1167cb1d0>,\n",
       " <shapely.geometry.point.Point at 0x1167cb208>,\n",
       " <shapely.geometry.point.Point at 0x1167cb240>,\n",
       " <shapely.geometry.point.Point at 0x1167cb278>,\n",
       " <shapely.geometry.point.Point at 0x1167cb2b0>,\n",
       " <shapely.geometry.point.Point at 0x1167cb2e8>,\n",
       " <shapely.geometry.point.Point at 0x1167cb320>,\n",
       " <shapely.geometry.point.Point at 0x1167cb358>,\n",
       " <shapely.geometry.point.Point at 0x1167cb390>,\n",
       " <shapely.geometry.point.Point at 0x1167cb3c8>,\n",
       " <shapely.geometry.point.Point at 0x1167cb400>,\n",
       " <shapely.geometry.point.Point at 0x1167cb438>,\n",
       " <shapely.geometry.point.Point at 0x1167cb470>,\n",
       " <shapely.geometry.point.Point at 0x1167cb4a8>,\n",
       " <shapely.geometry.point.Point at 0x1167cb4e0>,\n",
       " <shapely.geometry.point.Point at 0x1167cb518>,\n",
       " <shapely.geometry.point.Point at 0x1167cb550>,\n",
       " <shapely.geometry.point.Point at 0x1167cb588>,\n",
       " <shapely.geometry.point.Point at 0x1167cb5c0>,\n",
       " <shapely.geometry.point.Point at 0x1167cb5f8>,\n",
       " <shapely.geometry.point.Point at 0x1167cb630>,\n",
       " <shapely.geometry.point.Point at 0x1167cb668>,\n",
       " <shapely.geometry.point.Point at 0x1167cb6a0>,\n",
       " <shapely.geometry.point.Point at 0x1167cb6d8>,\n",
       " <shapely.geometry.point.Point at 0x1167cb710>,\n",
       " <shapely.geometry.point.Point at 0x1167cb748>,\n",
       " <shapely.geometry.point.Point at 0x1167cb780>,\n",
       " <shapely.geometry.point.Point at 0x1167cb7b8>,\n",
       " <shapely.geometry.point.Point at 0x1167cb7f0>,\n",
       " <shapely.geometry.point.Point at 0x1167cb828>,\n",
       " <shapely.geometry.point.Point at 0x1167cb860>,\n",
       " <shapely.geometry.point.Point at 0x1167cb898>,\n",
       " <shapely.geometry.point.Point at 0x1167cb8d0>,\n",
       " <shapely.geometry.point.Point at 0x1167cb908>,\n",
       " <shapely.geometry.point.Point at 0x1167cb940>,\n",
       " <shapely.geometry.point.Point at 0x1167cb978>,\n",
       " <shapely.geometry.point.Point at 0x1167cb9b0>,\n",
       " <shapely.geometry.point.Point at 0x1167cb9e8>,\n",
       " <shapely.geometry.point.Point at 0x1167cba20>,\n",
       " <shapely.geometry.point.Point at 0x1167cba58>,\n",
       " <shapely.geometry.point.Point at 0x1167cba90>,\n",
       " <shapely.geometry.point.Point at 0x1167cbac8>,\n",
       " <shapely.geometry.point.Point at 0x1167cbb00>,\n",
       " <shapely.geometry.point.Point at 0x1167cbb38>,\n",
       " <shapely.geometry.point.Point at 0x1167cbb70>,\n",
       " <shapely.geometry.point.Point at 0x1167cbba8>,\n",
       " <shapely.geometry.point.Point at 0x1167cbbe0>,\n",
       " <shapely.geometry.point.Point at 0x1167cbc18>,\n",
       " <shapely.geometry.point.Point at 0x1167cbc50>,\n",
       " <shapely.geometry.point.Point at 0x1167cbc88>,\n",
       " <shapely.geometry.point.Point at 0x1167cbcc0>,\n",
       " <shapely.geometry.point.Point at 0x1167cbcf8>,\n",
       " <shapely.geometry.point.Point at 0x1167cbd30>,\n",
       " <shapely.geometry.point.Point at 0x1167cbd68>,\n",
       " <shapely.geometry.point.Point at 0x1167cbda0>,\n",
       " <shapely.geometry.point.Point at 0x1167cbdd8>,\n",
       " <shapely.geometry.point.Point at 0x1167cbe10>,\n",
       " <shapely.geometry.point.Point at 0x1167cbe48>,\n",
       " <shapely.geometry.point.Point at 0x1167cbe80>,\n",
       " <shapely.geometry.point.Point at 0x1167cbeb8>,\n",
       " <shapely.geometry.point.Point at 0x1167cbef0>,\n",
       " <shapely.geometry.point.Point at 0x1167cbf28>,\n",
       " <shapely.geometry.point.Point at 0x1167cbf60>,\n",
       " <shapely.geometry.point.Point at 0x1167cbf98>,\n",
       " <shapely.geometry.point.Point at 0x1167cbfd0>,\n",
       " <shapely.geometry.point.Point at 0x1167cf048>,\n",
       " <shapely.geometry.point.Point at 0x1167cf080>,\n",
       " <shapely.geometry.point.Point at 0x1167cf0b8>,\n",
       " <shapely.geometry.point.Point at 0x1167cf0f0>,\n",
       " <shapely.geometry.point.Point at 0x1167cf128>,\n",
       " <shapely.geometry.point.Point at 0x1167cf160>,\n",
       " <shapely.geometry.point.Point at 0x1167cf198>,\n",
       " <shapely.geometry.point.Point at 0x1167cf1d0>,\n",
       " <shapely.geometry.point.Point at 0x1167cf208>,\n",
       " <shapely.geometry.point.Point at 0x1167cf240>,\n",
       " <shapely.geometry.point.Point at 0x1167cf278>,\n",
       " <shapely.geometry.point.Point at 0x1167cf2b0>,\n",
       " <shapely.geometry.point.Point at 0x1167cf2e8>,\n",
       " <shapely.geometry.point.Point at 0x1167cf320>,\n",
       " <shapely.geometry.point.Point at 0x1167cf358>,\n",
       " <shapely.geometry.point.Point at 0x1167cf390>,\n",
       " <shapely.geometry.point.Point at 0x1167cf3c8>,\n",
       " <shapely.geometry.point.Point at 0x1167cf400>,\n",
       " <shapely.geometry.point.Point at 0x1167cf438>,\n",
       " <shapely.geometry.point.Point at 0x1167cf470>,\n",
       " <shapely.geometry.point.Point at 0x1167cf4a8>,\n",
       " <shapely.geometry.point.Point at 0x1167cf4e0>,\n",
       " <shapely.geometry.point.Point at 0x1167cf518>,\n",
       " <shapely.geometry.point.Point at 0x1167cf550>,\n",
       " <shapely.geometry.point.Point at 0x1167cf588>,\n",
       " <shapely.geometry.point.Point at 0x1167cf5c0>,\n",
       " <shapely.geometry.point.Point at 0x1167cf5f8>,\n",
       " <shapely.geometry.point.Point at 0x1167cf630>,\n",
       " <shapely.geometry.point.Point at 0x1167cf668>,\n",
       " <shapely.geometry.point.Point at 0x1167cf6a0>,\n",
       " <shapely.geometry.point.Point at 0x1167cf6d8>,\n",
       " <shapely.geometry.point.Point at 0x1167cf710>,\n",
       " <shapely.geometry.point.Point at 0x1167cf748>,\n",
       " <shapely.geometry.point.Point at 0x1167cf780>,\n",
       " <shapely.geometry.point.Point at 0x1167cf7b8>,\n",
       " <shapely.geometry.point.Point at 0x1167cf7f0>,\n",
       " <shapely.geometry.point.Point at 0x1167cf828>,\n",
       " <shapely.geometry.point.Point at 0x1167cf860>,\n",
       " <shapely.geometry.point.Point at 0x1167cf898>,\n",
       " <shapely.geometry.point.Point at 0x1167cf8d0>,\n",
       " <shapely.geometry.point.Point at 0x1167cf908>,\n",
       " <shapely.geometry.point.Point at 0x1167cf940>,\n",
       " <shapely.geometry.point.Point at 0x1167cf978>,\n",
       " <shapely.geometry.point.Point at 0x1167cf9b0>,\n",
       " <shapely.geometry.point.Point at 0x1167cf9e8>,\n",
       " <shapely.geometry.point.Point at 0x1167cfa20>,\n",
       " <shapely.geometry.point.Point at 0x1167cfa58>,\n",
       " <shapely.geometry.point.Point at 0x1167cfa90>,\n",
       " <shapely.geometry.point.Point at 0x1167cfac8>,\n",
       " <shapely.geometry.point.Point at 0x1167cfb00>,\n",
       " <shapely.geometry.point.Point at 0x1167cfb38>,\n",
       " <shapely.geometry.point.Point at 0x1167cfb70>,\n",
       " <shapely.geometry.point.Point at 0x1167cfba8>,\n",
       " <shapely.geometry.point.Point at 0x1167cfbe0>,\n",
       " <shapely.geometry.point.Point at 0x1167cfc18>,\n",
       " <shapely.geometry.point.Point at 0x1167cfc50>,\n",
       " <shapely.geometry.point.Point at 0x1167cfc88>,\n",
       " <shapely.geometry.point.Point at 0x1167cfcc0>,\n",
       " <shapely.geometry.point.Point at 0x1167cfcf8>,\n",
       " <shapely.geometry.point.Point at 0x1167cfd30>,\n",
       " <shapely.geometry.point.Point at 0x1167cfd68>,\n",
       " <shapely.geometry.point.Point at 0x1167cfda0>,\n",
       " <shapely.geometry.point.Point at 0x1167cfdd8>,\n",
       " <shapely.geometry.point.Point at 0x1167cfe10>,\n",
       " <shapely.geometry.point.Point at 0x1167cfe48>,\n",
       " <shapely.geometry.point.Point at 0x1167cfe80>,\n",
       " <shapely.geometry.point.Point at 0x1167cfeb8>,\n",
       " <shapely.geometry.point.Point at 0x1167cfef0>,\n",
       " <shapely.geometry.point.Point at 0x1167cff28>,\n",
       " <shapely.geometry.point.Point at 0x1167cff60>,\n",
       " <shapely.geometry.point.Point at 0x1167cff98>,\n",
       " <shapely.geometry.point.Point at 0x1167cffd0>,\n",
       " <shapely.geometry.point.Point at 0x1167d2048>,\n",
       " <shapely.geometry.point.Point at 0x1167d2080>,\n",
       " <shapely.geometry.point.Point at 0x1167d20b8>,\n",
       " <shapely.geometry.point.Point at 0x1167d20f0>,\n",
       " <shapely.geometry.point.Point at 0x1167d2128>,\n",
       " <shapely.geometry.point.Point at 0x1167d2160>,\n",
       " <shapely.geometry.point.Point at 0x1167d2198>,\n",
       " <shapely.geometry.point.Point at 0x1167d21d0>,\n",
       " <shapely.geometry.point.Point at 0x1167d2208>,\n",
       " <shapely.geometry.point.Point at 0x1167d2240>,\n",
       " <shapely.geometry.point.Point at 0x1167d2278>,\n",
       " <shapely.geometry.point.Point at 0x1167d22b0>,\n",
       " <shapely.geometry.point.Point at 0x1167d22e8>,\n",
       " <shapely.geometry.point.Point at 0x1167d2320>,\n",
       " <shapely.geometry.point.Point at 0x1167d2358>,\n",
       " <shapely.geometry.point.Point at 0x1167d2390>,\n",
       " <shapely.geometry.point.Point at 0x1167d23c8>,\n",
       " <shapely.geometry.point.Point at 0x1167d2400>,\n",
       " <shapely.geometry.point.Point at 0x1167d2438>,\n",
       " <shapely.geometry.point.Point at 0x1167d2470>,\n",
       " <shapely.geometry.point.Point at 0x1167d24a8>,\n",
       " <shapely.geometry.point.Point at 0x1167d24e0>,\n",
       " <shapely.geometry.point.Point at 0x1167d2518>,\n",
       " <shapely.geometry.point.Point at 0x1167d2550>,\n",
       " <shapely.geometry.point.Point at 0x1167d2588>,\n",
       " <shapely.geometry.point.Point at 0x1167d25c0>,\n",
       " <shapely.geometry.point.Point at 0x1167d25f8>,\n",
       " <shapely.geometry.point.Point at 0x1167d2630>,\n",
       " <shapely.geometry.point.Point at 0x1167d2668>,\n",
       " <shapely.geometry.point.Point at 0x1167d26a0>,\n",
       " <shapely.geometry.point.Point at 0x1167d26d8>,\n",
       " <shapely.geometry.point.Point at 0x1167d2710>,\n",
       " <shapely.geometry.point.Point at 0x1167d2748>,\n",
       " <shapely.geometry.point.Point at 0x1167d2780>,\n",
       " <shapely.geometry.point.Point at 0x1167d27b8>,\n",
       " <shapely.geometry.point.Point at 0x1167d27f0>,\n",
       " <shapely.geometry.point.Point at 0x1167d2828>,\n",
       " <shapely.geometry.point.Point at 0x1167d2860>,\n",
       " <shapely.geometry.point.Point at 0x1167d2898>,\n",
       " <shapely.geometry.point.Point at 0x1167d28d0>,\n",
       " <shapely.geometry.point.Point at 0x1167d2908>,\n",
       " <shapely.geometry.point.Point at 0x1167d2940>,\n",
       " <shapely.geometry.point.Point at 0x1167d2978>,\n",
       " <shapely.geometry.point.Point at 0x1167d29b0>,\n",
       " <shapely.geometry.point.Point at 0x1167d29e8>,\n",
       " <shapely.geometry.point.Point at 0x1167d2a20>,\n",
       " <shapely.geometry.point.Point at 0x1167d2a58>,\n",
       " <shapely.geometry.point.Point at 0x1167d2a90>,\n",
       " <shapely.geometry.point.Point at 0x1167d2ac8>,\n",
       " <shapely.geometry.point.Point at 0x1167d2b00>,\n",
       " <shapely.geometry.point.Point at 0x1167d2b38>,\n",
       " <shapely.geometry.point.Point at 0x1167d2b70>,\n",
       " <shapely.geometry.point.Point at 0x1167d2ba8>,\n",
       " <shapely.geometry.point.Point at 0x1167d2be0>,\n",
       " <shapely.geometry.point.Point at 0x1167d2c18>,\n",
       " <shapely.geometry.point.Point at 0x1167d2c50>,\n",
       " <shapely.geometry.point.Point at 0x1167d2c88>,\n",
       " <shapely.geometry.point.Point at 0x1167d2cc0>,\n",
       " <shapely.geometry.point.Point at 0x1167d2cf8>,\n",
       " <shapely.geometry.point.Point at 0x1167d2d30>,\n",
       " <shapely.geometry.point.Point at 0x1167d2d68>,\n",
       " <shapely.geometry.point.Point at 0x1167d2da0>,\n",
       " <shapely.geometry.point.Point at 0x1167d2dd8>,\n",
       " <shapely.geometry.point.Point at 0x1167d2e10>,\n",
       " <shapely.geometry.point.Point at 0x1167d2e48>,\n",
       " <shapely.geometry.point.Point at 0x1167d2e80>,\n",
       " <shapely.geometry.point.Point at 0x1167d2eb8>,\n",
       " <shapely.geometry.point.Point at 0x1167d2ef0>,\n",
       " <shapely.geometry.point.Point at 0x1167d2f28>,\n",
       " <shapely.geometry.point.Point at 0x1167d2f60>,\n",
       " <shapely.geometry.point.Point at 0x1167d2f98>,\n",
       " <shapely.geometry.point.Point at 0x1167d2fd0>,\n",
       " <shapely.geometry.point.Point at 0x1167d6048>,\n",
       " <shapely.geometry.point.Point at 0x1167d6080>,\n",
       " <shapely.geometry.point.Point at 0x1167d60b8>,\n",
       " <shapely.geometry.point.Point at 0x1167d60f0>,\n",
       " <shapely.geometry.point.Point at 0x1167d6128>,\n",
       " <shapely.geometry.point.Point at 0x1167d6160>,\n",
       " <shapely.geometry.point.Point at 0x1167d6198>,\n",
       " <shapely.geometry.point.Point at 0x1167d61d0>,\n",
       " <shapely.geometry.point.Point at 0x1167d6208>,\n",
       " <shapely.geometry.point.Point at 0x1167d6240>,\n",
       " <shapely.geometry.point.Point at 0x1167d6278>,\n",
       " <shapely.geometry.point.Point at 0x1167d62b0>,\n",
       " <shapely.geometry.point.Point at 0x1167d62e8>,\n",
       " <shapely.geometry.point.Point at 0x1167d6320>,\n",
       " <shapely.geometry.point.Point at 0x1167d6358>,\n",
       " <shapely.geometry.point.Point at 0x1167d6390>,\n",
       " <shapely.geometry.point.Point at 0x1167d63c8>,\n",
       " <shapely.geometry.point.Point at 0x1167d6400>,\n",
       " <shapely.geometry.point.Point at 0x1167d6438>,\n",
       " <shapely.geometry.point.Point at 0x1167d6470>,\n",
       " <shapely.geometry.point.Point at 0x1167d64a8>,\n",
       " <shapely.geometry.point.Point at 0x1167d64e0>,\n",
       " <shapely.geometry.point.Point at 0x1167d6518>,\n",
       " <shapely.geometry.point.Point at 0x1167d6550>,\n",
       " <shapely.geometry.point.Point at 0x1167d6588>,\n",
       " <shapely.geometry.point.Point at 0x1167d65c0>,\n",
       " <shapely.geometry.point.Point at 0x1167d65f8>,\n",
       " <shapely.geometry.point.Point at 0x1167d6630>,\n",
       " <shapely.geometry.point.Point at 0x1167d6668>,\n",
       " <shapely.geometry.point.Point at 0x1167d66a0>,\n",
       " <shapely.geometry.point.Point at 0x1167d66d8>,\n",
       " <shapely.geometry.point.Point at 0x1167d6710>,\n",
       " <shapely.geometry.point.Point at 0x1167d6748>,\n",
       " <shapely.geometry.point.Point at 0x1167d6780>,\n",
       " <shapely.geometry.point.Point at 0x1167d67b8>,\n",
       " <shapely.geometry.point.Point at 0x1167d67f0>,\n",
       " <shapely.geometry.point.Point at 0x1167d6828>,\n",
       " <shapely.geometry.point.Point at 0x1167d6860>,\n",
       " <shapely.geometry.point.Point at 0x1167d6898>,\n",
       " <shapely.geometry.point.Point at 0x1167d68d0>,\n",
       " <shapely.geometry.point.Point at 0x1167d6908>,\n",
       " <shapely.geometry.point.Point at 0x1167d6940>,\n",
       " <shapely.geometry.point.Point at 0x1167d6978>,\n",
       " <shapely.geometry.point.Point at 0x1167d69b0>,\n",
       " <shapely.geometry.point.Point at 0x1167d69e8>,\n",
       " <shapely.geometry.point.Point at 0x1167d6a20>,\n",
       " <shapely.geometry.point.Point at 0x1167d6a58>,\n",
       " <shapely.geometry.point.Point at 0x1167d6a90>,\n",
       " <shapely.geometry.point.Point at 0x1167d6ac8>,\n",
       " <shapely.geometry.point.Point at 0x1167d6b00>,\n",
       " <shapely.geometry.point.Point at 0x1167d6b38>,\n",
       " <shapely.geometry.point.Point at 0x1167d6b70>,\n",
       " <shapely.geometry.point.Point at 0x1167d6ba8>,\n",
       " <shapely.geometry.point.Point at 0x1167d6be0>,\n",
       " <shapely.geometry.point.Point at 0x1167d6c18>,\n",
       " <shapely.geometry.point.Point at 0x1167d6c50>,\n",
       " <shapely.geometry.point.Point at 0x1167d6c88>,\n",
       " <shapely.geometry.point.Point at 0x1167d6cc0>,\n",
       " <shapely.geometry.point.Point at 0x1167d6cf8>,\n",
       " <shapely.geometry.point.Point at 0x1167d6d30>,\n",
       " <shapely.geometry.point.Point at 0x1167d6d68>,\n",
       " <shapely.geometry.point.Point at 0x1167d6da0>,\n",
       " <shapely.geometry.point.Point at 0x1167d6dd8>,\n",
       " <shapely.geometry.point.Point at 0x1167d6e10>,\n",
       " <shapely.geometry.point.Point at 0x1167d6e48>,\n",
       " <shapely.geometry.point.Point at 0x1167d6e80>,\n",
       " <shapely.geometry.point.Point at 0x1167d6eb8>,\n",
       " <shapely.geometry.point.Point at 0x1167d6ef0>,\n",
       " <shapely.geometry.point.Point at 0x1167d6f28>,\n",
       " <shapely.geometry.point.Point at 0x1167d6f60>,\n",
       " <shapely.geometry.point.Point at 0x1167d6f98>,\n",
       " <shapely.geometry.point.Point at 0x1167d6fd0>,\n",
       " <shapely.geometry.point.Point at 0x10ef42048>,\n",
       " <shapely.geometry.point.Point at 0x10ef42080>,\n",
       " <shapely.geometry.point.Point at 0x10ef420b8>,\n",
       " <shapely.geometry.point.Point at 0x10ef420f0>,\n",
       " <shapely.geometry.point.Point at 0x10ef42128>,\n",
       " <shapely.geometry.point.Point at 0x10ef42160>,\n",
       " <shapely.geometry.point.Point at 0x10ef42198>,\n",
       " <shapely.geometry.point.Point at 0x10ef421d0>,\n",
       " <shapely.geometry.point.Point at 0x10ef42208>,\n",
       " <shapely.geometry.point.Point at 0x10ef42240>,\n",
       " <shapely.geometry.point.Point at 0x10ef42278>,\n",
       " <shapely.geometry.point.Point at 0x10ef422b0>,\n",
       " <shapely.geometry.point.Point at 0x10ef422e8>,\n",
       " <shapely.geometry.point.Point at 0x10ef42320>,\n",
       " <shapely.geometry.point.Point at 0x10ef42358>,\n",
       " <shapely.geometry.point.Point at 0x10ef42390>,\n",
       " <shapely.geometry.point.Point at 0x10ef423c8>,\n",
       " <shapely.geometry.point.Point at 0x10ef42400>,\n",
       " <shapely.geometry.point.Point at 0x10ef42438>,\n",
       " <shapely.geometry.point.Point at 0x10ef42470>,\n",
       " <shapely.geometry.point.Point at 0x10ef424a8>,\n",
       " <shapely.geometry.point.Point at 0x10ef424e0>,\n",
       " <shapely.geometry.point.Point at 0x10ef42518>,\n",
       " <shapely.geometry.point.Point at 0x10ef42550>,\n",
       " <shapely.geometry.point.Point at 0x10ef42588>,\n",
       " <shapely.geometry.point.Point at 0x10ef425c0>,\n",
       " <shapely.geometry.point.Point at 0x10ef425f8>,\n",
       " <shapely.geometry.point.Point at 0x10ef42630>,\n",
       " <shapely.geometry.point.Point at 0x10ef42668>,\n",
       " <shapely.geometry.point.Point at 0x10ef426a0>,\n",
       " <shapely.geometry.point.Point at 0x10ef426d8>,\n",
       " <shapely.geometry.point.Point at 0x10ef42710>,\n",
       " <shapely.geometry.point.Point at 0x10ef42748>,\n",
       " <shapely.geometry.point.Point at 0x10ef42780>,\n",
       " <shapely.geometry.point.Point at 0x10ef427b8>,\n",
       " <shapely.geometry.point.Point at 0x10ef427f0>,\n",
       " <shapely.geometry.point.Point at 0x10ef42828>,\n",
       " <shapely.geometry.point.Point at 0x10ef42860>,\n",
       " <shapely.geometry.point.Point at 0x10ef42898>,\n",
       " <shapely.geometry.point.Point at 0x10ef428d0>,\n",
       " <shapely.geometry.point.Point at 0x10ef42908>,\n",
       " <shapely.geometry.point.Point at 0x10ef42940>,\n",
       " <shapely.geometry.point.Point at 0x10ef42978>,\n",
       " <shapely.geometry.point.Point at 0x10ef429b0>,\n",
       " <shapely.geometry.point.Point at 0x10ef429e8>,\n",
       " <shapely.geometry.point.Point at 0x10ef42a20>,\n",
       " <shapely.geometry.point.Point at 0x10ef42a58>,\n",
       " <shapely.geometry.point.Point at 0x10ef42a90>,\n",
       " <shapely.geometry.point.Point at 0x10ef42ac8>,\n",
       " <shapely.geometry.point.Point at 0x10ef42b00>,\n",
       " <shapely.geometry.point.Point at 0x10ef42b38>,\n",
       " <shapely.geometry.point.Point at 0x10ef42b70>,\n",
       " <shapely.geometry.point.Point at 0x10ef42ba8>,\n",
       " <shapely.geometry.point.Point at 0x10ef42be0>,\n",
       " <shapely.geometry.point.Point at 0x10ef42c18>,\n",
       " <shapely.geometry.point.Point at 0x10ef42c50>,\n",
       " <shapely.geometry.point.Point at 0x10ef42c88>,\n",
       " <shapely.geometry.point.Point at 0x10ef42cc0>,\n",
       " <shapely.geometry.point.Point at 0x10ef42cf8>,\n",
       " <shapely.geometry.point.Point at 0x10ef42d30>,\n",
       " <shapely.geometry.point.Point at 0x10ef42d68>,\n",
       " <shapely.geometry.point.Point at 0x10ef42da0>,\n",
       " <shapely.geometry.point.Point at 0x10ef42dd8>,\n",
       " <shapely.geometry.point.Point at 0x10ef42e10>,\n",
       " <shapely.geometry.point.Point at 0x10ef42e48>,\n",
       " <shapely.geometry.point.Point at 0x10ef42e80>,\n",
       " <shapely.geometry.point.Point at 0x10ef42eb8>,\n",
       " <shapely.geometry.point.Point at 0x10ef42ef0>,\n",
       " <shapely.geometry.point.Point at 0x10ef42f28>,\n",
       " <shapely.geometry.point.Point at 0x10ef42f60>,\n",
       " <shapely.geometry.point.Point at 0x10ef42f98>,\n",
       " <shapely.geometry.point.Point at 0x10ef42fd0>,\n",
       " <shapely.geometry.point.Point at 0x10ef46048>,\n",
       " <shapely.geometry.point.Point at 0x10ef46080>,\n",
       " <shapely.geometry.point.Point at 0x10ef460b8>,\n",
       " <shapely.geometry.point.Point at 0x10ef460f0>,\n",
       " <shapely.geometry.point.Point at 0x10ef46128>,\n",
       " <shapely.geometry.point.Point at 0x10ef46160>,\n",
       " <shapely.geometry.point.Point at 0x10ef46198>,\n",
       " <shapely.geometry.point.Point at 0x10ef461d0>,\n",
       " <shapely.geometry.point.Point at 0x10ef46208>,\n",
       " <shapely.geometry.point.Point at 0x10ef46240>,\n",
       " <shapely.geometry.point.Point at 0x10ef46278>,\n",
       " <shapely.geometry.point.Point at 0x10ef462b0>,\n",
       " <shapely.geometry.point.Point at 0x10ef462e8>,\n",
       " <shapely.geometry.point.Point at 0x10ef46320>,\n",
       " <shapely.geometry.point.Point at 0x10ef46358>,\n",
       " <shapely.geometry.point.Point at 0x10ef46390>,\n",
       " <shapely.geometry.point.Point at 0x10ef463c8>,\n",
       " <shapely.geometry.point.Point at 0x10ef46400>,\n",
       " <shapely.geometry.point.Point at 0x10ef46438>,\n",
       " <shapely.geometry.point.Point at 0x10ef46470>,\n",
       " <shapely.geometry.point.Point at 0x10ef464a8>,\n",
       " <shapely.geometry.point.Point at 0x10ef464e0>,\n",
       " <shapely.geometry.point.Point at 0x10ef46518>,\n",
       " <shapely.geometry.point.Point at 0x10ef46550>,\n",
       " <shapely.geometry.point.Point at 0x10ef46588>,\n",
       " <shapely.geometry.point.Point at 0x10ef465c0>,\n",
       " <shapely.geometry.point.Point at 0x10ef465f8>,\n",
       " <shapely.geometry.point.Point at 0x10ef46630>,\n",
       " <shapely.geometry.point.Point at 0x10ef46668>,\n",
       " <shapely.geometry.point.Point at 0x10ef466a0>,\n",
       " <shapely.geometry.point.Point at 0x10ef466d8>,\n",
       " <shapely.geometry.point.Point at 0x10ef46710>,\n",
       " <shapely.geometry.point.Point at 0x10ef46748>,\n",
       " <shapely.geometry.point.Point at 0x10ef46780>,\n",
       " <shapely.geometry.point.Point at 0x10ef467b8>,\n",
       " <shapely.geometry.point.Point at 0x10ef467f0>,\n",
       " <shapely.geometry.point.Point at 0x10ef46828>,\n",
       " <shapely.geometry.point.Point at 0x10ef46860>,\n",
       " <shapely.geometry.point.Point at 0x10ef46898>,\n",
       " <shapely.geometry.point.Point at 0x10ef468d0>,\n",
       " <shapely.geometry.point.Point at 0x10ef46908>,\n",
       " <shapely.geometry.point.Point at 0x10ef46940>,\n",
       " <shapely.geometry.point.Point at 0x10ef46978>,\n",
       " <shapely.geometry.point.Point at 0x10ef469b0>,\n",
       " <shapely.geometry.point.Point at 0x10ef469e8>,\n",
       " <shapely.geometry.point.Point at 0x10ef46a20>,\n",
       " <shapely.geometry.point.Point at 0x10ef46a58>,\n",
       " <shapely.geometry.point.Point at 0x10ef46a90>,\n",
       " <shapely.geometry.point.Point at 0x10ef46ac8>,\n",
       " <shapely.geometry.point.Point at 0x10ef46b00>,\n",
       " <shapely.geometry.point.Point at 0x10ef46b38>,\n",
       " <shapely.geometry.point.Point at 0x10ef46b70>,\n",
       " <shapely.geometry.point.Point at 0x10ef46ba8>,\n",
       " <shapely.geometry.point.Point at 0x10ef46be0>,\n",
       " <shapely.geometry.point.Point at 0x10ef46c18>,\n",
       " <shapely.geometry.point.Point at 0x10ef46c50>,\n",
       " <shapely.geometry.point.Point at 0x10ef46c88>,\n",
       " <shapely.geometry.point.Point at 0x10ef46cc0>,\n",
       " <shapely.geometry.point.Point at 0x10ef46cf8>,\n",
       " <shapely.geometry.point.Point at 0x10ef46d30>,\n",
       " <shapely.geometry.point.Point at 0x10ef46d68>,\n",
       " <shapely.geometry.point.Point at 0x10ef46da0>,\n",
       " <shapely.geometry.point.Point at 0x10ef46dd8>,\n",
       " <shapely.geometry.point.Point at 0x10ef46e10>,\n",
       " <shapely.geometry.point.Point at 0x10ef46e48>,\n",
       " <shapely.geometry.point.Point at 0x10ef46e80>,\n",
       " <shapely.geometry.point.Point at 0x10ef46eb8>,\n",
       " <shapely.geometry.point.Point at 0x10ef46ef0>,\n",
       " <shapely.geometry.point.Point at 0x10ef46f28>,\n",
       " <shapely.geometry.point.Point at 0x10ef46f60>,\n",
       " <shapely.geometry.point.Point at 0x10ef46f98>,\n",
       " <shapely.geometry.point.Point at 0x10ef46fd0>,\n",
       " <shapely.geometry.point.Point at 0x10ef4a048>,\n",
       " <shapely.geometry.point.Point at 0x10ef4a080>,\n",
       " <shapely.geometry.point.Point at 0x10ef4a0b8>,\n",
       " <shapely.geometry.point.Point at 0x10ef4a0f0>,\n",
       " <shapely.geometry.point.Point at 0x10ef4a128>,\n",
       " <shapely.geometry.point.Point at 0x10ef4a160>,\n",
       " <shapely.geometry.point.Point at 0x10ef4a198>,\n",
       " <shapely.geometry.point.Point at 0x10ef4a1d0>,\n",
       " <shapely.geometry.point.Point at 0x10ef4a208>,\n",
       " ...]"
      ]
     },
     "execution_count": 31,
     "metadata": {},
     "output_type": "execute_result"
    }
   ],
   "source": [
    "locList"
   ]
  },
  {
   "cell_type": "code",
   "execution_count": 32,
   "metadata": {},
   "outputs": [],
   "source": [
    "result['locPoint'] = pd.Series(locList)"
   ]
  },
  {
   "cell_type": "code",
   "execution_count": 33,
   "metadata": {},
   "outputs": [
    {
     "data": {
      "text/html": [
       "<div>\n",
       "<style>\n",
       "    .dataframe thead tr:only-child th {\n",
       "        text-align: right;\n",
       "    }\n",
       "\n",
       "    .dataframe thead th {\n",
       "        text-align: left;\n",
       "    }\n",
       "\n",
       "    .dataframe tbody tr th {\n",
       "        vertical-align: top;\n",
       "    }\n",
       "</style>\n",
       "<table border=\"1\" class=\"dataframe\">\n",
       "  <thead>\n",
       "    <tr style=\"text-align: right;\">\n",
       "      <th></th>\n",
       "      <th>start station latitude</th>\n",
       "      <th>start station longitude</th>\n",
       "      <th>birth year</th>\n",
       "      <th>locPoint</th>\n",
       "    </tr>\n",
       "  </thead>\n",
       "  <tbody>\n",
       "    <tr>\n",
       "      <th>0</th>\n",
       "      <td>40.719105</td>\n",
       "      <td>-73.999733</td>\n",
       "      <td>1958.0</td>\n",
       "      <td>POINT (40.71910537 -73.99973337)</td>\n",
       "    </tr>\n",
       "    <tr>\n",
       "      <th>1</th>\n",
       "      <td>40.743943</td>\n",
       "      <td>-73.979661</td>\n",
       "      <td>1969.0</td>\n",
       "      <td>POINT (40.74394314 -73.97966069)</td>\n",
       "    </tr>\n",
       "    <tr>\n",
       "      <th>2</th>\n",
       "      <td>40.750664</td>\n",
       "      <td>-74.001768</td>\n",
       "      <td>1982.0</td>\n",
       "      <td>POINT (40.75066386 -74.00176802)</td>\n",
       "    </tr>\n",
       "    <tr>\n",
       "      <th>3</th>\n",
       "      <td>40.719105</td>\n",
       "      <td>-73.999733</td>\n",
       "      <td>1961.0</td>\n",
       "      <td>POINT (40.71910537 -73.99973337)</td>\n",
       "    </tr>\n",
       "    <tr>\n",
       "      <th>4</th>\n",
       "      <td>40.765909</td>\n",
       "      <td>-73.976342</td>\n",
       "      <td>1952.0</td>\n",
       "      <td>POINT (40.76590936 -73.97634151)</td>\n",
       "    </tr>\n",
       "  </tbody>\n",
       "</table>\n",
       "</div>"
      ],
      "text/plain": [
       "   start station latitude  start station longitude  birth year  \\\n",
       "0               40.719105               -73.999733      1958.0   \n",
       "1               40.743943               -73.979661      1969.0   \n",
       "2               40.750664               -74.001768      1982.0   \n",
       "3               40.719105               -73.999733      1961.0   \n",
       "4               40.765909               -73.976342      1952.0   \n",
       "\n",
       "                           locPoint  \n",
       "0  POINT (40.71910537 -73.99973337)  \n",
       "1  POINT (40.74394314 -73.97966069)  \n",
       "2  POINT (40.75066386 -74.00176802)  \n",
       "3  POINT (40.71910537 -73.99973337)  \n",
       "4  POINT (40.76590936 -73.97634151)  "
      ]
     },
     "execution_count": 33,
     "metadata": {},
     "output_type": "execute_result"
    }
   ],
   "source": [
    "result.head()"
   ]
  },
  {
   "cell_type": "code",
   "execution_count": 34,
   "metadata": {},
   "outputs": [],
   "source": [
    "result.drop(['start station latitude', 'start station longitude'], axis=1, inplace=True)"
   ]
  },
  {
   "cell_type": "code",
   "execution_count": 41,
   "metadata": {},
   "outputs": [
    {
     "data": {
      "text/html": [
       "<div>\n",
       "<style>\n",
       "    .dataframe thead tr:only-child th {\n",
       "        text-align: right;\n",
       "    }\n",
       "\n",
       "    .dataframe thead th {\n",
       "        text-align: left;\n",
       "    }\n",
       "\n",
       "    .dataframe tbody tr th {\n",
       "        vertical-align: top;\n",
       "    }\n",
       "</style>\n",
       "<table border=\"1\" class=\"dataframe\">\n",
       "  <thead>\n",
       "    <tr style=\"text-align: right;\">\n",
       "      <th></th>\n",
       "      <th>birth year</th>\n",
       "      <th>locPoint</th>\n",
       "    </tr>\n",
       "  </thead>\n",
       "  <tbody>\n",
       "    <tr>\n",
       "      <th>0</th>\n",
       "      <td>1958.0</td>\n",
       "      <td>POINT (40.71910537 -73.99973337)</td>\n",
       "    </tr>\n",
       "    <tr>\n",
       "      <th>1</th>\n",
       "      <td>1969.0</td>\n",
       "      <td>POINT (40.74394314 -73.97966069)</td>\n",
       "    </tr>\n",
       "    <tr>\n",
       "      <th>2</th>\n",
       "      <td>1982.0</td>\n",
       "      <td>POINT (40.75066386 -74.00176802)</td>\n",
       "    </tr>\n",
       "    <tr>\n",
       "      <th>3</th>\n",
       "      <td>1961.0</td>\n",
       "      <td>POINT (40.71910537 -73.99973337)</td>\n",
       "    </tr>\n",
       "    <tr>\n",
       "      <th>4</th>\n",
       "      <td>1952.0</td>\n",
       "      <td>POINT (40.76590936 -73.97634151)</td>\n",
       "    </tr>\n",
       "  </tbody>\n",
       "</table>\n",
       "</div>"
      ],
      "text/plain": [
       "   birth year                          locPoint\n",
       "0      1958.0  POINT (40.71910537 -73.99973337)\n",
       "1      1969.0  POINT (40.74394314 -73.97966069)\n",
       "2      1982.0  POINT (40.75066386 -74.00176802)\n",
       "3      1961.0  POINT (40.71910537 -73.99973337)\n",
       "4      1952.0  POINT (40.76590936 -73.97634151)"
      ]
     },
     "execution_count": 41,
     "metadata": {},
     "output_type": "execute_result"
    }
   ],
   "source": [
    "result.head()"
   ]
  },
  {
   "cell_type": "raw",
   "metadata": {
    "collapsed": true
   },
   "source": [
    "polygons = [polygon for polygon in nyb['the_geom']]"
   ]
  },
  {
   "cell_type": "raw",
   "metadata": {},
   "source": [
    "for polygon in nyb['the_geom']:\n",
    "    print(type(polygon))"
   ]
  },
  {
   "cell_type": "raw",
   "metadata": {
    "collapsed": true
   },
   "source": [
    "import json\n",
    "try:\n",
    "    import urllib2 as urllib\n",
    "except ImportError:\n",
    "    import urllib.request as urllib"
   ]
  },
  {
   "cell_type": "raw",
   "metadata": {},
   "source": [
    "response = urllib.urlopen('https://data.cityofnewyork.us/api/views/7t3b-ywvw/rows.json?accessType=DOWNLOAD')\n",
    "data = response.read()\n",
    "data = json.loads(data)"
   ]
  },
  {
   "cell_type": "raw",
   "metadata": {},
   "source": [
    "for feature in data['features']:\n",
    "    print(feature['geometry']['type'])\n",
    "    print(feature['geometry']['coordinates'])"
   ]
  },
  {
   "cell_type": "code",
   "execution_count": 35,
   "metadata": {},
   "outputs": [
    {
     "name": "stdout",
     "output_type": "stream",
     "text": [
      "<class 'geopandas.geodataframe.GeoDataFrame'>\n"
     ]
    },
    {
     "data": {
      "text/html": [
       "<div>\n",
       "<style>\n",
       "    .dataframe thead tr:only-child th {\n",
       "        text-align: right;\n",
       "    }\n",
       "\n",
       "    .dataframe thead th {\n",
       "        text-align: left;\n",
       "    }\n",
       "\n",
       "    .dataframe tbody tr th {\n",
       "        vertical-align: top;\n",
       "    }\n",
       "</style>\n",
       "<table border=\"1\" class=\"dataframe\">\n",
       "  <thead>\n",
       "    <tr style=\"text-align: right;\">\n",
       "      <th></th>\n",
       "      <th>boro_name</th>\n",
       "      <th>boro_code</th>\n",
       "      <th>shape_leng</th>\n",
       "      <th>shape_area</th>\n",
       "      <th>geometry</th>\n",
       "    </tr>\n",
       "  </thead>\n",
       "  <tbody>\n",
       "    <tr>\n",
       "      <th>0</th>\n",
       "      <td>Staten Island</td>\n",
       "      <td>5</td>\n",
       "      <td>330437.103648</td>\n",
       "      <td>1623914222.74</td>\n",
       "      <td>(POLYGON ((-74.05050806403247 40.5664220341608...</td>\n",
       "    </tr>\n",
       "    <tr>\n",
       "      <th>1</th>\n",
       "      <td>Bronx</td>\n",
       "      <td>2</td>\n",
       "      <td>464365.63867</td>\n",
       "      <td>1186678192.09</td>\n",
       "      <td>(POLYGON ((-73.89680883223774 40.7958084451597...</td>\n",
       "    </tr>\n",
       "    <tr>\n",
       "      <th>2</th>\n",
       "      <td>Queens</td>\n",
       "      <td>4</td>\n",
       "      <td>895720.956401</td>\n",
       "      <td>3044779902.31</td>\n",
       "      <td>(POLYGON ((-73.83668274106707 40.5949466970158...</td>\n",
       "    </tr>\n",
       "    <tr>\n",
       "      <th>3</th>\n",
       "      <td>Brooklyn</td>\n",
       "      <td>3</td>\n",
       "      <td>741077.854437</td>\n",
       "      <td>1937477754.43</td>\n",
       "      <td>(POLYGON ((-73.86706149472118 40.5820879767934...</td>\n",
       "    </tr>\n",
       "    <tr>\n",
       "      <th>4</th>\n",
       "      <td>Manhattan</td>\n",
       "      <td>1</td>\n",
       "      <td>361050.577478</td>\n",
       "      <td>636479884.362</td>\n",
       "      <td>(POLYGON ((-74.01092841268031 40.6844914725429...</td>\n",
       "    </tr>\n",
       "  </tbody>\n",
       "</table>\n",
       "</div>"
      ],
      "text/plain": [
       "       boro_name boro_code     shape_leng     shape_area  \\\n",
       "0  Staten Island         5  330437.103648  1623914222.74   \n",
       "1          Bronx         2   464365.63867  1186678192.09   \n",
       "2         Queens         4  895720.956401  3044779902.31   \n",
       "3       Brooklyn         3  741077.854437  1937477754.43   \n",
       "4      Manhattan         1  361050.577478  636479884.362   \n",
       "\n",
       "                                            geometry  \n",
       "0  (POLYGON ((-74.05050806403247 40.5664220341608...  \n",
       "1  (POLYGON ((-73.89680883223774 40.7958084451597...  \n",
       "2  (POLYGON ((-73.83668274106707 40.5949466970158...  \n",
       "3  (POLYGON ((-73.86706149472118 40.5820879767934...  \n",
       "4  (POLYGON ((-74.01092841268031 40.6844914725429...  "
      ]
     },
     "execution_count": 35,
     "metadata": {},
     "output_type": "execute_result"
    }
   ],
   "source": [
    "\n",
    "fname = \"Borough Boundaries.geojson\"\n",
    "\n",
    "df = gpd.read_file(fname)\n",
    "\n",
    "print(type(df))\n",
    "\n",
    "df"
   ]
  },
  {
   "cell_type": "code",
   "execution_count": null,
   "metadata": {},
   "outputs": [],
   "source": []
  },
  {
   "cell_type": "code",
   "execution_count": 36,
   "metadata": {},
   "outputs": [
    {
     "data": {
      "text/plain": [
       "shapely.geometry.multipolygon.MultiPolygon"
      ]
     },
     "execution_count": 36,
     "metadata": {},
     "output_type": "execute_result"
    }
   ],
   "source": [
    "type(df['geometry'][3])"
   ]
  },
  {
   "cell_type": "code",
   "execution_count": 37,
   "metadata": {},
   "outputs": [
    {
     "data": {
      "text/plain": [
       "shapely.geometry.point.Point"
      ]
     },
     "execution_count": 37,
     "metadata": {},
     "output_type": "execute_result"
    }
   ],
   "source": [
    "type(result['locPoint'][0])"
   ]
  },
  {
   "cell_type": "raw",
   "metadata": {},
   "source": [
    "for point in result['locPoint']:\n",
    "    print(df['geometry'][3].contains(point))"
   ]
  },
  {
   "cell_type": "code",
   "execution_count": 38,
   "metadata": {},
   "outputs": [],
   "source": [
    "dfBroo = pd.DataFrame(columns=['birth year', 'locPoint'])\n",
    "#dfManh = pd.DataFrame(columns=['tripduration', 'starttime',\n",
    "#                'start station latitude', 'start station longitude',\n",
    "#                'birth year'])\n",
    "for point in result['locPoint']:\n",
    "    if df['geometry'][3].contains(point):\n",
    "        dfBroo = dfBroo.append(result[result['locPoint']==point])\n",
    "#for Hour in nightHour:\n",
    "#    dfNight = dfNight.append(result[result['starttime'].dt.hour==Hour])"
   ]
  },
  {
   "cell_type": "code",
   "execution_count": 39,
   "metadata": {},
   "outputs": [
    {
     "data": {
      "text/html": [
       "<div>\n",
       "<style>\n",
       "    .dataframe thead tr:only-child th {\n",
       "        text-align: right;\n",
       "    }\n",
       "\n",
       "    .dataframe thead th {\n",
       "        text-align: left;\n",
       "    }\n",
       "\n",
       "    .dataframe tbody tr th {\n",
       "        vertical-align: top;\n",
       "    }\n",
       "</style>\n",
       "<table border=\"1\" class=\"dataframe\">\n",
       "  <thead>\n",
       "    <tr style=\"text-align: right;\">\n",
       "      <th></th>\n",
       "      <th>birth year</th>\n",
       "      <th>locPoint</th>\n",
       "    </tr>\n",
       "  </thead>\n",
       "  <tbody>\n",
       "  </tbody>\n",
       "</table>\n",
       "</div>"
      ],
      "text/plain": [
       "Empty DataFrame\n",
       "Columns: [birth year, locPoint]\n",
       "Index: []"
      ]
     },
     "execution_count": 39,
     "metadata": {},
     "output_type": "execute_result"
    }
   ],
   "source": [
    "dfBroo"
   ]
  },
  {
   "cell_type": "code",
   "execution_count": null,
   "metadata": {},
   "outputs": [],
   "source": []
  },
  {
   "cell_type": "code",
   "execution_count": null,
   "metadata": {},
   "outputs": [],
   "source": []
  },
  {
   "cell_type": "code",
   "execution_count": null,
   "metadata": {},
   "outputs": [],
   "source": []
  },
  {
   "cell_type": "code",
   "execution_count": null,
   "metadata": {},
   "outputs": [],
   "source": []
  },
  {
   "cell_type": "code",
   "execution_count": null,
   "metadata": {},
   "outputs": [],
   "source": []
  },
  {
   "cell_type": "code",
   "execution_count": null,
   "metadata": {},
   "outputs": [],
   "source": []
  },
  {
   "cell_type": "code",
   "execution_count": null,
   "metadata": {},
   "outputs": [],
   "source": []
  },
  {
   "cell_type": "markdown",
   "metadata": {},
   "source": [
    "## 2.2 KS tests to compare 2 samples"
   ]
  },
  {
   "cell_type": "code",
   "execution_count": null,
   "metadata": {},
   "outputs": [],
   "source": []
  },
  {
   "cell_type": "code",
   "execution_count": null,
   "metadata": {},
   "outputs": [],
   "source": []
  },
  {
   "cell_type": "code",
   "execution_count": null,
   "metadata": {},
   "outputs": [],
   "source": []
  },
  {
   "cell_type": "markdown",
   "metadata": {},
   "source": [
    "## 2.3 Pearson's  test for correlation"
   ]
  },
  {
   "cell_type": "code",
   "execution_count": null,
   "metadata": {},
   "outputs": [],
   "source": []
  },
  {
   "cell_type": "code",
   "execution_count": null,
   "metadata": {},
   "outputs": [],
   "source": []
  },
  {
   "cell_type": "code",
   "execution_count": null,
   "metadata": {},
   "outputs": [],
   "source": []
  },
  {
   "cell_type": "markdown",
   "metadata": {},
   "source": [
    "## 2.4 Spearman's  test for correlation"
   ]
  },
  {
   "cell_type": "code",
   "execution_count": null,
   "metadata": {},
   "outputs": [],
   "source": []
  },
  {
   "cell_type": "code",
   "execution_count": null,
   "metadata": {},
   "outputs": [],
   "source": []
  },
  {
   "cell_type": "code",
   "execution_count": null,
   "metadata": {},
   "outputs": [],
   "source": []
  },
  {
   "cell_type": "code",
   "execution_count": null,
   "metadata": {},
   "outputs": [],
   "source": []
  },
  {
   "cell_type": "code",
   "execution_count": null,
   "metadata": {},
   "outputs": [],
   "source": []
  }
 ],
 "metadata": {
  "anaconda-cloud": {},
  "kernelspec": {
   "display_name": "Python 3",
   "language": "python",
   "name": "python3"
  },
  "language_info": {
   "codemirror_mode": {
    "name": "ipython",
    "version": 3
   },
   "file_extension": ".py",
   "mimetype": "text/x-python",
   "name": "python",
   "nbconvert_exporter": "python",
   "pygments_lexer": "ipython3",
   "version": "3.6.1"
  },
  "latex_envs": {
   "LaTeX_envs_menu_present": true,
   "bibliofile": "biblio.bib",
   "cite_by": "apalike",
   "current_citInitial": 1,
   "eqLabelWithNumbers": true,
   "eqNumInitial": 1,
   "hotkeys": {
    "equation": "Ctrl-E",
    "itemize": "Ctrl-I"
   },
   "labels_anchors": false,
   "latex_user_defs": false,
   "report_style_numbering": false,
   "user_envs_cfg": false
  },
  "toc": {
   "colors": {
    "hover_highlight": "#DAA520",
    "running_highlight": "#FF0000",
    "selected_highlight": "#FFD700"
   },
   "moveMenuLeft": true,
   "nav_menu": {
    "height": "135px",
    "width": "251px"
   },
   "navigate_menu": true,
   "number_sections": true,
   "sideBar": true,
   "threshold": 4,
   "toc_cell": false,
   "toc_section_display": "block",
   "toc_window_display": false
  }
 },
 "nbformat": 4,
 "nbformat_minor": 1
}
