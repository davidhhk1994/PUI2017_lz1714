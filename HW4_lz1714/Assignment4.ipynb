{
 "cells": [
  {
   "cell_type": "markdown",
   "metadata": {
    "collapsed": true,
    "run_control": {
     "frozen": false,
     "read_only": false
    }
   },
   "source": [
    "# Skeleton of Assignment 4:"
   ]
  },
  {
   "cell_type": "markdown",
   "metadata": {},
   "source": [
    "## The significant threshold for the whole exercise\n",
    "$$ \\alpha = 0.05 $$"
   ]
  },
  {
   "cell_type": "code",
   "execution_count": 1,
   "metadata": {
    "ExecuteTime": {
     "end_time": "2017-10-05T16:48:06.390950",
     "start_time": "2017-10-05T16:48:04.815178"
    },
    "run_control": {
     "frozen": false,
     "read_only": false
    },
    "scrolled": true
   },
   "outputs": [],
   "source": [
    "%matplotlib inline\n",
    "import matplotlib.pyplot as plt\n",
    "import pandas as pd\n",
    "import numpy as np\n",
    "#imports downloader\n",
    "from getCitiBikeCSV import getCitiBikeCSV\n",
    "from __future__  import print_function\n",
    "from scipy import stats\n",
    "import os\n",
    "#import for location process\n",
    "from shapely.geometry import Point\n",
    "import geopandas as gpd"
   ]
  },
  {
   "cell_type": "markdown",
   "metadata": {
    "run_control": {
     "frozen": false,
     "read_only": false
    }
   },
   "source": [
    "# 0. Read in data\n",
    "I am reading in data from January 2015 with the function that I created getCitiBikeCSV. You are requested to use 2 months at least. It would be a good idea to use data from a colder and a warmer months, since there are more riders in the warm weather and ridership patterns may change with weather, temperature, etc. You should use data from multiple months, joining multiple datasets (thus addressing some systematic errors as well)"
   ]
  },
  {
   "cell_type": "code",
   "execution_count": 2,
   "metadata": {
    "ExecuteTime": {
     "end_time": "2017-10-05T16:48:09.386484",
     "start_time": "2017-10-05T16:48:06.821336"
    },
    "run_control": {
     "frozen": false,
     "read_only": false
    },
    "scrolled": true
   },
   "outputs": [
    {
     "name": "stdout",
     "output_type": "stream",
     "text": [
      "Downloading 201601\n",
      "file in place, you can continue\n",
      "Downloading 201608\n",
      "file in place, you can continue\n"
     ]
    }
   ],
   "source": [
    "#download file of 2 months. one is colder, the other is warmer.\n",
    "timeList = ['201601', '201608']\n",
    "for datestring in enumerate (timeList):\n",
    "    getCitiBikeCSV(datestring[1])"
   ]
  },
  {
   "cell_type": "code",
   "execution_count": 3,
   "metadata": {
    "ExecuteTime": {
     "end_time": "2017-10-05T16:48:11.528975",
     "start_time": "2017-10-05T16:48:10.267002"
    },
    "run_control": {
     "frozen": false,
     "read_only": false
    }
   },
   "outputs": [],
   "source": [
    "df1 = pd.read_csv(os.getenv(\"PUIDATA\") + \"/\" + '201601' + '-citibike-tripdata.csv')\n",
    "df8 = pd.read_csv(os.getenv(\"PUIDATA\") + \"/\" + '201608' + '-citibike-tripdata.csv')"
   ]
  },
  {
   "cell_type": "code",
   "execution_count": 4,
   "metadata": {},
   "outputs": [
    {
     "data": {
      "text/html": [
       "<div>\n",
       "<style>\n",
       "    .dataframe thead tr:only-child th {\n",
       "        text-align: right;\n",
       "    }\n",
       "\n",
       "    .dataframe thead th {\n",
       "        text-align: left;\n",
       "    }\n",
       "\n",
       "    .dataframe tbody tr th {\n",
       "        vertical-align: top;\n",
       "    }\n",
       "</style>\n",
       "<table border=\"1\" class=\"dataframe\">\n",
       "  <thead>\n",
       "    <tr style=\"text-align: right;\">\n",
       "      <th></th>\n",
       "      <th>tripduration</th>\n",
       "      <th>starttime</th>\n",
       "      <th>stoptime</th>\n",
       "      <th>start station id</th>\n",
       "      <th>start station name</th>\n",
       "      <th>start station latitude</th>\n",
       "      <th>start station longitude</th>\n",
       "      <th>end station id</th>\n",
       "      <th>end station name</th>\n",
       "      <th>end station latitude</th>\n",
       "      <th>end station longitude</th>\n",
       "      <th>bikeid</th>\n",
       "      <th>usertype</th>\n",
       "      <th>birth year</th>\n",
       "      <th>gender</th>\n",
       "    </tr>\n",
       "  </thead>\n",
       "  <tbody>\n",
       "    <tr>\n",
       "      <th>0</th>\n",
       "      <td>923</td>\n",
       "      <td>1/1/2016 00:00:41</td>\n",
       "      <td>1/1/2016 00:16:04</td>\n",
       "      <td>268</td>\n",
       "      <td>Howard St &amp; Centre St</td>\n",
       "      <td>40.719105</td>\n",
       "      <td>-73.999733</td>\n",
       "      <td>3002</td>\n",
       "      <td>South End Ave &amp; Liberty St</td>\n",
       "      <td>40.711512</td>\n",
       "      <td>-74.015756</td>\n",
       "      <td>22285</td>\n",
       "      <td>Subscriber</td>\n",
       "      <td>1958.0</td>\n",
       "      <td>1</td>\n",
       "    </tr>\n",
       "    <tr>\n",
       "      <th>1</th>\n",
       "      <td>379</td>\n",
       "      <td>1/1/2016 00:00:45</td>\n",
       "      <td>1/1/2016 00:07:04</td>\n",
       "      <td>476</td>\n",
       "      <td>E 31 St &amp; 3 Ave</td>\n",
       "      <td>40.743943</td>\n",
       "      <td>-73.979661</td>\n",
       "      <td>498</td>\n",
       "      <td>Broadway &amp; W 32 St</td>\n",
       "      <td>40.748549</td>\n",
       "      <td>-73.988084</td>\n",
       "      <td>17827</td>\n",
       "      <td>Subscriber</td>\n",
       "      <td>1969.0</td>\n",
       "      <td>1</td>\n",
       "    </tr>\n",
       "    <tr>\n",
       "      <th>2</th>\n",
       "      <td>589</td>\n",
       "      <td>1/1/2016 00:00:48</td>\n",
       "      <td>1/1/2016 00:10:37</td>\n",
       "      <td>489</td>\n",
       "      <td>10 Ave &amp; W 28 St</td>\n",
       "      <td>40.750664</td>\n",
       "      <td>-74.001768</td>\n",
       "      <td>284</td>\n",
       "      <td>Greenwich Ave &amp; 8 Ave</td>\n",
       "      <td>40.739017</td>\n",
       "      <td>-74.002638</td>\n",
       "      <td>21997</td>\n",
       "      <td>Subscriber</td>\n",
       "      <td>1982.0</td>\n",
       "      <td>2</td>\n",
       "    </tr>\n",
       "    <tr>\n",
       "      <th>3</th>\n",
       "      <td>889</td>\n",
       "      <td>1/1/2016 00:01:06</td>\n",
       "      <td>1/1/2016 00:15:56</td>\n",
       "      <td>268</td>\n",
       "      <td>Howard St &amp; Centre St</td>\n",
       "      <td>40.719105</td>\n",
       "      <td>-73.999733</td>\n",
       "      <td>3002</td>\n",
       "      <td>South End Ave &amp; Liberty St</td>\n",
       "      <td>40.711512</td>\n",
       "      <td>-74.015756</td>\n",
       "      <td>22794</td>\n",
       "      <td>Subscriber</td>\n",
       "      <td>1961.0</td>\n",
       "      <td>2</td>\n",
       "    </tr>\n",
       "    <tr>\n",
       "      <th>4</th>\n",
       "      <td>1480</td>\n",
       "      <td>1/1/2016 00:01:12</td>\n",
       "      <td>1/1/2016 00:25:52</td>\n",
       "      <td>2006</td>\n",
       "      <td>Central Park S &amp; 6 Ave</td>\n",
       "      <td>40.765909</td>\n",
       "      <td>-73.976342</td>\n",
       "      <td>2006</td>\n",
       "      <td>Central Park S &amp; 6 Ave</td>\n",
       "      <td>40.765909</td>\n",
       "      <td>-73.976342</td>\n",
       "      <td>14562</td>\n",
       "      <td>Subscriber</td>\n",
       "      <td>1952.0</td>\n",
       "      <td>1</td>\n",
       "    </tr>\n",
       "  </tbody>\n",
       "</table>\n",
       "</div>"
      ],
      "text/plain": [
       "   tripduration          starttime           stoptime  start station id  \\\n",
       "0           923  1/1/2016 00:00:41  1/1/2016 00:16:04               268   \n",
       "1           379  1/1/2016 00:00:45  1/1/2016 00:07:04               476   \n",
       "2           589  1/1/2016 00:00:48  1/1/2016 00:10:37               489   \n",
       "3           889  1/1/2016 00:01:06  1/1/2016 00:15:56               268   \n",
       "4          1480  1/1/2016 00:01:12  1/1/2016 00:25:52              2006   \n",
       "\n",
       "       start station name  start station latitude  start station longitude  \\\n",
       "0   Howard St & Centre St               40.719105               -73.999733   \n",
       "1         E 31 St & 3 Ave               40.743943               -73.979661   \n",
       "2        10 Ave & W 28 St               40.750664               -74.001768   \n",
       "3   Howard St & Centre St               40.719105               -73.999733   \n",
       "4  Central Park S & 6 Ave               40.765909               -73.976342   \n",
       "\n",
       "   end station id            end station name  end station latitude  \\\n",
       "0            3002  South End Ave & Liberty St             40.711512   \n",
       "1             498          Broadway & W 32 St             40.748549   \n",
       "2             284       Greenwich Ave & 8 Ave             40.739017   \n",
       "3            3002  South End Ave & Liberty St             40.711512   \n",
       "4            2006      Central Park S & 6 Ave             40.765909   \n",
       "\n",
       "   end station longitude  bikeid    usertype  birth year  gender  \n",
       "0             -74.015756   22285  Subscriber      1958.0       1  \n",
       "1             -73.988084   17827  Subscriber      1969.0       1  \n",
       "2             -74.002638   21997  Subscriber      1982.0       2  \n",
       "3             -74.015756   22794  Subscriber      1961.0       2  \n",
       "4             -73.976342   14562  Subscriber      1952.0       1  "
      ]
     },
     "execution_count": 4,
     "metadata": {},
     "output_type": "execute_result"
    }
   ],
   "source": [
    "result = pd.concat([df1, df8], join='inner', ignore_index=True)\n",
    "result.head()"
   ]
  },
  {
   "cell_type": "code",
   "execution_count": 5,
   "metadata": {},
   "outputs": [
    {
     "data": {
      "text/plain": [
       "Index(['tripduration', 'starttime', 'stoptime', 'start station id',\n",
       "       'start station name', 'start station latitude',\n",
       "       'start station longitude', 'end station id', 'end station name',\n",
       "       'end station latitude', 'end station longitude', 'bikeid', 'usertype',\n",
       "       'birth year', 'gender'],\n",
       "      dtype='object')"
      ]
     },
     "execution_count": 5,
     "metadata": {},
     "output_type": "execute_result"
    }
   ],
   "source": [
    "result.columns"
   ]
  },
  {
   "cell_type": "code",
   "execution_count": 6,
   "metadata": {},
   "outputs": [
    {
     "data": {
      "text/html": [
       "<div>\n",
       "<style>\n",
       "    .dataframe thead tr:only-child th {\n",
       "        text-align: right;\n",
       "    }\n",
       "\n",
       "    .dataframe thead th {\n",
       "        text-align: left;\n",
       "    }\n",
       "\n",
       "    .dataframe tbody tr th {\n",
       "        vertical-align: top;\n",
       "    }\n",
       "</style>\n",
       "<table border=\"1\" class=\"dataframe\">\n",
       "  <thead>\n",
       "    <tr style=\"text-align: right;\">\n",
       "      <th></th>\n",
       "      <th>tripduration</th>\n",
       "      <th>starttime</th>\n",
       "      <th>start station latitude</th>\n",
       "      <th>start station longitude</th>\n",
       "      <th>birth year</th>\n",
       "    </tr>\n",
       "  </thead>\n",
       "  <tbody>\n",
       "    <tr>\n",
       "      <th>0</th>\n",
       "      <td>923</td>\n",
       "      <td>1/1/2016 00:00:41</td>\n",
       "      <td>40.719105</td>\n",
       "      <td>-73.999733</td>\n",
       "      <td>1958.0</td>\n",
       "    </tr>\n",
       "    <tr>\n",
       "      <th>1</th>\n",
       "      <td>379</td>\n",
       "      <td>1/1/2016 00:00:45</td>\n",
       "      <td>40.743943</td>\n",
       "      <td>-73.979661</td>\n",
       "      <td>1969.0</td>\n",
       "    </tr>\n",
       "    <tr>\n",
       "      <th>2</th>\n",
       "      <td>589</td>\n",
       "      <td>1/1/2016 00:00:48</td>\n",
       "      <td>40.750664</td>\n",
       "      <td>-74.001768</td>\n",
       "      <td>1982.0</td>\n",
       "    </tr>\n",
       "    <tr>\n",
       "      <th>3</th>\n",
       "      <td>889</td>\n",
       "      <td>1/1/2016 00:01:06</td>\n",
       "      <td>40.719105</td>\n",
       "      <td>-73.999733</td>\n",
       "      <td>1961.0</td>\n",
       "    </tr>\n",
       "    <tr>\n",
       "      <th>4</th>\n",
       "      <td>1480</td>\n",
       "      <td>1/1/2016 00:01:12</td>\n",
       "      <td>40.765909</td>\n",
       "      <td>-73.976342</td>\n",
       "      <td>1952.0</td>\n",
       "    </tr>\n",
       "  </tbody>\n",
       "</table>\n",
       "</div>"
      ],
      "text/plain": [
       "   tripduration          starttime  start station latitude  \\\n",
       "0           923  1/1/2016 00:00:41               40.719105   \n",
       "1           379  1/1/2016 00:00:45               40.743943   \n",
       "2           589  1/1/2016 00:00:48               40.750664   \n",
       "3           889  1/1/2016 00:01:06               40.719105   \n",
       "4          1480  1/1/2016 00:01:12               40.765909   \n",
       "\n",
       "   start station longitude  birth year  \n",
       "0               -73.999733      1958.0  \n",
       "1               -73.979661      1969.0  \n",
       "2               -74.001768      1982.0  \n",
       "3               -73.999733      1961.0  \n",
       "4               -73.976342      1952.0  "
      ]
     },
     "execution_count": 6,
     "metadata": {},
     "output_type": "execute_result"
    }
   ],
   "source": [
    "result.drop(['stoptime', 'start station id', 'start station name', 'end station id', 'end station name',\n",
    "       'end station latitude', 'end station longitude', 'bikeid', 'usertype', 'gender'], axis=1, inplace=True)\n",
    "result.head()"
   ]
  },
  {
   "cell_type": "code",
   "execution_count": 7,
   "metadata": {
    "ExecuteTime": {
     "end_time": "2017-10-05T16:51:52.008367",
     "start_time": "2017-10-05T16:48:18.977948"
    },
    "run_control": {
     "frozen": false,
     "read_only": false
    }
   },
   "outputs": [
    {
     "data": {
      "text/html": [
       "<div>\n",
       "<style>\n",
       "    .dataframe thead tr:only-child th {\n",
       "        text-align: right;\n",
       "    }\n",
       "\n",
       "    .dataframe thead th {\n",
       "        text-align: left;\n",
       "    }\n",
       "\n",
       "    .dataframe tbody tr th {\n",
       "        vertical-align: top;\n",
       "    }\n",
       "</style>\n",
       "<table border=\"1\" class=\"dataframe\">\n",
       "  <thead>\n",
       "    <tr style=\"text-align: right;\">\n",
       "      <th></th>\n",
       "      <th>tripduration</th>\n",
       "      <th>starttime</th>\n",
       "      <th>start station latitude</th>\n",
       "      <th>start station longitude</th>\n",
       "      <th>birth year</th>\n",
       "    </tr>\n",
       "  </thead>\n",
       "  <tbody>\n",
       "    <tr>\n",
       "      <th>0</th>\n",
       "      <td>923</td>\n",
       "      <td>2016-01-01 00:00:41</td>\n",
       "      <td>40.719105</td>\n",
       "      <td>-73.999733</td>\n",
       "      <td>1958.0</td>\n",
       "    </tr>\n",
       "    <tr>\n",
       "      <th>1</th>\n",
       "      <td>379</td>\n",
       "      <td>2016-01-01 00:00:45</td>\n",
       "      <td>40.743943</td>\n",
       "      <td>-73.979661</td>\n",
       "      <td>1969.0</td>\n",
       "    </tr>\n",
       "    <tr>\n",
       "      <th>2</th>\n",
       "      <td>589</td>\n",
       "      <td>2016-01-01 00:00:48</td>\n",
       "      <td>40.750664</td>\n",
       "      <td>-74.001768</td>\n",
       "      <td>1982.0</td>\n",
       "    </tr>\n",
       "    <tr>\n",
       "      <th>3</th>\n",
       "      <td>889</td>\n",
       "      <td>2016-01-01 00:01:06</td>\n",
       "      <td>40.719105</td>\n",
       "      <td>-73.999733</td>\n",
       "      <td>1961.0</td>\n",
       "    </tr>\n",
       "    <tr>\n",
       "      <th>4</th>\n",
       "      <td>1480</td>\n",
       "      <td>2016-01-01 00:01:12</td>\n",
       "      <td>40.765909</td>\n",
       "      <td>-73.976342</td>\n",
       "      <td>1952.0</td>\n",
       "    </tr>\n",
       "  </tbody>\n",
       "</table>\n",
       "</div>"
      ],
      "text/plain": [
       "   tripduration           starttime  start station latitude  \\\n",
       "0           923 2016-01-01 00:00:41               40.719105   \n",
       "1           379 2016-01-01 00:00:45               40.743943   \n",
       "2           589 2016-01-01 00:00:48               40.750664   \n",
       "3           889 2016-01-01 00:01:06               40.719105   \n",
       "4          1480 2016-01-01 00:01:12               40.765909   \n",
       "\n",
       "   start station longitude  birth year  \n",
       "0               -73.999733      1958.0  \n",
       "1               -73.979661      1969.0  \n",
       "2               -74.001768      1982.0  \n",
       "3               -73.999733      1961.0  \n",
       "4               -73.976342      1952.0  "
      ]
     },
     "execution_count": 7,
     "metadata": {},
     "output_type": "execute_result"
    }
   ],
   "source": [
    "result['starttime'] = pd.to_datetime(result['starttime'], format='%m/%d/%Y %H:%M:%S')\n",
    "result.head()"
   ]
  },
  {
   "cell_type": "markdown",
   "metadata": {
    "run_control": {
     "frozen": false,
     "read_only": false
    }
   },
   "source": [
    "# Question 1: trip duration of bikers that ride during the day vs night\n",
    "## 1.1 SPLIT BY CATEGORY\n",
    "\n",
    "Splitting data by day and night at tripduration:\n",
    "\n",
    "**H0: there is no statistical difference in the tripduration distribution of day and night trips**"
   ]
  },
  {
   "cell_type": "code",
   "execution_count": 8,
   "metadata": {
    "scrolled": false
   },
   "outputs": [
    {
     "data": {
      "text/plain": [
       "starttime\n",
       "0      18999\n",
       "1      10713\n",
       "2       6215\n",
       "3       3918\n",
       "4       3940\n",
       "5      12180\n",
       "6      47067\n",
       "7      95668\n",
       "8     169321\n",
       "9     135799\n",
       "10     92143\n",
       "11     95370\n",
       "12    105470\n",
       "13    110103\n",
       "14    113831\n",
       "15    119359\n",
       "16    142383\n",
       "17    203334\n",
       "18    198237\n",
       "19    142666\n",
       "20     94213\n",
       "21     65115\n",
       "22     48672\n",
       "23     32425\n",
       "Name: start station latitude, dtype: int64"
      ]
     },
     "execution_count": 8,
     "metadata": {},
     "output_type": "execute_result"
    }
   ],
   "source": [
    "timeuse = result.groupby(result['starttime'].dt.hour).count().loc[:,'start station latitude']\n",
    "timeuse"
   ]
  },
  {
   "cell_type": "markdown",
   "metadata": {},
   "source": [
    "Define the day is from 8a.m to 7p.m, night is from 8p.m to 7a.m."
   ]
  },
  {
   "cell_type": "code",
   "execution_count": 9,
   "metadata": {},
   "outputs": [
    {
     "data": {
      "text/plain": [
       "1628016"
      ]
     },
     "execution_count": 9,
     "metadata": {},
     "output_type": "execute_result"
    }
   ],
   "source": [
    "dayHour = [8, 9, 10, 11, 12, 13, 14, 15, 16, 17, 18, 19]\n",
    "nightHour = [0, 1, 2, 3, 4, 5, 6, 7, 20, 21, 22, 23]\n",
    "dfDay = pd.DataFrame(columns=['tripduration', 'starttime',\n",
    "                'start station latitude', 'start station longitude',\n",
    "                'birth year'])\n",
    "dfNight = pd.DataFrame(columns=['tripduration', 'starttime',\n",
    "                'start station latitude', 'start station longitude',\n",
    "                'birth year'])\n",
    "for Hour in dayHour:\n",
    "    dfDay = dfDay.append(result[result['starttime'].dt.hour==Hour])\n",
    "for Hour in nightHour:\n",
    "    dfNight = dfNight.append(result[result['starttime'].dt.hour==Hour])\n",
    "len(dfDay)"
   ]
  },
  {
   "cell_type": "code",
   "execution_count": 10,
   "metadata": {},
   "outputs": [
    {
     "data": {
      "text/plain": [
       "439125"
      ]
     },
     "execution_count": 10,
     "metadata": {},
     "output_type": "execute_result"
    }
   ],
   "source": [
    "len(dfNight)"
   ]
  },
  {
   "cell_type": "code",
   "execution_count": 11,
   "metadata": {},
   "outputs": [],
   "source": [
    "dfDay['tripduration'].dropna(inplace= True)\n",
    "dfNight['tripduration'].dropna(inplace= True)"
   ]
  },
  {
   "cell_type": "code",
   "execution_count": 12,
   "metadata": {
    "scrolled": true
   },
   "outputs": [
    {
     "data": {
      "text/plain": [
       "439125"
      ]
     },
     "execution_count": 12,
     "metadata": {},
     "output_type": "execute_result"
    }
   ],
   "source": [
    "len(dfNight)"
   ]
  },
  {
   "cell_type": "code",
   "execution_count": 13,
   "metadata": {},
   "outputs": [
    {
     "name": "stdout",
     "output_type": "stream",
     "text": [
      "the max value of dfDay is: 3966943\n",
      "the median value of dfDay is: 643.0\n",
      "Here are values of different percentage:\n",
      "0.250      388\n",
      "0.500      643\n",
      "0.750     1099\n",
      "0.900     1658\n",
      "0.950     2052\n",
      "0.990     3588\n",
      "0.998    10850\n",
      "Name: tripduration, dtype: object\n"
     ]
    }
   ],
   "source": [
    "#check if there are outliers\n",
    "print (\"the max value of dfDay is: {}\".format(dfDay['tripduration'].max()))\n",
    "print (\"the median value of dfDay is: {}\".format(dfDay['tripduration'].median()))\n",
    "print (\"Here are values of different percentage:\\n{}\".format(\n",
    "    dfDay.tripduration.quantile([.25, .5, .75, .9, .95, .99, .998])))"
   ]
  },
  {
   "cell_type": "markdown",
   "metadata": {},
   "source": [
    "There are some outliers at least above the percentange of 0.998."
   ]
  },
  {
   "cell_type": "code",
   "execution_count": 14,
   "metadata": {},
   "outputs": [],
   "source": [
    "#detect and exclude outliers\n",
    "dfDay = dfDay[(np.abs(stats.zscore(dfDay['tripduration'])) < 9)]\n",
    "dfNight = dfNight[(np.abs(stats.zscore(dfNight['tripduration'])) < 9)]\n",
    "\n",
    "#print (\"the max value of dfDay is: {}\".format(dfDay['tripduration'].max()))\n",
    "#print (\"quantile:\\n{}\".format(dfDay.tripduration.quantile([.25, .5, .75])))\n",
    "#print (\"the max value of dfNight is: {}\".format(dfNight['tripduration'].max()))\n",
    "#print (\"quantile:\\n{}\".format(dfNight.tripduration.quantile([.25, .5, .75])))"
   ]
  },
  {
   "cell_type": "raw",
   "metadata": {},
   "source": [
    "print (\"the max value of dfDay is: {}\".format(dfDay['tripduration'].max()))\n",
    "\n",
    "print (\"the max value of dfNight is: {}\".format(dfNight['tripduration'].max()))\n"
   ]
  },
  {
   "cell_type": "code",
   "execution_count": 15,
   "metadata": {},
   "outputs": [
    {
     "data": {
      "image/png": "[encoded data removed]",
      "text/plain": [
       "<matplotlib.figure.Figure at 0x10e8055f8>"
      ]
     },
     "metadata": {},
     "output_type": "display_data"
    },
    {
     "data": {
      "image/png": "[encoded data removed]",
      "text/plain": [
       "<matplotlib.figure.Figure at 0x10d3dd940>"
      ]
     },
     "metadata": {},
     "output_type": "display_data"
    }
   ],
   "source": [
    "bins = np.arange(0, 8000, 400)\n",
    "axDay = dfDay.tripduration.groupby(pd.cut(dfDay.tripduration, bins)).agg('count').plot(kind='bar', legend=False)\n",
    "axDay.set_xlabel(\"Citibike trip duration\")\n",
    "axDay.set_ylabel(\"Number of trips\")\n",
    "axDay.set_title(\"Day trips\")\n",
    "plt.show()\n",
    "axNight = dfNight.tripduration.groupby(pd.cut(dfNight.tripduration, bins)).agg('count').plot(kind='bar', legend=False)\n",
    "axNight.set_xlabel(\"Citibike trip duration\")\n",
    "axNight.set_ylabel(\"Number of trips\")\n",
    "axNight.set_title(\"Night trips\")\n",
    "plt.show()"
   ]
  },
  {
   "cell_type": "code",
   "execution_count": 16,
   "metadata": {},
   "outputs": [
    {
     "name": "stdout",
     "output_type": "stream",
     "text": [
      "tripduration\n",
      "(0, 400]        0.036862\n",
      "(400, 800]      0.043172\n",
      "(800, 1200]     0.036379\n",
      "(1200, 1600]    0.023413\n",
      "(1600, 2000]    0.012885\n",
      "(2000, 2400]    0.008067\n",
      "(2400, 2800]    0.005579\n",
      "(2800, 3200]    0.004235\n",
      "(3200, 3600]    0.003336\n",
      "(3600, 4000]    0.002533\n",
      "(4000, 4400]    0.001990\n",
      "(4400, 4800]    0.001599\n",
      "(4800, 5200]    0.001240\n",
      "(5200, 5600]    0.000926\n",
      "(5600, 6000]    0.000703\n",
      "(6000, 6400]    0.000487\n",
      "(6400, 6800]    0.000305\n",
      "(6800, 7200]    0.000144\n",
      "(7200, 7600]    0.000000\n",
      "Name: tripduration, dtype: float64\n"
     ]
    },
    {
     "data": {
      "text/plain": [
       "<matplotlib.legend.Legend at 0x114e3eda0>"
      ]
     },
     "execution_count": 16,
     "metadata": {},
     "output_type": "execute_result"
    },
    {
     "data": {
      "image/png": "[encoded data removed]",
      "text/plain": [
       "<matplotlib.figure.Figure at 0x104a5c278>"
      ]
     },
     "metadata": {},
     "output_type": "display_data"
    }
   ],
   "source": [
    "csD=dfDay.tripduration.groupby(pd.cut(dfDay.tripduration, bins)).agg('count').cumsum()\n",
    "\n",
    "csN=dfNight.tripduration.groupby(pd.cut(dfNight.tripduration, bins)).agg('count').cumsum()\n",
    "\n",
    "print (np.abs(csD / csD.max()-csN / csN.max()))\n",
    "\n",
    "plt.plot(bins[:-1] + 5, csD / csD.max(), label = \"D\")\n",
    "plt.plot(bins[:-1] + 5, csN / csN.max(), label = \"N\")\n",
    "plt.plot(bins[:-1] + 5, np.sqrt(csN / csN.max() - csD / csD.max())**2, 'k-',\n",
    "        label = \"difference\")\n",
    "plt.xlabel(\"Duration\")\n",
    "plt.ylabel(\"Normalized Cumulative Number\")\n",
    "plt.legend()\n"
   ]
  },
  {
   "cell_type": "markdown",
   "metadata": {
    "collapsed": true
   },
   "source": [
    "#### Figure 2: The cumulative distribution of citibike trip-durations. The difference mainly occurs during 500 seconds to 2000 seconds."
   ]
  },
  {
   "cell_type": "markdown",
   "metadata": {
    "collapsed": true,
    "run_control": {
     "frozen": false,
     "read_only": false
    }
   },
   "source": [
    "## 1.2 KS tests to compare 2 samples\n",
    "\n",
    "http://docs.scipy.org/doc/scipy-0.15.1/reference/generated/scipy.stats.ks_2samp.html\n",
    "\n",
    "the KS test in scipy returns the p-value BUT make sure you understand what the NULL is! read the documentation carefully! what is the null hypothesis that you can/cannot reject?"
   ]
  },
  {
   "cell_type": "code",
   "execution_count": 17,
   "metadata": {},
   "outputs": [
    {
     "name": "stdout",
     "output_type": "stream",
     "text": [
      "Ks_2sampResult(statistic=0.043782288537372094, pvalue=0.0)\n"
     ]
    }
   ],
   "source": [
    "ks = stats.ks_2samp(dfDay.tripduration, dfNight.tripduration)\n",
    "print (ks)"
   ]
  },
  {
   "cell_type": "markdown",
   "metadata": {
    "collapsed": true
   },
   "source": [
    "#### Null hypothesis: The trip durations of bikers that ride during the day vs night have no difference.\n",
    "#### The KS test returned two values:\n",
    "#### 1. statistic=0.043782288537372094, is the KS statistic.\n",
    "#### 2. pvalue = 0.0, the possibility of null hypothesis happens.\n",
    "#### As pvalue < alpha, we can reject the Null hypothesis.\n",
    "#### The trip durations of bikers that ride during the day vs night are different."
   ]
  },
  {
   "cell_type": "markdown",
   "metadata": {
    "collapsed": true
   },
   "source": [
    "### With smaller samples:"
   ]
  },
  {
   "cell_type": "code",
   "execution_count": 18,
   "metadata": {},
   "outputs": [
    {
     "name": "stdout",
     "output_type": "stream",
     "text": [
      "Ks_2sampResult(statistic=0.054469008688953879, pvalue=6.6038661341587458e-05)\n"
     ]
    }
   ],
   "source": [
    "NdfDay = dfDay.sample(frac=0.005, replace=True)\n",
    "NdfNight = dfNight.sample(frac=0.005, replace=True)\n",
    "\n",
    "ks = stats.ks_2samp(NdfDay.tripduration, NdfNight.tripduration)\n",
    "print (ks)"
   ]
  },
  {
   "cell_type": "markdown",
   "metadata": {
    "collapsed": true
   },
   "source": [
    "#### Null hypothesis: The trip durations of bikers that ride during the day vs night have no difference.\n",
    "#### As pvalue < alpha, we can reject the Null hypothesis.\n",
    "#### The trip durations of bikers that ride during the day vs night are different."
   ]
  },
  {
   "cell_type": "markdown",
   "metadata": {
    "run_control": {
     "frozen": false,
     "read_only": false
    }
   },
   "source": [
    "## 1.3 Pearson's  test for correlation\n",
    "\n",
    "** notice that the Pearson's is a pairwise test: the samples need to be **\n",
    " a. the same size\n",
    " b. sorted! (how??)\n",
    "    \n",
    "http://docs.scipy.org/doc/scipy/reference/generated/scipy.stats.pearsonr.html#scipy.stats.pearsonr\n",
    "\n"
   ]
  },
  {
   "cell_type": "markdown",
   "metadata": {},
   "source": [
    "#### Wrangle the data to be paired."
   ]
  },
  {
   "cell_type": "code",
   "execution_count": 19,
   "metadata": {},
   "outputs": [],
   "source": [
    "Pday = np.random.choice(dfDay.tripduration, 500)\n",
    "Pday.sort()\n",
    "Pnight = np.random.choice(dfNight.tripduration, 500)\n",
    "Pnight.sort()"
   ]
  },
  {
   "cell_type": "code",
   "execution_count": 20,
   "metadata": {},
   "outputs": [
    {
     "data": {
      "text/plain": [
       "(0.98773513721561579, 0.0)"
      ]
     },
     "execution_count": 20,
     "metadata": {},
     "output_type": "execute_result"
    }
   ],
   "source": [
    "stats.pearsonr(Pday, Pnight)"
   ]
  },
  {
   "cell_type": "markdown",
   "metadata": {
    "collapsed": true
   },
   "source": [
    "#### Null Hypothesis: There is no correlation between day and night trip durations.\n",
    "#### Pearson's corr. coef. = 0.62731398878665345\n",
    "#### pvalue = 4.7325131238820201e-56\n",
    "#### As pvalue < alpha, we can reject the Null hypothesis."
   ]
  },
  {
   "cell_type": "markdown",
   "metadata": {
    "run_control": {
     "frozen": false,
     "read_only": false
    }
   },
   "source": [
    "## 1.4 Spearman's  test for correlation\n",
    "\n",
    "http://docs.scipy.org/doc/scipy/reference/generated/scipy.stats.spearmanr.html#scipy.stats.spearmanr"
   ]
  },
  {
   "cell_type": "markdown",
   "metadata": {},
   "source": [
    "#### Null Hypothesis: There is no correlation between day and night trip durations."
   ]
  },
  {
   "cell_type": "code",
   "execution_count": 21,
   "metadata": {},
   "outputs": [
    {
     "data": {
      "text/plain": [
       "SpearmanrResult(correlation=0.99999613596729586, pvalue=0.0)"
      ]
     },
     "execution_count": 21,
     "metadata": {},
     "output_type": "execute_result"
    }
   ],
   "source": [
    "stats.spearmanr(Pday, Pnight)"
   ]
  },
  {
   "cell_type": "markdown",
   "metadata": {
    "collapsed": true
   },
   "source": [
    "#### Spearman's corr. coef. = 0.9999951039556455\n",
    "#### pvalue = 0.0\n",
    "#### As pvalue < alpha, we can reject the Null hypothesis."
   ]
  },
  {
   "cell_type": "markdown",
   "metadata": {},
   "source": [
    "# Question 2: age of bikers for trips originating in Manhattan and in Brooklyn\n",
    "## 2.1 SPLIT BY CATEGORY"
   ]
  },
  {
   "cell_type": "code",
   "execution_count": 22,
   "metadata": {},
   "outputs": [
    {
     "data": {
      "text/plain": [
       "tripduration               2067141\n",
       "starttime                  2067141\n",
       "start station latitude     2067141\n",
       "start station longitude    2067141\n",
       "birth year                 1827972\n",
       "dtype: int64"
      ]
     },
     "execution_count": 22,
     "metadata": {},
     "output_type": "execute_result"
    }
   ],
   "source": [
    "result.count()"
   ]
  },
  {
   "cell_type": "code",
   "execution_count": 23,
   "metadata": {},
   "outputs": [
    {
     "data": {
      "text/plain": [
       "start station latitude     1827972\n",
       "start station longitude    1827972\n",
       "birth year                 1827972\n",
       "dtype: int64"
      ]
     },
     "execution_count": 23,
     "metadata": {},
     "output_type": "execute_result"
    }
   ],
   "source": [
    "#drop redundant data\n",
    "result.drop(['tripduration', 'starttime'], axis=1, inplace=True)\n",
    "result.dropna(axis=0, how='any', inplace=True)\n",
    "result.count()"
   ]
  },
  {
   "cell_type": "code",
   "execution_count": 24,
   "metadata": {},
   "outputs": [],
   "source": [
    "#the data is too big for my computer to compute, I select a portion of it\n",
    "result = result.sample(frac=0.001, replace=True)"
   ]
  },
  {
   "cell_type": "code",
   "execution_count": 25,
   "metadata": {},
   "outputs": [],
   "source": [
    "#reset the index\n",
    "result.reset_index(drop=True, inplace=True)"
   ]
  },
  {
   "cell_type": "code",
   "execution_count": 26,
   "metadata": {},
   "outputs": [
    {
     "data": {
      "text/html": [
       "<div>\n",
       "<style>\n",
       "    .dataframe thead tr:only-child th {\n",
       "        text-align: right;\n",
       "    }\n",
       "\n",
       "    .dataframe thead th {\n",
       "        text-align: left;\n",
       "    }\n",
       "\n",
       "    .dataframe tbody tr th {\n",
       "        vertical-align: top;\n",
       "    }\n",
       "</style>\n",
       "<table border=\"1\" class=\"dataframe\">\n",
       "  <thead>\n",
       "    <tr style=\"text-align: right;\">\n",
       "      <th></th>\n",
       "      <th>start station latitude</th>\n",
       "      <th>start station longitude</th>\n",
       "      <th>birth year</th>\n",
       "      <th>locPoint</th>\n",
       "    </tr>\n",
       "  </thead>\n",
       "  <tbody>\n",
       "    <tr>\n",
       "      <th>0</th>\n",
       "      <td>40.756405</td>\n",
       "      <td>-73.990026</td>\n",
       "      <td>1975.0</td>\n",
       "      <td>POINT (-73.9900262 40.75640548)</td>\n",
       "    </tr>\n",
       "    <tr>\n",
       "      <th>1</th>\n",
       "      <td>40.728846</td>\n",
       "      <td>-74.008591</td>\n",
       "      <td>1998.0</td>\n",
       "      <td>POINT (-74.00859100000001 40.728846)</td>\n",
       "    </tr>\n",
       "    <tr>\n",
       "      <th>2</th>\n",
       "      <td>40.711512</td>\n",
       "      <td>-74.015756</td>\n",
       "      <td>1955.0</td>\n",
       "      <td>POINT (-74.01575600000001 40.711512)</td>\n",
       "    </tr>\n",
       "    <tr>\n",
       "      <th>3</th>\n",
       "      <td>40.712605</td>\n",
       "      <td>-73.962644</td>\n",
       "      <td>1988.0</td>\n",
       "      <td>POINT (-73.96264403000001 40.71260486)</td>\n",
       "    </tr>\n",
       "    <tr>\n",
       "      <th>4</th>\n",
       "      <td>40.720152</td>\n",
       "      <td>-74.010365</td>\n",
       "      <td>1990.0</td>\n",
       "      <td>POINT (-74.01036500930786 40.72015227023285)</td>\n",
       "    </tr>\n",
       "  </tbody>\n",
       "</table>\n",
       "</div>"
      ],
      "text/plain": [
       "   start station latitude  start station longitude  birth year  \\\n",
       "0               40.756405               -73.990026      1975.0   \n",
       "1               40.728846               -74.008591      1998.0   \n",
       "2               40.711512               -74.015756      1955.0   \n",
       "3               40.712605               -73.962644      1988.0   \n",
       "4               40.720152               -74.010365      1990.0   \n",
       "\n",
       "                                       locPoint  \n",
       "0               POINT (-73.9900262 40.75640548)  \n",
       "1          POINT (-74.00859100000001 40.728846)  \n",
       "2          POINT (-74.01575600000001 40.711512)  \n",
       "3        POINT (-73.96264403000001 40.71260486)  \n",
       "4  POINT (-74.01036500930786 40.72015227023285)  "
      ]
     },
     "execution_count": 26,
     "metadata": {},
     "output_type": "execute_result"
    }
   ],
   "source": [
    "#turn latitude and longitude into point\n",
    "locList = []\n",
    "for row in range(len(result)):\n",
    "    temp = Point([result['start station longitude'][row],result['start station latitude'][row]])\n",
    "    locList.append(temp)\n",
    "\n",
    "result['locPoint'] = pd.Series(locList)\n",
    "result.head()"
   ]
  },
  {
   "cell_type": "code",
   "execution_count": 27,
   "metadata": {},
   "outputs": [
    {
     "data": {
      "text/html": [
       "<div>\n",
       "<style>\n",
       "    .dataframe thead tr:only-child th {\n",
       "        text-align: right;\n",
       "    }\n",
       "\n",
       "    .dataframe thead th {\n",
       "        text-align: left;\n",
       "    }\n",
       "\n",
       "    .dataframe tbody tr th {\n",
       "        vertical-align: top;\n",
       "    }\n",
       "</style>\n",
       "<table border=\"1\" class=\"dataframe\">\n",
       "  <thead>\n",
       "    <tr style=\"text-align: right;\">\n",
       "      <th></th>\n",
       "      <th>birth year</th>\n",
       "      <th>locPoint</th>\n",
       "    </tr>\n",
       "  </thead>\n",
       "  <tbody>\n",
       "    <tr>\n",
       "      <th>0</th>\n",
       "      <td>1975.0</td>\n",
       "      <td>POINT (-73.9900262 40.75640548)</td>\n",
       "    </tr>\n",
       "    <tr>\n",
       "      <th>1</th>\n",
       "      <td>1998.0</td>\n",
       "      <td>POINT (-74.00859100000001 40.728846)</td>\n",
       "    </tr>\n",
       "    <tr>\n",
       "      <th>2</th>\n",
       "      <td>1955.0</td>\n",
       "      <td>POINT (-74.01575600000001 40.711512)</td>\n",
       "    </tr>\n",
       "    <tr>\n",
       "      <th>3</th>\n",
       "      <td>1988.0</td>\n",
       "      <td>POINT (-73.96264403000001 40.71260486)</td>\n",
       "    </tr>\n",
       "    <tr>\n",
       "      <th>4</th>\n",
       "      <td>1990.0</td>\n",
       "      <td>POINT (-74.01036500930786 40.72015227023285)</td>\n",
       "    </tr>\n",
       "  </tbody>\n",
       "</table>\n",
       "</div>"
      ],
      "text/plain": [
       "   birth year                                      locPoint\n",
       "0      1975.0               POINT (-73.9900262 40.75640548)\n",
       "1      1998.0          POINT (-74.00859100000001 40.728846)\n",
       "2      1955.0          POINT (-74.01575600000001 40.711512)\n",
       "3      1988.0        POINT (-73.96264403000001 40.71260486)\n",
       "4      1990.0  POINT (-74.01036500930786 40.72015227023285)"
      ]
     },
     "execution_count": 27,
     "metadata": {},
     "output_type": "execute_result"
    }
   ],
   "source": [
    "result.drop(['start station latitude', 'start station longitude'], axis=1, inplace=True)\n",
    "result.head()"
   ]
  },
  {
   "cell_type": "code",
   "execution_count": 28,
   "metadata": {},
   "outputs": [
    {
     "data": {
      "text/plain": [
       "0"
      ]
     },
     "execution_count": 28,
     "metadata": {},
     "output_type": "execute_result"
    }
   ],
   "source": [
    "#download geojson file\n",
    "os.system(\"curl -O https://raw.githubusercontent.com/lingyielia/PUI2017_lz1714/master/HW4_lz1714/BoroughBoundaries.geojson\")\n",
    "os.system(\"mv \" + \"BoroughBoundaries.geojson \" + os.getenv(\"PUIDATA\"))"
   ]
  },
  {
   "cell_type": "code",
   "execution_count": 29,
   "metadata": {},
   "outputs": [
    {
     "data": {
      "text/html": [
       "<div>\n",
       "<style>\n",
       "    .dataframe thead tr:only-child th {\n",
       "        text-align: right;\n",
       "    }\n",
       "\n",
       "    .dataframe thead th {\n",
       "        text-align: left;\n",
       "    }\n",
       "\n",
       "    .dataframe tbody tr th {\n",
       "        vertical-align: top;\n",
       "    }\n",
       "</style>\n",
       "<table border=\"1\" class=\"dataframe\">\n",
       "  <thead>\n",
       "    <tr style=\"text-align: right;\">\n",
       "      <th></th>\n",
       "      <th>boro_name</th>\n",
       "      <th>boro_code</th>\n",
       "      <th>shape_leng</th>\n",
       "      <th>shape_area</th>\n",
       "      <th>geometry</th>\n",
       "    </tr>\n",
       "  </thead>\n",
       "  <tbody>\n",
       "    <tr>\n",
       "      <th>0</th>\n",
       "      <td>Staten Island</td>\n",
       "      <td>5</td>\n",
       "      <td>330437.103648</td>\n",
       "      <td>1623914222.74</td>\n",
       "      <td>(POLYGON ((-74.05050806403247 40.5664220341608...</td>\n",
       "    </tr>\n",
       "    <tr>\n",
       "      <th>1</th>\n",
       "      <td>Bronx</td>\n",
       "      <td>2</td>\n",
       "      <td>464365.63867</td>\n",
       "      <td>1186678192.09</td>\n",
       "      <td>(POLYGON ((-73.89680883223774 40.7958084451597...</td>\n",
       "    </tr>\n",
       "    <tr>\n",
       "      <th>2</th>\n",
       "      <td>Queens</td>\n",
       "      <td>4</td>\n",
       "      <td>895720.956401</td>\n",
       "      <td>3044779902.31</td>\n",
       "      <td>(POLYGON ((-73.83668274106707 40.5949466970158...</td>\n",
       "    </tr>\n",
       "    <tr>\n",
       "      <th>3</th>\n",
       "      <td>Brooklyn</td>\n",
       "      <td>3</td>\n",
       "      <td>741077.854437</td>\n",
       "      <td>1937477754.43</td>\n",
       "      <td>(POLYGON ((-73.86706149472118 40.5820879767934...</td>\n",
       "    </tr>\n",
       "    <tr>\n",
       "      <th>4</th>\n",
       "      <td>Manhattan</td>\n",
       "      <td>1</td>\n",
       "      <td>361050.577478</td>\n",
       "      <td>636479884.362</td>\n",
       "      <td>(POLYGON ((-74.01092841268031 40.6844914725429...</td>\n",
       "    </tr>\n",
       "  </tbody>\n",
       "</table>\n",
       "</div>"
      ],
      "text/plain": [
       "       boro_name boro_code     shape_leng     shape_area  \\\n",
       "0  Staten Island         5  330437.103648  1623914222.74   \n",
       "1          Bronx         2   464365.63867  1186678192.09   \n",
       "2         Queens         4  895720.956401  3044779902.31   \n",
       "3       Brooklyn         3  741077.854437  1937477754.43   \n",
       "4      Manhattan         1  361050.577478  636479884.362   \n",
       "\n",
       "                                            geometry  \n",
       "0  (POLYGON ((-74.05050806403247 40.5664220341608...  \n",
       "1  (POLYGON ((-73.89680883223774 40.7958084451597...  \n",
       "2  (POLYGON ((-73.83668274106707 40.5949466970158...  \n",
       "3  (POLYGON ((-73.86706149472118 40.5820879767934...  \n",
       "4  (POLYGON ((-74.01092841268031 40.6844914725429...  "
      ]
     },
     "execution_count": 29,
     "metadata": {},
     "output_type": "execute_result"
    }
   ],
   "source": [
    "df = gpd.read_file(os.getenv(\"PUIDATA\") + \"/\" + \"BoroughBoundaries.geojson\")\n",
    "df"
   ]
  },
  {
   "cell_type": "code",
   "execution_count": 30,
   "metadata": {},
   "outputs": [],
   "source": [
    "dfBroo = pd.DataFrame(columns=['birth year', 'locPoint'])\n",
    "dfManh = pd.DataFrame(columns=['birth year', 'locPoint'])\n",
    "for point in result['locPoint']:\n",
    "    if df['geometry'][3].contains(point):\n",
    "        dfBroo = dfBroo.append(result[result['locPoint']==point])\n",
    "        dfBroo['locPoint'] = 'Brooklyn'\n",
    "for point in result['locPoint']:\n",
    "    if df['geometry'][4].contains(point):\n",
    "        dfManh = dfManh.append(result[result['locPoint']==point])\n",
    "        dfManh['locPoint'] = 'Manhattan'"
   ]
  },
  {
   "cell_type": "code",
   "execution_count": 31,
   "metadata": {},
   "outputs": [
    {
     "data": {
      "text/html": [
       "<div>\n",
       "<style>\n",
       "    .dataframe thead tr:only-child th {\n",
       "        text-align: right;\n",
       "    }\n",
       "\n",
       "    .dataframe thead th {\n",
       "        text-align: left;\n",
       "    }\n",
       "\n",
       "    .dataframe tbody tr th {\n",
       "        vertical-align: top;\n",
       "    }\n",
       "</style>\n",
       "<table border=\"1\" class=\"dataframe\">\n",
       "  <thead>\n",
       "    <tr style=\"text-align: right;\">\n",
       "      <th></th>\n",
       "      <th>birth year</th>\n",
       "      <th>locPoint</th>\n",
       "    </tr>\n",
       "  </thead>\n",
       "  <tbody>\n",
       "    <tr>\n",
       "      <th>0</th>\n",
       "      <td>1988.0</td>\n",
       "      <td>Brooklyn</td>\n",
       "    </tr>\n",
       "    <tr>\n",
       "      <th>1</th>\n",
       "      <td>1973.0</td>\n",
       "      <td>Brooklyn</td>\n",
       "    </tr>\n",
       "    <tr>\n",
       "      <th>2</th>\n",
       "      <td>1978.0</td>\n",
       "      <td>Brooklyn</td>\n",
       "    </tr>\n",
       "    <tr>\n",
       "      <th>3</th>\n",
       "      <td>1989.0</td>\n",
       "      <td>Brooklyn</td>\n",
       "    </tr>\n",
       "    <tr>\n",
       "      <th>4</th>\n",
       "      <td>1979.0</td>\n",
       "      <td>Brooklyn</td>\n",
       "    </tr>\n",
       "  </tbody>\n",
       "</table>\n",
       "</div>"
      ],
      "text/plain": [
       "   birth year  locPoint\n",
       "0      1988.0  Brooklyn\n",
       "1      1973.0  Brooklyn\n",
       "2      1978.0  Brooklyn\n",
       "3      1989.0  Brooklyn\n",
       "4      1979.0  Brooklyn"
      ]
     },
     "execution_count": 31,
     "metadata": {},
     "output_type": "execute_result"
    }
   ],
   "source": [
    "#reset the index\n",
    "dfBroo.reset_index(drop=True, inplace=True)\n",
    "dfBroo.head()"
   ]
  },
  {
   "cell_type": "code",
   "execution_count": 32,
   "metadata": {},
   "outputs": [
    {
     "data": {
      "text/html": [
       "<div>\n",
       "<style>\n",
       "    .dataframe thead tr:only-child th {\n",
       "        text-align: right;\n",
       "    }\n",
       "\n",
       "    .dataframe thead th {\n",
       "        text-align: left;\n",
       "    }\n",
       "\n",
       "    .dataframe tbody tr th {\n",
       "        vertical-align: top;\n",
       "    }\n",
       "</style>\n",
       "<table border=\"1\" class=\"dataframe\">\n",
       "  <thead>\n",
       "    <tr style=\"text-align: right;\">\n",
       "      <th></th>\n",
       "      <th>birth year</th>\n",
       "      <th>locPoint</th>\n",
       "    </tr>\n",
       "  </thead>\n",
       "  <tbody>\n",
       "    <tr>\n",
       "      <th>0</th>\n",
       "      <td>1975.0</td>\n",
       "      <td>Manhattan</td>\n",
       "    </tr>\n",
       "    <tr>\n",
       "      <th>1</th>\n",
       "      <td>1968.0</td>\n",
       "      <td>Manhattan</td>\n",
       "    </tr>\n",
       "    <tr>\n",
       "      <th>2</th>\n",
       "      <td>1978.0</td>\n",
       "      <td>Manhattan</td>\n",
       "    </tr>\n",
       "    <tr>\n",
       "      <th>3</th>\n",
       "      <td>1975.0</td>\n",
       "      <td>Manhattan</td>\n",
       "    </tr>\n",
       "    <tr>\n",
       "      <th>4</th>\n",
       "      <td>1989.0</td>\n",
       "      <td>Manhattan</td>\n",
       "    </tr>\n",
       "  </tbody>\n",
       "</table>\n",
       "</div>"
      ],
      "text/plain": [
       "   birth year   locPoint\n",
       "0      1975.0  Manhattan\n",
       "1      1968.0  Manhattan\n",
       "2      1978.0  Manhattan\n",
       "3      1975.0  Manhattan\n",
       "4      1989.0  Manhattan"
      ]
     },
     "execution_count": 32,
     "metadata": {},
     "output_type": "execute_result"
    }
   ],
   "source": [
    "#reset the index\n",
    "dfManh.reset_index(drop=True, inplace=True)\n",
    "dfManh.head()"
   ]
  },
  {
   "cell_type": "code",
   "execution_count": 33,
   "metadata": {},
   "outputs": [
    {
     "data": {
      "text/plain": [
       "birth year    12117\n",
       "locPoint      12117\n",
       "dtype: int64"
      ]
     },
     "execution_count": 33,
     "metadata": {},
     "output_type": "execute_result"
    }
   ],
   "source": [
    "dfManh.count()"
   ]
  },
  {
   "cell_type": "code",
   "execution_count": 34,
   "metadata": {},
   "outputs": [
    {
     "data": {
      "text/plain": [
       "birth year    547\n",
       "locPoint      547\n",
       "dtype: int64"
      ]
     },
     "execution_count": 34,
     "metadata": {},
     "output_type": "execute_result"
    }
   ],
   "source": [
    "dfBroo.count()"
   ]
  },
  {
   "cell_type": "code",
   "execution_count": 35,
   "metadata": {},
   "outputs": [],
   "source": [
    "dfManh['age']=2017-dfManh['birth year']\n",
    "dfBroo['age']=2017-dfBroo['birth year']"
   ]
  },
  {
   "cell_type": "code",
   "execution_count": 36,
   "metadata": {},
   "outputs": [
    {
     "data": {
      "image/png": "[encoded data removed]",
      "text/plain": [
       "<matplotlib.figure.Figure at 0x10e842cc0>"
      ]
     },
     "metadata": {},
     "output_type": "display_data"
    },
    {
     "data": {
      "image/png": "[encoded data removed]",
      "text/plain": [
       "<matplotlib.figure.Figure at 0x11b508c50>"
      ]
     },
     "metadata": {},
     "output_type": "display_data"
    }
   ],
   "source": [
    "bins = np.arange(0, 101, 25)\n",
    "axManh = dfManh.age.groupby(pd.cut(dfManh.age, bins)).agg('count').plot(kind='bar', legend=False)\n",
    "axManh.set_xlabel(\"Citibike rider age\")\n",
    "axManh.set_ylabel(\"Number of trips\")\n",
    "axManh.set_title(\"Manhattan\")\n",
    "plt.show()\n",
    "axBroo = dfBroo.age.groupby(pd.cut(dfBroo.age, bins)).agg('count').plot(kind='bar', legend=False)\n",
    "axBroo.set_xlabel(\"Citibike rider age\")\n",
    "axBroo.set_ylabel(\"Number of trips\")\n",
    "axBroo.set_title(\"Brooklyn\")\n",
    "plt.show()"
   ]
  },
  {
   "cell_type": "markdown",
   "metadata": {},
   "source": [
    "#### Figure 2. The distributions of rider's age from Manhattan and Brooklyn. More people in group 25-50 use citibike."
   ]
  },
  {
   "cell_type": "markdown",
   "metadata": {},
   "source": [
    "## 2.2 KS tests to compare 2 samples"
   ]
  },
  {
   "cell_type": "code",
   "execution_count": 37,
   "metadata": {},
   "outputs": [
    {
     "name": "stdout",
     "output_type": "stream",
     "text": [
      "Ks_2sampResult(statistic=0.14770460888723735, pvalue=1.8825805907007427e-10)\n"
     ]
    }
   ],
   "source": [
    "ks = stats.ks_2samp(dfManh.age, dfBroo.age)\n",
    "print (ks)"
   ]
  },
  {
   "cell_type": "markdown",
   "metadata": {
    "collapsed": true
   },
   "source": [
    "#### Null hypothesis: The age of bikers that ride originating in Manhattan and in Brooklyn have no difference.\n",
    "#### As pvalue < alpha, we can reject the Null hypothesis.\n",
    "#### The age of bikers that ride originating in Manhattan and in Brooklyn are different."
   ]
  },
  {
   "cell_type": "code",
   "execution_count": 38,
   "metadata": {},
   "outputs": [
    {
     "name": "stdout",
     "output_type": "stream",
     "text": [
      "Ks_2sampResult(statistic=0.50819672131147542, pvalue=0.32334460514850083)\n"
     ]
    }
   ],
   "source": [
    "NdfManh = dfManh.sample(frac=0.005, replace=True)\n",
    "NdfBroo = dfBroo.sample(frac=0.005, replace=True)\n",
    "\n",
    "ks = stats.ks_2samp(NdfManh.age, NdfBroo.age)\n",
    "print (ks)"
   ]
  },
  {
   "cell_type": "markdown",
   "metadata": {},
   "source": [
    "#### Null hypothesis: The age of bikers that ride originating in Manhattan and in Brooklyn have no difference.\n",
    "#### As pvalue > alpha, we can not reject the Null hypothesis.\n",
    "#### The age of bikers that ride originating in Manhattan and in Brooklyn are not significant different."
   ]
  },
  {
   "cell_type": "code",
   "execution_count": null,
   "metadata": {},
   "outputs": [],
   "source": []
  },
  {
   "cell_type": "code",
   "execution_count": null,
   "metadata": {},
   "outputs": [],
   "source": []
  },
  {
   "cell_type": "code",
   "execution_count": null,
   "metadata": {},
   "outputs": [],
   "source": []
  },
  {
   "cell_type": "markdown",
   "metadata": {},
   "source": [
    "## 2.3 Pearson's  test for correlation"
   ]
  },
  {
   "cell_type": "markdown",
   "metadata": {
    "collapsed": true
   },
   "source": [
    "#### Null Hypothesis: There is no correlation between Manhattan and Brooklyn in terms of the age of riders."
   ]
  },
  {
   "cell_type": "code",
   "execution_count": 39,
   "metadata": {},
   "outputs": [],
   "source": [
    "PManh = np.random.choice(dfManh.age, 500)\n",
    "PManh.sort()\n",
    "PBroo = np.random.choice(dfBroo.age, 500)\n",
    "PBroo.sort()"
   ]
  },
  {
   "cell_type": "code",
   "execution_count": 40,
   "metadata": {},
   "outputs": [
    {
     "data": {
      "text/plain": [
       "(0.98414067527128291, 0.0)"
      ]
     },
     "execution_count": 40,
     "metadata": {},
     "output_type": "execute_result"
    }
   ],
   "source": [
    "stats.pearsonr(PManh, PBroo)"
   ]
  },
  {
   "cell_type": "markdown",
   "metadata": {},
   "source": [
    "#### Pearson's corr. coef. = 0.98414067527128291\n",
    "#### pvalue = 0.0\n",
    "#### As pvalue < alpha, we can reject the Null hypothesis. \n",
    "#### There is positive correlation between Manhattan and Brooklyn in terms of the age of riders."
   ]
  },
  {
   "cell_type": "markdown",
   "metadata": {},
   "source": [
    "## 2.4 Spearman's  test for correlation"
   ]
  },
  {
   "cell_type": "markdown",
   "metadata": {
    "collapsed": true
   },
   "source": [
    "#### Null Hypothesis: There is no correlation between Manhattan and Brooklyn in terms of the age of riders."
   ]
  },
  {
   "cell_type": "code",
   "execution_count": 41,
   "metadata": {},
   "outputs": [
    {
     "data": {
      "text/plain": [
       "SpearmanrResult(correlation=0.99851119955009171, pvalue=0.0)"
      ]
     },
     "execution_count": 41,
     "metadata": {},
     "output_type": "execute_result"
    }
   ],
   "source": [
    "stats.spearmanr(PManh, PBroo)"
   ]
  },
  {
   "cell_type": "markdown",
   "metadata": {
    "collapsed": true
   },
   "source": [
    "#### Spearman's corr. coef. = 0.9999951039556455\n",
    "#### pvalue = 0.0\n",
    "#### As pvalue < alpha, we can reject the Null hypothesis. \n",
    "#### There is positive correlation between Manhattan and Brooklyn in terms of the age of riders."
   ]
  }
 ],
 "metadata": {
  "anaconda-cloud": {},
  "kernelspec": {
   "display_name": "Python 3",
   "language": "python",
   "name": "python3"
  },
  "language_info": {
   "codemirror_mode": {
    "name": "ipython",
    "version": 3
   },
   "file_extension": ".py",
   "mimetype": "text/x-python",
   "name": "python",
   "nbconvert_exporter": "python",
   "pygments_lexer": "ipython3",
   "version": "3.6.1"
  },
  "latex_envs": {
   "LaTeX_envs_menu_present": true,
   "bibliofile": "biblio.bib",
   "cite_by": "apalike",
   "current_citInitial": 1,
   "eqLabelWithNumbers": true,
   "eqNumInitial": 1,
   "hotkeys": {
    "equation": "Ctrl-E",
    "itemize": "Ctrl-I"
   },
   "labels_anchors": false,
   "latex_user_defs": false,
   "report_style_numbering": false,
   "user_envs_cfg": false
  },
  "toc": {
   "colors": {
    "hover_highlight": "#DAA520",
    "running_highlight": "#FF0000",
    "selected_highlight": "#FFD700"
   },
   "moveMenuLeft": true,
   "nav_menu": {
    "height": "135px",
    "width": "251px"
   },
   "navigate_menu": true,
   "number_sections": true,
   "sideBar": true,
   "threshold": 4,
   "toc_cell": false,
   "toc_section_display": "block",
   "toc_window_display": false
  }
 },
 "nbformat": 4,
 "nbformat_minor": 1
}
